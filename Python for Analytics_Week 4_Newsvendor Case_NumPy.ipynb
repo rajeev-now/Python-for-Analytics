{
 "cells": [
  {
   "cell_type": "markdown",
   "metadata": {},
   "source": [
    "# Week 4 - Activities\n",
    "\n",
    "Learning objectives:\n",
    "1. Review discrete probability distribution\n",
    "2. NumPy arrays and element-wise operations\n",
    "3. Print strings with the method <code>format()</code>\n",
    "\n",
    "## Case Study: A Newsvendor Problem (Array Version)\n",
    "***Background***: In this case study, we will solve the previous newsvendor problem using NumPy arrays, in order to show the benefits of element-wise operations. The discrete probability distribution is again given as the following table.\n",
    "\n",
    "| $ $ |probabilities|paper1|paper2|\n",
    "|:----|:---------|:----------|:----------|\n",
    "|Sunny| 0.315 | 560  | 533 | \n",
    "|Cloudy | 0.226 | 530 | 486 | \n",
    "|Raining | 0.289 | 389 | 386 | \n",
    "|Thunderstorm| 0.087 | 202 | 234 |\n",
    "|Haze| 0.083 | 278 | 263 |\n",
    "\n",
    "The table above is expressed by the two-dimensional NumPy array <code>distr</code>."
   ]
  },
  {
   "cell_type": "code",
   "execution_count": 14,
   "metadata": {
    "scrolled": true
   },
   "outputs": [
    {
     "data": {
      "text/plain": [
       "array([[3.15e-01, 2.26e-01, 2.89e-01, 8.70e-02, 8.30e-02],\n",
       "       [5.60e+02, 5.30e+02, 3.89e+02, 2.02e+02, 2.78e+02],\n",
       "       [5.33e+02, 4.86e+02, 3.86e+02, 2.34e+02, 2.63e+02]])"
      ]
     },
     "execution_count": 14,
     "metadata": {},
     "output_type": "execute_result"
    }
   ],
   "source": [
    "import numpy as np\n",
    "\n",
    "distr = np.array([[0.315, 0.226, 0.289, 0.087, 0.083],\n",
    "                  [560, 530, 389, 202, 278],\n",
    "                  [533, 486, 386, 234, 263]])\n",
    "\n",
    "distr"
   ]
  },
  {
   "cell_type": "markdown",
   "metadata": {},
   "source": [
    "In this two-dimensional array, the first row represents the probabilities of all weather types, the second and the third rows are the demands of two newspapers under different weather conditions. "
   ]
  },
  {
   "cell_type": "markdown",
   "metadata": {},
   "source": [
    "### Task 1\n",
    "\n",
    "Calculate the expected values of the demands of <code>paper1</code> and <code>paper2</code>. \n",
    "\n",
    "***Solution***: Recalling that the mean value is expressed as\n",
    "$$\n",
    "\\mathbb{E}(D_{\\text{paper}}) = \\sum\\limits_{s=1}^S p_s d_s\n",
    "$$\n",
    "where $p_s$ is the probability, and $d_{s}$ is the demand of <code>paper</code>, under weather $s$. "
   ]
  },
  {
   "cell_type": "code",
   "execution_count": 15,
   "metadata": {},
   "outputs": [
    {
     "data": {
      "text/plain": [
       "449.249"
      ]
     },
     "execution_count": 15,
     "metadata": {},
     "output_type": "execute_result"
    }
   ],
   "source": [
    "sum(distr[0] * distr[1])"
   ]
  },
  {
   "cell_type": "code",
   "execution_count": 18,
   "metadata": {},
   "outputs": [
    {
     "data": {
      "text/plain": [
       "array([449.249, 431.472])"
      ]
     },
     "execution_count": 18,
     "metadata": {},
     "output_type": "execute_result"
    }
   ],
   "source": [
    "exp_d = np.sum(distr[0] * distr[1:], axis = 1)\n",
    "exp_d"
   ]
  },
  {
   "cell_type": "markdown",
   "metadata": {},
   "source": [
    "### Task 2\n",
    "Calculate the standard deviation of paper demands, expressed as \n",
    "$$\n",
    "\\sigma_D = \\sqrt{\\sum\\limits_{s=1}^S p_s (d_{s} - \\mathbb{E}(D_{\\text{paper}}))^2}\n",
    "$$\n",
    "\n",
    "***Solution***: \n",
    "\n",
    "The most convenient and practical way to calculate the standard deviations is to use the broadcasting of <code>NumPy</code> arrays. Please read this [chapter](https://jakevdp.github.io/PythonDataScienceHandbook/02.05-computation-on-arrays-broadcasting.html) of the reference book to learn this technique.\n",
    "\n",
    "In this chapter, you may need to use the method <code>reshape</code> of the array data object. Document of this method is given [here](https://numpy.org/doc/1.18/reference/generated/numpy.reshape.html)."
   ]
  },
  {
   "cell_type": "code",
   "execution_count": 36,
   "metadata": {},
   "outputs": [
    {
     "data": {
      "text/plain": [
       "array([118.90763222, 101.3157797 ])"
      ]
     },
     "execution_count": 36,
     "metadata": {},
     "output_type": "execute_result"
    }
   ],
   "source": [
    "(np.sum(distr[0]*(distr[1:] - exp_d.reshape(2,1))**2, axis=1))**0.5"
   ]
  },
  {
   "cell_type": "code",
   "execution_count": null,
   "metadata": {},
   "outputs": [],
   "source": []
  },
  {
   "cell_type": "markdown",
   "metadata": {},
   "source": [
    "### Task 3\n",
    "Suppose that the costs of <code>paper1</code> and <code>paper2</code> are 0.6 and 0.8 dollars, and the selling prices of <code>paper1</code> and <code>paper2</code> are $\\$1.00$ and $\\$1.15$, respectively. Calculate the expected total profit if the newsboy has ordered 430 pieces of <code>paper1</code> and 380 pieces of <code>paper2</code>. \n",
    "\n",
    "**Solution**:\n",
    "\n",
    "The expected sold quantities can be firstly calculated as an array."
   ]
  },
  {
   "cell_type": "code",
   "execution_count": 38,
   "metadata": {
    "scrolled": false
   },
   "outputs": [
    {
     "data": {
      "text/plain": [
       "array([[1.  ],\n",
       "       [1.15]])"
      ]
     },
     "execution_count": 38,
     "metadata": {},
     "output_type": "execute_result"
    }
   ],
   "source": [
    "price = np.array([[1],[1.15]])\n",
    "price"
   ]
  },
  {
   "cell_type": "code",
   "execution_count": 39,
   "metadata": {},
   "outputs": [
    {
     "data": {
      "text/plain": [
       "array([[430],\n",
       "       [380]])"
      ]
     },
     "execution_count": 39,
     "metadata": {},
     "output_type": "execute_result"
    }
   ],
   "source": [
    "orders = np.array([[430],[380]])\n",
    "orders"
   ]
  },
  {
   "cell_type": "code",
   "execution_count": 41,
   "metadata": {},
   "outputs": [
    {
     "data": {
      "text/plain": [
       "array([[430., 430., 389., 202., 278.],\n",
       "       [380., 380., 380., 234., 263.]])"
      ]
     },
     "execution_count": 41,
     "metadata": {},
     "output_type": "execute_result"
    }
   ],
   "source": [
    "sales = np.minimum(distr[1:], orders)\n",
    "sales"
   ]
  },
  {
   "cell_type": "code",
   "execution_count": 48,
   "metadata": {},
   "outputs": [
    {
     "data": {
      "text/plain": [
       "array([[385.699],\n",
       "       [357.587]])"
      ]
     },
     "execution_count": 48,
     "metadata": {},
     "output_type": "execute_result"
    }
   ],
   "source": [
    "np.sum(distr[0]*sales, axis =1).reshape(2,1)"
   ]
  },
  {
   "cell_type": "markdown",
   "metadata": {},
   "source": [
    "By using the array of expected sold quantities, the expected profit can also be calculated via broadcasting and element-wise operations."
   ]
  },
  {
   "cell_type": "code",
   "execution_count": 50,
   "metadata": {},
   "outputs": [
    {
     "data": {
      "text/plain": [
       "array([[127.699  ],\n",
       "       [107.22505]])"
      ]
     },
     "execution_count": 50,
     "metadata": {},
     "output_type": "execute_result"
    }
   ],
   "source": [
    "profit = np.sum(distr[0]*sales, axis =1).reshape(2,1)*price - orders*np.array([[0.6],[0.8]])\n",
    "profit"
   ]
  },
  {
   "cell_type": "code",
   "execution_count": 52,
   "metadata": {},
   "outputs": [
    {
     "data": {
      "text/plain": [
       "234.92404999999997"
      ]
     },
     "execution_count": 52,
     "metadata": {},
     "output_type": "execute_result"
    }
   ],
   "source": [
    "np.sum(profit)"
   ]
  },
  {
   "cell_type": "markdown",
   "metadata": {},
   "source": [
    "### Task 4\n",
    "\n",
    "Write a function <code>sold_fun</code> to calculate the expected sold quantities. The input arguments are:\n",
    "1. The order quantity as an one-dimensional array <code>order</code>.\n",
    "2. The discrete distribution expressed as a two-dimensional array <code>distr</code>.\n",
    "\n",
    "**Solution**:"
   ]
  },
  {
   "cell_type": "code",
   "execution_count": 55,
   "metadata": {},
   "outputs": [],
   "source": [
    "def sold_fun(order, distr):\n",
    "    orders = np.array([[430],[380]])\n",
    "    price = np.array([[1],[1.15]])\n",
    "    sales = np.minimum(distr[1:], orders)\n",
    "    profit = np.sum(distr[0]*sales, axis =1).reshape(2,1)*price - orders*np.array([[0.6],[0.8]])\n",
    "    \n",
    "    return np.sum(profit)\n",
    "    "
   ]
  },
  {
   "cell_type": "code",
   "execution_count": 56,
   "metadata": {},
   "outputs": [
    {
     "data": {
      "text/plain": [
       "234.92404999999997"
      ]
     },
     "execution_count": 56,
     "metadata": {},
     "output_type": "execute_result"
    }
   ],
   "source": [
    "sold_fun(np.array([430,380]), distr)"
   ]
  }
 ],
 "metadata": {
  "kernelspec": {
   "display_name": "Python 3",
   "language": "python",
   "name": "python3"
  },
  "language_info": {
   "codemirror_mode": {
    "name": "ipython",
    "version": 3
   },
   "file_extension": ".py",
   "mimetype": "text/x-python",
   "name": "python",
   "nbconvert_exporter": "python",
   "pygments_lexer": "ipython3",
   "version": "3.8.8"
  }
 },
 "nbformat": 4,
 "nbformat_minor": 2
}
