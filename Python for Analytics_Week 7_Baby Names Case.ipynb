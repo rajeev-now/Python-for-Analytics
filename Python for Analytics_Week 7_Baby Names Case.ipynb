{
 "cells": [
  {
   "cell_type": "markdown",
   "metadata": {},
   "source": [
    "# Case Study - Babies' names in the US from 1880 to 2015\n",
    "\n",
    "## Learning Objectives:\n",
    "1. Perform group-wise operations using Pandas\n",
    "2. Familiar with Pandas’s groupby objects \n",
    "3. Practice aggregate, filter and apply functions in Pandas  "
   ]
  },
  {
   "cell_type": "code",
   "execution_count": 1,
   "metadata": {},
   "outputs": [],
   "source": [
    "import numpy as np\n",
    "import pandas as pd"
   ]
  },
  {
   "cell_type": "markdown",
   "metadata": {},
   "source": [
    "<i><b>Background</b></i>: The dataset, `babynames.csv`, keeps the record of all the male/female baby names in the US from 1880 to 2015, together with their corresponding count (\"n\") and proportion (\"prop\") among all the new borns in that year. We will use this dataset to practice group-wise operations using Pandas."
   ]
  },
  {
   "cell_type": "markdown",
   "metadata": {},
   "source": [
    "### Load data"
   ]
  },
  {
   "cell_type": "code",
   "execution_count": 3,
   "metadata": {},
   "outputs": [],
   "source": [
    "babynames = pd.read_csv(\"babynames.csv\")"
   ]
  },
  {
   "cell_type": "code",
   "execution_count": 4,
   "metadata": {},
   "outputs": [
    {
     "data": {
      "text/html": [
       "<div>\n",
       "<style scoped>\n",
       "    .dataframe tbody tr th:only-of-type {\n",
       "        vertical-align: middle;\n",
       "    }\n",
       "\n",
       "    .dataframe tbody tr th {\n",
       "        vertical-align: top;\n",
       "    }\n",
       "\n",
       "    .dataframe thead th {\n",
       "        text-align: right;\n",
       "    }\n",
       "</style>\n",
       "<table border=\"1\" class=\"dataframe\">\n",
       "  <thead>\n",
       "    <tr style=\"text-align: right;\">\n",
       "      <th></th>\n",
       "      <th>year</th>\n",
       "      <th>sex</th>\n",
       "      <th>name</th>\n",
       "      <th>n</th>\n",
       "      <th>prop</th>\n",
       "    </tr>\n",
       "  </thead>\n",
       "  <tbody>\n",
       "    <tr>\n",
       "      <th>0</th>\n",
       "      <td>1880</td>\n",
       "      <td>F</td>\n",
       "      <td>Mary</td>\n",
       "      <td>7065</td>\n",
       "      <td>0.072384</td>\n",
       "    </tr>\n",
       "    <tr>\n",
       "      <th>1</th>\n",
       "      <td>1880</td>\n",
       "      <td>F</td>\n",
       "      <td>Anna</td>\n",
       "      <td>2604</td>\n",
       "      <td>0.026679</td>\n",
       "    </tr>\n",
       "    <tr>\n",
       "      <th>2</th>\n",
       "      <td>1880</td>\n",
       "      <td>F</td>\n",
       "      <td>Emma</td>\n",
       "      <td>2003</td>\n",
       "      <td>0.020522</td>\n",
       "    </tr>\n",
       "    <tr>\n",
       "      <th>3</th>\n",
       "      <td>1880</td>\n",
       "      <td>F</td>\n",
       "      <td>Elizabeth</td>\n",
       "      <td>1939</td>\n",
       "      <td>0.019866</td>\n",
       "    </tr>\n",
       "    <tr>\n",
       "      <th>4</th>\n",
       "      <td>1880</td>\n",
       "      <td>F</td>\n",
       "      <td>Minnie</td>\n",
       "      <td>1746</td>\n",
       "      <td>0.017889</td>\n",
       "    </tr>\n",
       "    <tr>\n",
       "      <th>5</th>\n",
       "      <td>1880</td>\n",
       "      <td>F</td>\n",
       "      <td>Margaret</td>\n",
       "      <td>1578</td>\n",
       "      <td>0.016167</td>\n",
       "    </tr>\n",
       "    <tr>\n",
       "      <th>6</th>\n",
       "      <td>1880</td>\n",
       "      <td>F</td>\n",
       "      <td>Ida</td>\n",
       "      <td>1472</td>\n",
       "      <td>0.015081</td>\n",
       "    </tr>\n",
       "    <tr>\n",
       "      <th>7</th>\n",
       "      <td>1880</td>\n",
       "      <td>F</td>\n",
       "      <td>Alice</td>\n",
       "      <td>1414</td>\n",
       "      <td>0.014487</td>\n",
       "    </tr>\n",
       "    <tr>\n",
       "      <th>8</th>\n",
       "      <td>1880</td>\n",
       "      <td>F</td>\n",
       "      <td>Bertha</td>\n",
       "      <td>1320</td>\n",
       "      <td>0.013524</td>\n",
       "    </tr>\n",
       "    <tr>\n",
       "      <th>9</th>\n",
       "      <td>1880</td>\n",
       "      <td>F</td>\n",
       "      <td>Sarah</td>\n",
       "      <td>1288</td>\n",
       "      <td>0.013196</td>\n",
       "    </tr>\n",
       "  </tbody>\n",
       "</table>\n",
       "</div>"
      ],
      "text/plain": [
       "   year sex       name     n      prop\n",
       "0  1880   F       Mary  7065  0.072384\n",
       "1  1880   F       Anna  2604  0.026679\n",
       "2  1880   F       Emma  2003  0.020522\n",
       "3  1880   F  Elizabeth  1939  0.019866\n",
       "4  1880   F     Minnie  1746  0.017889\n",
       "5  1880   F   Margaret  1578  0.016167\n",
       "6  1880   F        Ida  1472  0.015081\n",
       "7  1880   F      Alice  1414  0.014487\n",
       "8  1880   F     Bertha  1320  0.013524\n",
       "9  1880   F      Sarah  1288  0.013196"
      ]
     },
     "execution_count": 4,
     "metadata": {},
     "output_type": "execute_result"
    }
   ],
   "source": [
    "babynames.head(10)"
   ]
  },
  {
   "cell_type": "code",
   "execution_count": null,
   "metadata": {},
   "outputs": [],
   "source": []
  },
  {
   "cell_type": "markdown",
   "metadata": {},
   "source": [
    "### Task 1. On Hilary"
   ]
  },
  {
   "cell_type": "markdown",
   "metadata": {},
   "source": [
    "Let's focus on a particular baby name first. Let's find out the name 'Hilary' appears in our data"
   ]
  },
  {
   "cell_type": "code",
   "execution_count": 5,
   "metadata": {},
   "outputs": [],
   "source": [
    "fil_hilary = (babynames['name'] == 'Hilary')\n",
    "hilary = babynames.loc[fil_hilary,:]"
   ]
  },
  {
   "cell_type": "code",
   "execution_count": 6,
   "metadata": {},
   "outputs": [
    {
     "data": {
      "text/html": [
       "<div>\n",
       "<style scoped>\n",
       "    .dataframe tbody tr th:only-of-type {\n",
       "        vertical-align: middle;\n",
       "    }\n",
       "\n",
       "    .dataframe tbody tr th {\n",
       "        vertical-align: top;\n",
       "    }\n",
       "\n",
       "    .dataframe thead th {\n",
       "        text-align: right;\n",
       "    }\n",
       "</style>\n",
       "<table border=\"1\" class=\"dataframe\">\n",
       "  <thead>\n",
       "    <tr style=\"text-align: right;\">\n",
       "      <th></th>\n",
       "      <th>year</th>\n",
       "      <th>sex</th>\n",
       "      <th>name</th>\n",
       "      <th>n</th>\n",
       "      <th>prop</th>\n",
       "    </tr>\n",
       "  </thead>\n",
       "  <tbody>\n",
       "    <tr>\n",
       "      <th>5757</th>\n",
       "      <td>1882</td>\n",
       "      <td>M</td>\n",
       "      <td>Hilary</td>\n",
       "      <td>7</td>\n",
       "      <td>0.000057</td>\n",
       "    </tr>\n",
       "    <tr>\n",
       "      <th>7952</th>\n",
       "      <td>1883</td>\n",
       "      <td>M</td>\n",
       "      <td>Hilary</td>\n",
       "      <td>6</td>\n",
       "      <td>0.000053</td>\n",
       "    </tr>\n",
       "    <tr>\n",
       "      <th>17221</th>\n",
       "      <td>1887</td>\n",
       "      <td>M</td>\n",
       "      <td>Hilary</td>\n",
       "      <td>7</td>\n",
       "      <td>0.000064</td>\n",
       "    </tr>\n",
       "    <tr>\n",
       "      <th>27703</th>\n",
       "      <td>1891</td>\n",
       "      <td>M</td>\n",
       "      <td>Hilary</td>\n",
       "      <td>8</td>\n",
       "      <td>0.000073</td>\n",
       "    </tr>\n",
       "    <tr>\n",
       "      <th>42705</th>\n",
       "      <td>1896</td>\n",
       "      <td>M</td>\n",
       "      <td>Hilary</td>\n",
       "      <td>6</td>\n",
       "      <td>0.000046</td>\n",
       "    </tr>\n",
       "    <tr>\n",
       "      <th>45867</th>\n",
       "      <td>1897</td>\n",
       "      <td>M</td>\n",
       "      <td>Hilary</td>\n",
       "      <td>5</td>\n",
       "      <td>0.000041</td>\n",
       "    </tr>\n",
       "    <tr>\n",
       "      <th>49142</th>\n",
       "      <td>1898</td>\n",
       "      <td>M</td>\n",
       "      <td>Hilary</td>\n",
       "      <td>5</td>\n",
       "      <td>0.000038</td>\n",
       "    </tr>\n",
       "    <tr>\n",
       "      <th>62078</th>\n",
       "      <td>1902</td>\n",
       "      <td>M</td>\n",
       "      <td>Hilary</td>\n",
       "      <td>8</td>\n",
       "      <td>0.000060</td>\n",
       "    </tr>\n",
       "    <tr>\n",
       "      <th>69355</th>\n",
       "      <td>1904</td>\n",
       "      <td>M</td>\n",
       "      <td>Hilary</td>\n",
       "      <td>5</td>\n",
       "      <td>0.000036</td>\n",
       "    </tr>\n",
       "    <tr>\n",
       "      <th>72854</th>\n",
       "      <td>1905</td>\n",
       "      <td>M</td>\n",
       "      <td>Hilary</td>\n",
       "      <td>6</td>\n",
       "      <td>0.000042</td>\n",
       "    </tr>\n",
       "  </tbody>\n",
       "</table>\n",
       "</div>"
      ],
      "text/plain": [
       "       year sex    name  n      prop\n",
       "5757   1882   M  Hilary  7  0.000057\n",
       "7952   1883   M  Hilary  6  0.000053\n",
       "17221  1887   M  Hilary  7  0.000064\n",
       "27703  1891   M  Hilary  8  0.000073\n",
       "42705  1896   M  Hilary  6  0.000046\n",
       "45867  1897   M  Hilary  5  0.000041\n",
       "49142  1898   M  Hilary  5  0.000038\n",
       "62078  1902   M  Hilary  8  0.000060\n",
       "69355  1904   M  Hilary  5  0.000036\n",
       "72854  1905   M  Hilary  6  0.000042"
      ]
     },
     "execution_count": 6,
     "metadata": {},
     "output_type": "execute_result"
    }
   ],
   "source": [
    "hilary.head(10)"
   ]
  },
  {
   "cell_type": "markdown",
   "metadata": {
    "collapsed": true
   },
   "source": [
    "## Task 1-1. Find out the number of males and number of females with the name 'Hilary' in each year.\n",
    "\n",
    "#### Hint:- GROUP all the males and all the females, having name 'Hilary' and find out the TOTAL number"
   ]
  },
  {
   "cell_type": "code",
   "execution_count": null,
   "metadata": {},
   "outputs": [],
   "source": [
    "### Write your code here\n",
    "### "
   ]
  },
  {
   "cell_type": "code",
   "execution_count": 7,
   "metadata": {},
   "outputs": [
    {
     "data": {
      "text/plain": [
       "year  sex\n",
       "1882  M      1\n",
       "1883  M      1\n",
       "1887  M      1\n",
       "1891  M      1\n",
       "1896  M      1\n",
       "            ..\n",
       "2011  F      1\n",
       "2012  F      1\n",
       "2013  F      1\n",
       "2014  F      1\n",
       "2015  F      1\n",
       "Length: 191, dtype: int64"
      ]
     },
     "execution_count": 7,
     "metadata": {},
     "output_type": "execute_result"
    }
   ],
   "source": [
    "### Solution\n",
    "hilary.groupby(['year', 'sex'])[\"n\"].sum() #just use sum to show the numbers"
   ]
  },
  {
   "cell_type": "code",
   "execution_count": null,
   "metadata": {},
   "outputs": [],
   "source": []
  },
  {
   "cell_type": "code",
   "execution_count": null,
   "metadata": {},
   "outputs": [],
   "source": []
  },
  {
   "cell_type": "markdown",
   "metadata": {},
   "source": [
    "### Task 2. Group-wise operations"
   ]
  },
  {
   "cell_type": "markdown",
   "metadata": {},
   "source": [
    "## Task 2-1. Count the number of names by year and sex\n",
    "#### Find out the TOTAL number of names Grouped By sex for each year"
   ]
  },
  {
   "cell_type": "code",
   "execution_count": null,
   "metadata": {},
   "outputs": [],
   "source": [
    "### Write your code here\n",
    "### "
   ]
  },
  {
   "cell_type": "code",
   "execution_count": 8,
   "metadata": {},
   "outputs": [
    {
     "data": {
      "text/plain": [
       "year  sex\n",
       "1880  F        942\n",
       "      M       1058\n",
       "1881  F        938\n",
       "      M        997\n",
       "1882  F       1028\n",
       "             ...  \n",
       "2013  M      14026\n",
       "2014  F      19150\n",
       "      M      14026\n",
       "2015  F      18993\n",
       "      M      13959\n",
       "Length: 272, dtype: int64"
      ]
     },
     "execution_count": 8,
     "metadata": {},
     "output_type": "execute_result"
    }
   ],
   "source": [
    "### Solution\n",
    "babynames.groupby(['year', 'sex']).size()"
   ]
  },
  {
   "cell_type": "code",
   "execution_count": null,
   "metadata": {},
   "outputs": [],
   "source": []
  },
  {
   "cell_type": "code",
   "execution_count": null,
   "metadata": {},
   "outputs": [],
   "source": []
  },
  {
   "cell_type": "markdown",
   "metadata": {},
   "source": [
    "## Task 2-2. Calculate ranking of each name for each year and sex combination. Which names were most popular in 1999? \n",
    "#### Hint: ranking can be calculated using argsort() in a lambda function. "
   ]
  },
  {
   "cell_type": "code",
   "execution_count": null,
   "metadata": {},
   "outputs": [],
   "source": [
    "### Write your code here\n",
    "### "
   ]
  },
  {
   "cell_type": "code",
   "execution_count": 9,
   "metadata": {},
   "outputs": [
    {
     "data": {
      "text/html": [
       "<div>\n",
       "<style scoped>\n",
       "    .dataframe tbody tr th:only-of-type {\n",
       "        vertical-align: middle;\n",
       "    }\n",
       "\n",
       "    .dataframe tbody tr th {\n",
       "        vertical-align: top;\n",
       "    }\n",
       "\n",
       "    .dataframe thead th {\n",
       "        text-align: right;\n",
       "    }\n",
       "</style>\n",
       "<table border=\"1\" class=\"dataframe\">\n",
       "  <thead>\n",
       "    <tr style=\"text-align: right;\">\n",
       "      <th></th>\n",
       "      <th>year</th>\n",
       "      <th>sex</th>\n",
       "      <th>name</th>\n",
       "      <th>n</th>\n",
       "      <th>prop</th>\n",
       "      <th>rank</th>\n",
       "    </tr>\n",
       "  </thead>\n",
       "  <tbody>\n",
       "    <tr>\n",
       "      <th>0</th>\n",
       "      <td>1880</td>\n",
       "      <td>F</td>\n",
       "      <td>Mary</td>\n",
       "      <td>7065</td>\n",
       "      <td>0.072384</td>\n",
       "      <td>0</td>\n",
       "    </tr>\n",
       "    <tr>\n",
       "      <th>1</th>\n",
       "      <td>1880</td>\n",
       "      <td>F</td>\n",
       "      <td>Anna</td>\n",
       "      <td>2604</td>\n",
       "      <td>0.026679</td>\n",
       "      <td>1</td>\n",
       "    </tr>\n",
       "    <tr>\n",
       "      <th>2</th>\n",
       "      <td>1880</td>\n",
       "      <td>F</td>\n",
       "      <td>Emma</td>\n",
       "      <td>2003</td>\n",
       "      <td>0.020522</td>\n",
       "      <td>2</td>\n",
       "    </tr>\n",
       "    <tr>\n",
       "      <th>3</th>\n",
       "      <td>1880</td>\n",
       "      <td>F</td>\n",
       "      <td>Elizabeth</td>\n",
       "      <td>1939</td>\n",
       "      <td>0.019866</td>\n",
       "      <td>3</td>\n",
       "    </tr>\n",
       "    <tr>\n",
       "      <th>4</th>\n",
       "      <td>1880</td>\n",
       "      <td>F</td>\n",
       "      <td>Minnie</td>\n",
       "      <td>1746</td>\n",
       "      <td>0.017889</td>\n",
       "      <td>4</td>\n",
       "    </tr>\n",
       "    <tr>\n",
       "      <th>5</th>\n",
       "      <td>1880</td>\n",
       "      <td>F</td>\n",
       "      <td>Margaret</td>\n",
       "      <td>1578</td>\n",
       "      <td>0.016167</td>\n",
       "      <td>5</td>\n",
       "    </tr>\n",
       "    <tr>\n",
       "      <th>6</th>\n",
       "      <td>1880</td>\n",
       "      <td>F</td>\n",
       "      <td>Ida</td>\n",
       "      <td>1472</td>\n",
       "      <td>0.015081</td>\n",
       "      <td>6</td>\n",
       "    </tr>\n",
       "    <tr>\n",
       "      <th>7</th>\n",
       "      <td>1880</td>\n",
       "      <td>F</td>\n",
       "      <td>Alice</td>\n",
       "      <td>1414</td>\n",
       "      <td>0.014487</td>\n",
       "      <td>7</td>\n",
       "    </tr>\n",
       "    <tr>\n",
       "      <th>8</th>\n",
       "      <td>1880</td>\n",
       "      <td>F</td>\n",
       "      <td>Bertha</td>\n",
       "      <td>1320</td>\n",
       "      <td>0.013524</td>\n",
       "      <td>8</td>\n",
       "    </tr>\n",
       "    <tr>\n",
       "      <th>9</th>\n",
       "      <td>1880</td>\n",
       "      <td>F</td>\n",
       "      <td>Sarah</td>\n",
       "      <td>1288</td>\n",
       "      <td>0.013196</td>\n",
       "      <td>9</td>\n",
       "    </tr>\n",
       "    <tr>\n",
       "      <th>10</th>\n",
       "      <td>1880</td>\n",
       "      <td>F</td>\n",
       "      <td>Annie</td>\n",
       "      <td>1258</td>\n",
       "      <td>0.012889</td>\n",
       "      <td>10</td>\n",
       "    </tr>\n",
       "    <tr>\n",
       "      <th>11</th>\n",
       "      <td>1880</td>\n",
       "      <td>F</td>\n",
       "      <td>Clara</td>\n",
       "      <td>1226</td>\n",
       "      <td>0.012561</td>\n",
       "      <td>11</td>\n",
       "    </tr>\n",
       "    <tr>\n",
       "      <th>12</th>\n",
       "      <td>1880</td>\n",
       "      <td>F</td>\n",
       "      <td>Ella</td>\n",
       "      <td>1156</td>\n",
       "      <td>0.011844</td>\n",
       "      <td>12</td>\n",
       "    </tr>\n",
       "    <tr>\n",
       "      <th>13</th>\n",
       "      <td>1880</td>\n",
       "      <td>F</td>\n",
       "      <td>Florence</td>\n",
       "      <td>1063</td>\n",
       "      <td>0.010891</td>\n",
       "      <td>13</td>\n",
       "    </tr>\n",
       "    <tr>\n",
       "      <th>14</th>\n",
       "      <td>1880</td>\n",
       "      <td>F</td>\n",
       "      <td>Cora</td>\n",
       "      <td>1045</td>\n",
       "      <td>0.010707</td>\n",
       "      <td>14</td>\n",
       "    </tr>\n",
       "    <tr>\n",
       "      <th>15</th>\n",
       "      <td>1880</td>\n",
       "      <td>F</td>\n",
       "      <td>Martha</td>\n",
       "      <td>1040</td>\n",
       "      <td>0.010655</td>\n",
       "      <td>15</td>\n",
       "    </tr>\n",
       "    <tr>\n",
       "      <th>16</th>\n",
       "      <td>1880</td>\n",
       "      <td>F</td>\n",
       "      <td>Laura</td>\n",
       "      <td>1012</td>\n",
       "      <td>0.010368</td>\n",
       "      <td>16</td>\n",
       "    </tr>\n",
       "    <tr>\n",
       "      <th>17</th>\n",
       "      <td>1880</td>\n",
       "      <td>F</td>\n",
       "      <td>Nellie</td>\n",
       "      <td>995</td>\n",
       "      <td>0.010194</td>\n",
       "      <td>17</td>\n",
       "    </tr>\n",
       "    <tr>\n",
       "      <th>18</th>\n",
       "      <td>1880</td>\n",
       "      <td>F</td>\n",
       "      <td>Grace</td>\n",
       "      <td>982</td>\n",
       "      <td>0.010061</td>\n",
       "      <td>18</td>\n",
       "    </tr>\n",
       "    <tr>\n",
       "      <th>19</th>\n",
       "      <td>1880</td>\n",
       "      <td>F</td>\n",
       "      <td>Carrie</td>\n",
       "      <td>949</td>\n",
       "      <td>0.009723</td>\n",
       "      <td>19</td>\n",
       "    </tr>\n",
       "  </tbody>\n",
       "</table>\n",
       "</div>"
      ],
      "text/plain": [
       "    year sex       name     n      prop  rank\n",
       "0   1880   F       Mary  7065  0.072384     0\n",
       "1   1880   F       Anna  2604  0.026679     1\n",
       "2   1880   F       Emma  2003  0.020522     2\n",
       "3   1880   F  Elizabeth  1939  0.019866     3\n",
       "4   1880   F     Minnie  1746  0.017889     4\n",
       "5   1880   F   Margaret  1578  0.016167     5\n",
       "6   1880   F        Ida  1472  0.015081     6\n",
       "7   1880   F      Alice  1414  0.014487     7\n",
       "8   1880   F     Bertha  1320  0.013524     8\n",
       "9   1880   F      Sarah  1288  0.013196     9\n",
       "10  1880   F      Annie  1258  0.012889    10\n",
       "11  1880   F      Clara  1226  0.012561    11\n",
       "12  1880   F       Ella  1156  0.011844    12\n",
       "13  1880   F   Florence  1063  0.010891    13\n",
       "14  1880   F       Cora  1045  0.010707    14\n",
       "15  1880   F     Martha  1040  0.010655    15\n",
       "16  1880   F      Laura  1012  0.010368    16\n",
       "17  1880   F     Nellie   995  0.010194    17\n",
       "18  1880   F      Grace   982  0.010061    18\n",
       "19  1880   F     Carrie   949  0.009723    19"
      ]
     },
     "execution_count": 9,
     "metadata": {},
     "output_type": "execute_result"
    }
   ],
   "source": [
    "### Solution\n",
    "\n",
    "babynames['rank'] = babynames.groupby(['year', 'sex'])['prop'].apply(lambda x: (-x).argsort())\n",
    " \n",
    "babynames['rank'] = babynames.groupby(['year', 'sex'])['rank'].apply(lambda x: x.argsort())\n",
    " \n",
    "babynames.head(20)"
   ]
  },
  {
   "cell_type": "code",
   "execution_count": 10,
   "metadata": {},
   "outputs": [
    {
     "data": {
      "text/html": [
       "<div>\n",
       "<style scoped>\n",
       "    .dataframe tbody tr th:only-of-type {\n",
       "        vertical-align: middle;\n",
       "    }\n",
       "\n",
       "    .dataframe tbody tr th {\n",
       "        vertical-align: top;\n",
       "    }\n",
       "\n",
       "    .dataframe thead th {\n",
       "        text-align: right;\n",
       "    }\n",
       "</style>\n",
       "<table border=\"1\" class=\"dataframe\">\n",
       "  <thead>\n",
       "    <tr style=\"text-align: right;\">\n",
       "      <th></th>\n",
       "      <th>year</th>\n",
       "      <th>sex</th>\n",
       "      <th>name</th>\n",
       "      <th>n</th>\n",
       "      <th>prop</th>\n",
       "      <th>rank</th>\n",
       "    </tr>\n",
       "  </thead>\n",
       "  <tbody>\n",
       "    <tr>\n",
       "      <th>1304060</th>\n",
       "      <td>1999</td>\n",
       "      <td>F</td>\n",
       "      <td>Emily</td>\n",
       "      <td>26537</td>\n",
       "      <td>0.013638</td>\n",
       "      <td>0</td>\n",
       "    </tr>\n",
       "    <tr>\n",
       "      <th>1304061</th>\n",
       "      <td>1999</td>\n",
       "      <td>F</td>\n",
       "      <td>Hannah</td>\n",
       "      <td>21669</td>\n",
       "      <td>0.011136</td>\n",
       "      <td>1</td>\n",
       "    </tr>\n",
       "    <tr>\n",
       "      <th>1304062</th>\n",
       "      <td>1999</td>\n",
       "      <td>F</td>\n",
       "      <td>Alexis</td>\n",
       "      <td>19232</td>\n",
       "      <td>0.009884</td>\n",
       "      <td>2</td>\n",
       "    </tr>\n",
       "    <tr>\n",
       "      <th>1304063</th>\n",
       "      <td>1999</td>\n",
       "      <td>F</td>\n",
       "      <td>Sarah</td>\n",
       "      <td>19088</td>\n",
       "      <td>0.009810</td>\n",
       "      <td>3</td>\n",
       "    </tr>\n",
       "    <tr>\n",
       "      <th>1304064</th>\n",
       "      <td>1999</td>\n",
       "      <td>F</td>\n",
       "      <td>Samantha</td>\n",
       "      <td>19034</td>\n",
       "      <td>0.009782</td>\n",
       "      <td>4</td>\n",
       "    </tr>\n",
       "    <tr>\n",
       "      <th>...</th>\n",
       "      <td>...</td>\n",
       "      <td>...</td>\n",
       "      <td>...</td>\n",
       "      <td>...</td>\n",
       "      <td>...</td>\n",
       "      <td>...</td>\n",
       "    </tr>\n",
       "    <tr>\n",
       "      <th>1320993</th>\n",
       "      <td>1999</td>\n",
       "      <td>F</td>\n",
       "      <td>Zohal</td>\n",
       "      <td>5</td>\n",
       "      <td>0.000003</td>\n",
       "      <td>15248</td>\n",
       "    </tr>\n",
       "    <tr>\n",
       "      <th>1320994</th>\n",
       "      <td>1999</td>\n",
       "      <td>F</td>\n",
       "      <td>Zophia</td>\n",
       "      <td>5</td>\n",
       "      <td>0.000003</td>\n",
       "      <td>15249</td>\n",
       "    </tr>\n",
       "    <tr>\n",
       "      <th>1320995</th>\n",
       "      <td>1999</td>\n",
       "      <td>F</td>\n",
       "      <td>Zuha</td>\n",
       "      <td>5</td>\n",
       "      <td>0.000003</td>\n",
       "      <td>15250</td>\n",
       "    </tr>\n",
       "    <tr>\n",
       "      <th>1320996</th>\n",
       "      <td>1999</td>\n",
       "      <td>F</td>\n",
       "      <td>Zuhal</td>\n",
       "      <td>5</td>\n",
       "      <td>0.000003</td>\n",
       "      <td>15243</td>\n",
       "    </tr>\n",
       "    <tr>\n",
       "      <th>1320997</th>\n",
       "      <td>1999</td>\n",
       "      <td>F</td>\n",
       "      <td>Zuzu</td>\n",
       "      <td>5</td>\n",
       "      <td>0.000003</td>\n",
       "      <td>16937</td>\n",
       "    </tr>\n",
       "  </tbody>\n",
       "</table>\n",
       "<p>16938 rows × 6 columns</p>\n",
       "</div>"
      ],
      "text/plain": [
       "         year sex      name      n      prop   rank\n",
       "1304060  1999   F     Emily  26537  0.013638      0\n",
       "1304061  1999   F    Hannah  21669  0.011136      1\n",
       "1304062  1999   F    Alexis  19232  0.009884      2\n",
       "1304063  1999   F     Sarah  19088  0.009810      3\n",
       "1304064  1999   F  Samantha  19034  0.009782      4\n",
       "...       ...  ..       ...    ...       ...    ...\n",
       "1320993  1999   F     Zohal      5  0.000003  15248\n",
       "1320994  1999   F    Zophia      5  0.000003  15249\n",
       "1320995  1999   F      Zuha      5  0.000003  15250\n",
       "1320996  1999   F     Zuhal      5  0.000003  15243\n",
       "1320997  1999   F      Zuzu      5  0.000003  16937\n",
       "\n",
       "[16938 rows x 6 columns]"
      ]
     },
     "execution_count": 10,
     "metadata": {},
     "output_type": "execute_result"
    }
   ],
   "source": [
    "babynames.groupby(['year', 'sex']).get_group((1999, 'F'))"
   ]
  },
  {
   "cell_type": "code",
   "execution_count": 11,
   "metadata": {},
   "outputs": [
    {
     "data": {
      "text/html": [
       "<div>\n",
       "<style scoped>\n",
       "    .dataframe tbody tr th:only-of-type {\n",
       "        vertical-align: middle;\n",
       "    }\n",
       "\n",
       "    .dataframe tbody tr th {\n",
       "        vertical-align: top;\n",
       "    }\n",
       "\n",
       "    .dataframe thead th {\n",
       "        text-align: right;\n",
       "    }\n",
       "</style>\n",
       "<table border=\"1\" class=\"dataframe\">\n",
       "  <thead>\n",
       "    <tr style=\"text-align: right;\">\n",
       "      <th></th>\n",
       "      <th>year</th>\n",
       "      <th>sex</th>\n",
       "      <th>name</th>\n",
       "      <th>n</th>\n",
       "      <th>prop</th>\n",
       "      <th>rank</th>\n",
       "    </tr>\n",
       "  </thead>\n",
       "  <tbody>\n",
       "    <tr>\n",
       "      <th>1304060</th>\n",
       "      <td>1999</td>\n",
       "      <td>F</td>\n",
       "      <td>Emily</td>\n",
       "      <td>26537</td>\n",
       "      <td>0.013638</td>\n",
       "      <td>0</td>\n",
       "    </tr>\n",
       "    <tr>\n",
       "      <th>1320998</th>\n",
       "      <td>1999</td>\n",
       "      <td>M</td>\n",
       "      <td>Jacob</td>\n",
       "      <td>35346</td>\n",
       "      <td>0.017344</td>\n",
       "      <td>0</td>\n",
       "    </tr>\n",
       "  </tbody>\n",
       "</table>\n",
       "</div>"
      ],
      "text/plain": [
       "         year sex   name      n      prop  rank\n",
       "1304060  1999   F  Emily  26537  0.013638     0\n",
       "1320998  1999   M  Jacob  35346  0.017344     0"
      ]
     },
     "execution_count": 11,
     "metadata": {},
     "output_type": "execute_result"
    }
   ],
   "source": [
    "babynames[(babynames['year'] == 1999) & (babynames['rank'] == 0)]"
   ]
  },
  {
   "cell_type": "code",
   "execution_count": null,
   "metadata": {},
   "outputs": [],
   "source": []
  },
  {
   "cell_type": "code",
   "execution_count": null,
   "metadata": {},
   "outputs": [],
   "source": []
  },
  {
   "cell_type": "markdown",
   "metadata": {},
   "source": [
    "## Task 2-3. What are the Top 10 in overall name popularity (in terms of total \"n\") by \"sex\"?\n",
    "#### aggregating on column 'n', and sorting values in Descending order should get you the top 10"
   ]
  },
  {
   "cell_type": "code",
   "execution_count": null,
   "metadata": {},
   "outputs": [],
   "source": [
    "### Write your code here\n",
    "### "
   ]
  },
  {
   "cell_type": "code",
   "execution_count": null,
   "metadata": {},
   "outputs": [],
   "source": [
    "### Solution\n",
    "\n",
    "babynames.groupby(['name', 'sex'])[['n']].agg(np.sum)"
   ]
  },
  {
   "cell_type": "code",
   "execution_count": null,
   "metadata": {},
   "outputs": [],
   "source": [
    "babynames.groupby(['name', 'sex'])[['n']].agg(np.sum).sort_values(by='n', ascending=False).head(10)"
   ]
  },
  {
   "cell_type": "code",
   "execution_count": null,
   "metadata": {},
   "outputs": [],
   "source": []
  },
  {
   "cell_type": "code",
   "execution_count": null,
   "metadata": {},
   "outputs": [],
   "source": []
  },
  {
   "cell_type": "markdown",
   "metadata": {},
   "source": [
    "## Task 2-4. What is the proportion of babies having the top 100 names for each year and sex?"
   ]
  },
  {
   "cell_type": "code",
   "execution_count": null,
   "metadata": {},
   "outputs": [],
   "source": [
    "### Write your code here\n",
    "### "
   ]
  },
  {
   "cell_type": "code",
   "execution_count": null,
   "metadata": {},
   "outputs": [],
   "source": [
    "### Solution\n",
    "\n",
    "top100 = babynames[babynames['rank'] < 100]\n",
    "top100.head()"
   ]
  },
  {
   "cell_type": "code",
   "execution_count": null,
   "metadata": {},
   "outputs": [],
   "source": [
    "top100prop = top100.groupby(['year', 'sex'])[['prop']].agg(np.sum).reset_index()\n",
    "top100prop.head(10)"
   ]
  },
  {
   "cell_type": "code",
   "execution_count": null,
   "metadata": {},
   "outputs": [],
   "source": []
  },
  {
   "cell_type": "markdown",
   "metadata": {},
   "source": [
    "## Task 2-5. For each name, find the year in which it was ranked highest and it's rank in that year.\n",
    "#### The column 'most_pop' could be created by Grouping name and sex, with rank and transforming with lambda function.\n",
    "#### You can test for a specific group using - get_group((\"Mary\", \"F\"))"
   ]
  },
  {
   "cell_type": "code",
   "execution_count": null,
   "metadata": {},
   "outputs": [],
   "source": [
    "babynames['most_pop'] = babynames.groupby(['name', 'sex'])['rank'].transform(lambda x: (x == np.min(x)))"
   ]
  },
  {
   "cell_type": "code",
   "execution_count": null,
   "metadata": {},
   "outputs": [],
   "source": [
    "# You can look at a specific group using Female & \"Mary\"\n",
    "babynames_gb = babynames.groupby(['name', 'sex'])\n",
    "babynames_gb.get_group((\"Mary\", \"F\"))"
   ]
  },
  {
   "cell_type": "code",
   "execution_count": null,
   "metadata": {},
   "outputs": [],
   "source": [
    "# You can look at a specific group using Female & \"Anna\" using filtering\n",
    "fil = (babynames[\"name\"] == \"Anna\") & (babynames[\"sex\"] == \"F\")\n",
    "babynames.loc[fil,:]"
   ]
  },
  {
   "cell_type": "code",
   "execution_count": null,
   "metadata": {},
   "outputs": [],
   "source": [
    "babynames[babynames['most_pop'] == True].groupby(['name', 'sex']).head(1)"
   ]
  },
  {
   "cell_type": "code",
   "execution_count": null,
   "metadata": {},
   "outputs": [],
   "source": []
  },
  {
   "cell_type": "markdown",
   "metadata": {
    "collapsed": true
   },
   "source": [
    "## Task 2-6. Which name has been in the top 10 most often?"
   ]
  },
  {
   "cell_type": "code",
   "execution_count": null,
   "metadata": {},
   "outputs": [],
   "source": [
    "top10 = babynames[babynames['rank'] < 10]\n",
    "top10.head()"
   ]
  },
  {
   "cell_type": "code",
   "execution_count": null,
   "metadata": {},
   "outputs": [],
   "source": [
    "top10_count = top10.groupby(['name', 'sex']).size().reset_index()\n",
    "top10_count.columns = ['name', 'sex', 'top10_count']\n",
    "top10_count.sort_values(by = 'top10_count', ascending = False).head(30)"
   ]
  },
  {
   "cell_type": "code",
   "execution_count": null,
   "metadata": {},
   "outputs": [],
   "source": []
  }
 ],
 "metadata": {
  "kernelspec": {
   "display_name": "Python 3",
   "language": "python",
   "name": "python3"
  },
  "language_info": {
   "codemirror_mode": {
    "name": "ipython",
    "version": 3
   },
   "file_extension": ".py",
   "mimetype": "text/x-python",
   "name": "python",
   "nbconvert_exporter": "python",
   "pygments_lexer": "ipython3",
   "version": "3.6.5"
  }
 },
 "nbformat": 4,
 "nbformat_minor": 2
}
