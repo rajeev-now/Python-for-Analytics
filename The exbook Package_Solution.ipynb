{
 "cells": [
  {
   "cell_type": "code",
   "execution_count": null,
   "metadata": {
    "colab": {
     "base_uri": "https://localhost:8080/"
    },
    "executionInfo": {
     "elapsed": 3357,
     "status": "ok",
     "timestamp": 1624354943836,
     "user": {
      "displayName": "Nhi Tran",
      "photoUrl": "https://lh3.googleusercontent.com/a-/AOh14GgeL2xyHR-N6XJQH4olH5Nesy2bRFkOT6nLyPwy=s64",
      "userId": "11498988852829301831"
     },
     "user_tz": -480
    },
    "id": "DgjVGOQ95Vug",
    "outputId": "774f0854-760d-4be5-d45e-bde2534adb26"
   },
   "outputs": [
    {
     "name": "stdout",
     "output_type": "stream",
     "text": [
      "Requirement already satisfied: exbook in /usr/local/lib/python3.7/dist-packages (0.0.3)\n"
     ]
    }
   ],
   "source": [
    "!pip install exbook\n",
    "\n",
    "from exbook import book as eb"
   ]
  },
  {
   "cell_type": "code",
   "execution_count": null,
   "metadata": {
    "colab": {
     "base_uri": "https://localhost:8080/",
     "height": 182
    },
    "executionInfo": {
     "elapsed": 105,
     "status": "ok",
     "timestamp": 1624341520246,
     "user": {
      "displayName": "Nhi Tran",
      "photoUrl": "https://lh3.googleusercontent.com/a-/AOh14GgeL2xyHR-N6XJQH4olH5Nesy2bRFkOT6nLyPwy=s64",
      "userId": "11498988852829301831"
     },
     "user_tz": -480
    },
    "id": "xKbuUBJ1Q9fu",
    "outputId": "80a287f5-9ce5-48d0-d36c-2400d66b923d"
   },
   "outputs": [
    {
     "name": "stdout",
     "output_type": "stream",
     "text": [
      "Define a function with two strings to be the input arguments. The output is \n",
      "the summation of the numerical values of the input strings. For example, if \n",
      "the input strings are \"3.5\"and \"2.7\", then the output is 6.2, as a floating\n",
      "point number.\n"
     ]
    },
    {
     "data": {
      "text/html": [
       "<div>\n",
       "<style scoped>\n",
       "    .dataframe tbody tr th:only-of-type {\n",
       "        vertical-align: middle;\n",
       "    }\n",
       "\n",
       "    .dataframe tbody tr th {\n",
       "        vertical-align: top;\n",
       "    }\n",
       "\n",
       "    .dataframe thead th {\n",
       "        text-align: right;\n",
       "    }\n",
       "</style>\n",
       "<table border=\"1\" class=\"dataframe\">\n",
       "  <thead>\n",
       "    <tr style=\"text-align: right;\">\n",
       "      <th></th>\n",
       "      <th>Input1: str</th>\n",
       "      <th>Input2: str</th>\n",
       "      <th>Output: float</th>\n",
       "    </tr>\n",
       "  </thead>\n",
       "  <tbody>\n",
       "    <tr>\n",
       "      <th>Test 1:</th>\n",
       "      <td>3.5</td>\n",
       "      <td>2.7</td>\n",
       "      <td>6.2</td>\n",
       "    </tr>\n",
       "  </tbody>\n",
       "</table>\n",
       "</div>"
      ],
      "text/plain": [
       "        Input1: str Input2: str Output: float\n",
       "Test 1:         3.5         2.7           6.2"
      ]
     },
     "metadata": {
      "tags": []
     },
     "output_type": "display_data"
    },
    {
     "data": {
      "text/plain": [
       "\n",
       "\u001b[1mData Type Conversion: Easy\u001b[0;0m "
      ]
     },
     "execution_count": 2,
     "metadata": {
      "tags": []
     },
     "output_type": "execute_result"
    }
   ],
   "source": [
    "eb[0]"
   ]
  },
  {
   "cell_type": "code",
   "execution_count": null,
   "metadata": {
    "colab": {
     "base_uri": "https://localhost:8080/"
    },
    "executionInfo": {
     "elapsed": 101,
     "status": "ok",
     "timestamp": 1624341520247,
     "user": {
      "displayName": "Nhi Tran",
      "photoUrl": "https://lh3.googleusercontent.com/a-/AOh14GgeL2xyHR-N6XJQH4olH5Nesy2bRFkOT6nLyPwy=s64",
      "userId": "11498988852829301831"
     },
     "user_tz": -480
    },
    "id": "G4uBM7RrRIzS",
    "outputId": "05b8cb57-f7d2-4b88-e595-588ef9e55eb1"
   },
   "outputs": [
    {
     "name": "stdout",
     "output_type": "stream",
     "text": [
      "You passed 3 of the 3 tests. \n",
      "The solution is correct\n"
     ]
    }
   ],
   "source": [
    "def data_type_conversion(n1,n2):\n",
    "    \"\"\"This function sums two input numbers\"\"\"\n",
    "\n",
    "    n1 = float(n1)      # Input in always a string, conversion to float is needed prior to manipulation\n",
    "    n2 = float(n2)\n",
    "    return n1+n2        # Return needs to match the required type to pass the tests.\n",
    "\n",
    "eb[0].check(data_type_conversion)"
   ]
  },
  {
   "cell_type": "code",
   "execution_count": null,
   "metadata": {
    "colab": {
     "base_uri": "https://localhost:8080/",
     "height": 213
    },
    "executionInfo": {
     "elapsed": 1084,
     "status": "ok",
     "timestamp": 1624341521277,
     "user": {
      "displayName": "Nhi Tran",
      "photoUrl": "https://lh3.googleusercontent.com/a-/AOh14GgeL2xyHR-N6XJQH4olH5Nesy2bRFkOT6nLyPwy=s64",
      "userId": "11498988852829301831"
     },
     "user_tz": -480
    },
    "id": "u1Rvnc3QRlkx",
    "outputId": "787466f3-e390-4bc9-a60f-230280503ef4"
   },
   "outputs": [
    {
     "name": "stdout",
     "output_type": "stream",
     "text": [
      "Write a function to determine whether an integer is a palindrome. An integer \n",
      "is a palindrome when it reads the same backward as forward. For example, \n",
      "121 is a palindrome so the output is True, 10 is not a palindrome so the\n",
      "output is False.\n"
     ]
    },
    {
     "data": {
      "text/html": [
       "<div>\n",
       "<style scoped>\n",
       "    .dataframe tbody tr th:only-of-type {\n",
       "        vertical-align: middle;\n",
       "    }\n",
       "\n",
       "    .dataframe tbody tr th {\n",
       "        vertical-align: top;\n",
       "    }\n",
       "\n",
       "    .dataframe thead th {\n",
       "        text-align: right;\n",
       "    }\n",
       "</style>\n",
       "<table border=\"1\" class=\"dataframe\">\n",
       "  <thead>\n",
       "    <tr style=\"text-align: right;\">\n",
       "      <th></th>\n",
       "      <th>Input1: int</th>\n",
       "      <th>Output: bool</th>\n",
       "    </tr>\n",
       "  </thead>\n",
       "  <tbody>\n",
       "    <tr>\n",
       "      <th>Test 1:</th>\n",
       "      <td>151</td>\n",
       "      <td>True</td>\n",
       "    </tr>\n",
       "    <tr>\n",
       "      <th>Test 2:</th>\n",
       "      <td>-5</td>\n",
       "      <td>False</td>\n",
       "    </tr>\n",
       "  </tbody>\n",
       "</table>\n",
       "</div>"
      ],
      "text/plain": [
       "        Input1: int Output: bool\n",
       "Test 1:         151         True\n",
       "Test 2:          -5        False"
      ]
     },
     "metadata": {
      "tags": []
     },
     "output_type": "display_data"
    },
    {
     "data": {
      "text/plain": [
       "\n",
       "\u001b[1mPalindrome: Easy\u001b[0;0m "
      ]
     },
     "execution_count": 4,
     "metadata": {
      "tags": []
     },
     "output_type": "execute_result"
    }
   ],
   "source": [
    "eb[1]"
   ]
  },
  {
   "cell_type": "code",
   "execution_count": null,
   "metadata": {
    "colab": {
     "base_uri": "https://localhost:8080/"
    },
    "executionInfo": {
     "elapsed": 415,
     "status": "ok",
     "timestamp": 1624341521278,
     "user": {
      "displayName": "Nhi Tran",
      "photoUrl": "https://lh3.googleusercontent.com/a-/AOh14GgeL2xyHR-N6XJQH4olH5Nesy2bRFkOT6nLyPwy=s64",
      "userId": "11498988852829301831"
     },
     "user_tz": -480
    },
    "id": "JfAM5iBQRqCu",
    "outputId": "fa209da5-16ed-43da-8458-21004dd57b69"
   },
   "outputs": [
    {
     "name": "stdout",
     "output_type": "stream",
     "text": [
      "You passed 7 of the 7 tests. \n",
      "The solution is correct\n"
     ]
    }
   ],
   "source": [
    "def palindrome(num):\n",
    "    \"\"\"This function checks if a given number is a palindrome\"\"\"\n",
    "    \n",
    "    num = str(num)          # Index and slicing only works on string\n",
    "    if num == num[::-1]:    # Don't need to concern about negative numbers, all negative numbers are NOT palindrome\n",
    "        return True\n",
    "    else:\n",
    "        return False        # Return must be Boolean type, not string of \"True\" or \"False\"\n",
    "\n",
    "eb[1].check(palindrome)"
   ]
  },
  {
   "cell_type": "code",
   "execution_count": null,
   "metadata": {
    "colab": {
     "base_uri": "https://localhost:8080/",
     "height": 244
    },
    "executionInfo": {
     "elapsed": 414,
     "status": "ok",
     "timestamp": 1624341521279,
     "user": {
      "displayName": "Nhi Tran",
      "photoUrl": "https://lh3.googleusercontent.com/a-/AOh14GgeL2xyHR-N6XJQH4olH5Nesy2bRFkOT6nLyPwy=s64",
      "userId": "11498988852829301831"
     },
     "user_tz": -480
    },
    "id": "CckeDuxgSKs2",
    "outputId": "ecdd78f2-08c5-46f1-ff68-26f0a21d6799"
   },
   "outputs": [
    {
     "name": "stdout",
     "output_type": "stream",
     "text": [
      "Write a function with a given argument n to return a list containing all \n",
      "positive integers no larger than n, and these integers can be divided by 7 \n",
      "but can not be divided by 5. For example, if n=50, then the returned list \n",
      "is [7, 14, 21, 28, 42, 49].\n"
     ]
    },
    {
     "data": {
      "text/html": [
       "<div>\n",
       "<style scoped>\n",
       "    .dataframe tbody tr th:only-of-type {\n",
       "        vertical-align: middle;\n",
       "    }\n",
       "\n",
       "    .dataframe tbody tr th {\n",
       "        vertical-align: top;\n",
       "    }\n",
       "\n",
       "    .dataframe thead th {\n",
       "        text-align: right;\n",
       "    }\n",
       "</style>\n",
       "<table border=\"1\" class=\"dataframe\">\n",
       "  <thead>\n",
       "    <tr style=\"text-align: right;\">\n",
       "      <th></th>\n",
       "      <th>Input1: int</th>\n",
       "      <th>Output: list</th>\n",
       "    </tr>\n",
       "  </thead>\n",
       "  <tbody>\n",
       "    <tr>\n",
       "      <th>Test 1:</th>\n",
       "      <td>14</td>\n",
       "      <td>[7, 14]</td>\n",
       "    </tr>\n",
       "    <tr>\n",
       "      <th>Test 2:</th>\n",
       "      <td>20</td>\n",
       "      <td>[7, 14]</td>\n",
       "    </tr>\n",
       "    <tr>\n",
       "      <th>Test 3:</th>\n",
       "      <td>50</td>\n",
       "      <td>[7, 14, 21, 28, 42, 49]</td>\n",
       "    </tr>\n",
       "  </tbody>\n",
       "</table>\n",
       "</div>"
      ],
      "text/plain": [
       "        Input1: int             Output: list\n",
       "Test 1:          14                  [7, 14]\n",
       "Test 2:          20                  [7, 14]\n",
       "Test 3:          50  [7, 14, 21, 28, 42, 49]"
      ]
     },
     "metadata": {
      "tags": []
     },
     "output_type": "display_data"
    },
    {
     "data": {
      "text/plain": [
       "\n",
       "\u001b[1mSeven And Five: Easy\u001b[0;0m "
      ]
     },
     "execution_count": 6,
     "metadata": {
      "tags": []
     },
     "output_type": "execute_result"
    }
   ],
   "source": [
    "eb[2]"
   ]
  },
  {
   "cell_type": "code",
   "execution_count": null,
   "metadata": {
    "colab": {
     "base_uri": "https://localhost:8080/"
    },
    "executionInfo": {
     "elapsed": 364,
     "status": "ok",
     "timestamp": 1624341521280,
     "user": {
      "displayName": "Nhi Tran",
      "photoUrl": "https://lh3.googleusercontent.com/a-/AOh14GgeL2xyHR-N6XJQH4olH5Nesy2bRFkOT6nLyPwy=s64",
      "userId": "11498988852829301831"
     },
     "user_tz": -480
    },
    "id": "U-FB-bppSO2a",
    "outputId": "c9bb7c1f-ea0c-428f-cdbe-d269dd91da97"
   },
   "outputs": [
    {
     "name": "stdout",
     "output_type": "stream",
     "text": [
      "You passed 7 of the 7 tests. \n",
      "The solution is correct\n"
     ]
    }
   ],
   "source": [
    "def seven_and_five(n):\n",
    "    \"\"\"This function lists all numbers divisible by 7 but not by 5, from 1 to n\"\"\"\n",
    "    \n",
    "    List = []\n",
    "    for i in range(n+1):            # Range always stops before the last number, hence (n+1) is needed to include n in range\n",
    "        if (i%7==0) and (i%5!=0):   # Modulus (%) gives remainder of a division \n",
    "            List.append(i)\n",
    "    return List\n",
    "\n",
    "eb[2].check(seven_and_five)"
   ]
  },
  {
   "cell_type": "code",
   "execution_count": null,
   "metadata": {
    "colab": {
     "base_uri": "https://localhost:8080/",
     "height": 258
    },
    "executionInfo": {
     "elapsed": 317,
     "status": "ok",
     "timestamp": 1624341521280,
     "user": {
      "displayName": "Nhi Tran",
      "photoUrl": "https://lh3.googleusercontent.com/a-/AOh14GgeL2xyHR-N6XJQH4olH5Nesy2bRFkOT6nLyPwy=s64",
      "userId": "11498988852829301831"
     },
     "user_tz": -480
    },
    "id": "pFk5uHDFTYcH",
    "outputId": "cc12cc27-5090-4875-dae5-3acea75e3c6e"
   },
   "outputs": [
    {
     "name": "stdout",
     "output_type": "stream",
     "text": [
      "Write a function to determine if a given positive integer n is a prime \n",
      "number.For example, 37 is a prime number so the output is True, 10 is not \n",
      "so the output is False.\n"
     ]
    },
    {
     "data": {
      "text/html": [
       "<div>\n",
       "<style scoped>\n",
       "    .dataframe tbody tr th:only-of-type {\n",
       "        vertical-align: middle;\n",
       "    }\n",
       "\n",
       "    .dataframe tbody tr th {\n",
       "        vertical-align: top;\n",
       "    }\n",
       "\n",
       "    .dataframe thead th {\n",
       "        text-align: right;\n",
       "    }\n",
       "</style>\n",
       "<table border=\"1\" class=\"dataframe\">\n",
       "  <thead>\n",
       "    <tr style=\"text-align: right;\">\n",
       "      <th></th>\n",
       "      <th>Input1: int</th>\n",
       "      <th>Output: bool</th>\n",
       "    </tr>\n",
       "  </thead>\n",
       "  <tbody>\n",
       "    <tr>\n",
       "      <th>Test 1:</th>\n",
       "      <td>6</td>\n",
       "      <td>False</td>\n",
       "    </tr>\n",
       "    <tr>\n",
       "      <th>Test 2:</th>\n",
       "      <td>47</td>\n",
       "      <td>True</td>\n",
       "    </tr>\n",
       "    <tr>\n",
       "      <th>Test 3:</th>\n",
       "      <td>53</td>\n",
       "      <td>True</td>\n",
       "    </tr>\n",
       "    <tr>\n",
       "      <th>Test 4:</th>\n",
       "      <td>61</td>\n",
       "      <td>True</td>\n",
       "    </tr>\n",
       "  </tbody>\n",
       "</table>\n",
       "</div>"
      ],
      "text/plain": [
       "        Input1: int Output: bool\n",
       "Test 1:           6        False\n",
       "Test 2:          47         True\n",
       "Test 3:          53         True\n",
       "Test 4:          61         True"
      ]
     },
     "metadata": {
      "tags": []
     },
     "output_type": "display_data"
    },
    {
     "data": {
      "text/plain": [
       "\n",
       "\u001b[1mPrime Number: Easy\u001b[0;0m "
      ]
     },
     "execution_count": 8,
     "metadata": {
      "tags": []
     },
     "output_type": "execute_result"
    }
   ],
   "source": [
    "eb[3]"
   ]
  },
  {
   "cell_type": "code",
   "execution_count": null,
   "metadata": {
    "colab": {
     "base_uri": "https://localhost:8080/"
    },
    "executionInfo": {
     "elapsed": 267,
     "status": "ok",
     "timestamp": 1624341521281,
     "user": {
      "displayName": "Nhi Tran",
      "photoUrl": "https://lh3.googleusercontent.com/a-/AOh14GgeL2xyHR-N6XJQH4olH5Nesy2bRFkOT6nLyPwy=s64",
      "userId": "11498988852829301831"
     },
     "user_tz": -480
    },
    "id": "roehoIXsTdH6",
    "outputId": "ae380b47-c4b5-436d-db53-5ff9a2eaa85b"
   },
   "outputs": [
    {
     "name": "stdout",
     "output_type": "stream",
     "text": [
      "You passed 14 of the 14 tests. \n",
      "The solution is correct\n"
     ]
    }
   ],
   "source": [
    "def prime_number(num):\n",
    "    \"\"\"This function checks if a given number is a prime number\"\"\"\n",
    "    \n",
    "    R = []\n",
    "    deno = int(num**0.5) + 1      # Prime number is only divisble to 1 and itself, meaning n mod i (from 2 to sqrt(n)) != 0\n",
    "    for i in range(2,deno):       # Can also simply run the loops for range(2,n), however, \n",
    "        remainder = num%i         # as sqrt(n) is the largest divisor of n, checking range (2,sqrt(n)+1) will be sufficient\n",
    "        R.append(remainder)\n",
    "    if R.count(0) > 0:            # R is a list of all remainders for n%i, if any of the value is 0, n is NOT prime\n",
    "        return False\n",
    "    else:\n",
    "        return True\n",
    "\n",
    "eb[3].check(prime_number)"
   ]
  },
  {
   "cell_type": "code",
   "execution_count": null,
   "metadata": {
    "colab": {
     "base_uri": "https://localhost:8080/"
    },
    "executionInfo": {
     "elapsed": 224,
     "status": "ok",
     "timestamp": 1624341521282,
     "user": {
      "displayName": "Nhi Tran",
      "photoUrl": "https://lh3.googleusercontent.com/a-/AOh14GgeL2xyHR-N6XJQH4olH5Nesy2bRFkOT6nLyPwy=s64",
      "userId": "11498988852829301831"
     },
     "user_tz": -480
    },
    "id": "_jww1w_EUuCT",
    "outputId": "dc7b8db7-71db-4eb2-c765-ec69031ae59b"
   },
   "outputs": [
    {
     "name": "stdout",
     "output_type": "stream",
     "text": [
      "You passed 14 of the 14 tests. \n",
      "The solution is correct\n"
     ]
    }
   ],
   "source": [
    "def prime_number2(num):\n",
    "    \"\"\"This function checks if a given number is a prime number\"\"\"\n",
    "    \n",
    "    isPrime = True              # Assume number is prime unless otherwise proven\n",
    "    deno = int(num**0.5)+1\n",
    "    for i in range(2,deno):\n",
    "        if num%i == 0:          # Condition to reject isPrime assumption\n",
    "            return False\n",
    "    if isPrime == True:         # Return must be included if desired, else None will be returned\n",
    "        return True\n",
    "\n",
    "eb[3].check(prime_number2)"
   ]
  },
  {
   "cell_type": "code",
   "execution_count": null,
   "metadata": {
    "colab": {
     "base_uri": "https://localhost:8080/",
     "height": 258
    },
    "executionInfo": {
     "elapsed": 179,
     "status": "ok",
     "timestamp": 1624341521283,
     "user": {
      "displayName": "Nhi Tran",
      "photoUrl": "https://lh3.googleusercontent.com/a-/AOh14GgeL2xyHR-N6XJQH4olH5Nesy2bRFkOT6nLyPwy=s64",
      "userId": "11498988852829301831"
     },
     "user_tz": -480
    },
    "id": "aduiSrJZc_YL",
    "outputId": "3f695046-873e-41d9-b9a5-8c4cb193dd1a"
   },
   "outputs": [
    {
     "name": "stdout",
     "output_type": "stream",
     "text": [
      "Given a positive integer n, write a function to return a list of prime \n",
      "numbers that are no larger than n. For example, if n=20, then the returned \n",
      "list is [2, 3, 5, 7, 11, 13, 17, 19].\n"
     ]
    },
    {
     "data": {
      "text/html": [
       "<div>\n",
       "<style scoped>\n",
       "    .dataframe tbody tr th:only-of-type {\n",
       "        vertical-align: middle;\n",
       "    }\n",
       "\n",
       "    .dataframe tbody tr th {\n",
       "        vertical-align: top;\n",
       "    }\n",
       "\n",
       "    .dataframe thead th {\n",
       "        text-align: right;\n",
       "    }\n",
       "</style>\n",
       "<table border=\"1\" class=\"dataframe\">\n",
       "  <thead>\n",
       "    <tr style=\"text-align: right;\">\n",
       "      <th></th>\n",
       "      <th>Input1: int</th>\n",
       "      <th>Output: list</th>\n",
       "    </tr>\n",
       "  </thead>\n",
       "  <tbody>\n",
       "    <tr>\n",
       "      <th>Test 1:</th>\n",
       "      <td>1</td>\n",
       "      <td>[]</td>\n",
       "    </tr>\n",
       "    <tr>\n",
       "      <th>Test 2:</th>\n",
       "      <td>2</td>\n",
       "      <td>[2]</td>\n",
       "    </tr>\n",
       "    <tr>\n",
       "      <th>Test 3:</th>\n",
       "      <td>30</td>\n",
       "      <td>[2, 3, 5, 7, 11, 13, 17, 19, 23, 29]</td>\n",
       "    </tr>\n",
       "    <tr>\n",
       "      <th>Test 4:</th>\n",
       "      <td>40</td>\n",
       "      <td>[2, 3, 5, 7, 11, 13, 17, 19, 23, 29, 31, 37]</td>\n",
       "    </tr>\n",
       "  </tbody>\n",
       "</table>\n",
       "</div>"
      ],
      "text/plain": [
       "        Input1: int                                  Output: list\n",
       "Test 1:           1                                            []\n",
       "Test 2:           2                                           [2]\n",
       "Test 3:          30          [2, 3, 5, 7, 11, 13, 17, 19, 23, 29]\n",
       "Test 4:          40  [2, 3, 5, 7, 11, 13, 17, 19, 23, 29, 31, 37]"
      ]
     },
     "metadata": {
      "tags": []
     },
     "output_type": "display_data"
    },
    {
     "data": {
      "text/plain": [
       "\n",
       "\u001b[1mPrime List: Medium\u001b[0;0m "
      ]
     },
     "execution_count": 11,
     "metadata": {
      "tags": []
     },
     "output_type": "execute_result"
    }
   ],
   "source": [
    "eb[4]"
   ]
  },
  {
   "cell_type": "code",
   "execution_count": null,
   "metadata": {
    "colab": {
     "base_uri": "https://localhost:8080/"
    },
    "executionInfo": {
     "elapsed": 77,
     "status": "ok",
     "timestamp": 1624341521284,
     "user": {
      "displayName": "Nhi Tran",
      "photoUrl": "https://lh3.googleusercontent.com/a-/AOh14GgeL2xyHR-N6XJQH4olH5Nesy2bRFkOT6nLyPwy=s64",
      "userId": "11498988852829301831"
     },
     "user_tz": -480
    },
    "id": "iJPspnhLdGn_",
    "outputId": "c3dacbd6-8d62-47cb-d13a-631f30339b7e"
   },
   "outputs": [
    {
     "name": "stdout",
     "output_type": "stream",
     "text": [
      "You passed 9 of the 9 tests. \n",
      "The solution is correct\n"
     ]
    }
   ],
   "source": [
    "def prime_list(num):              # First code, not optimised, standalone\n",
    "    \"\"\"This function returns a list of prime number in range of 1 to n (inclusive)\"\"\"\n",
    "    \n",
    "    Prime = []\n",
    "    for x in range(2,num+1):\n",
    "        R = []\n",
    "        D = []\n",
    "        deno = int(x**0.5) + 1\n",
    "        for i in range(2,deno):\n",
    "            if i not in Prime:    # D is a list of denominators, excluding those that are already in Prime\n",
    "                D.append(i)\n",
    "        for p in Prime:\n",
    "            remainder = x%p       # Natural number greater than 1 can be written as a product of prime numbers smaller than itself\n",
    "            R.append(remainder) \n",
    "        if R.count(0)==0:         # If the given number is not divisible by any of the known prime numbers, it is a prime\n",
    "            Prime.append(x)\n",
    "        else:\n",
    "            for i in D:\n",
    "                remainder = x%i\n",
    "                R.append(remainder)\n",
    "                if R.count(0) == 0:\n",
    "                    Prime.append(x)\n",
    "    return Prime\n",
    "\n",
    "eb[4].check(prime_list)"
   ]
  },
  {
   "cell_type": "code",
   "execution_count": null,
   "metadata": {
    "colab": {
     "base_uri": "https://localhost:8080/"
    },
    "executionInfo": {
     "elapsed": 1275,
     "status": "ok",
     "timestamp": 1624341522542,
     "user": {
      "displayName": "Nhi Tran",
      "photoUrl": "https://lh3.googleusercontent.com/a-/AOh14GgeL2xyHR-N6XJQH4olH5Nesy2bRFkOT6nLyPwy=s64",
      "userId": "11498988852829301831"
     },
     "user_tz": -480
    },
    "id": "ezWPUuM8dHkz",
    "outputId": "5f93b1be-3c8d-4fb7-9774-ffa6a6d77a33"
   },
   "outputs": [
    {
     "name": "stdout",
     "output_type": "stream",
     "text": [
      "You passed 9 of the 9 tests. \n",
      "The solution is correct\n"
     ]
    }
   ],
   "source": [
    "def prime_list2(num):             # Leaner code, optimised & standalone code\n",
    "    \"\"\"This function returns a list of prime number in range of 1 to n (inclusive)\"\"\"\n",
    "    \n",
    "    if num < 2:\n",
    "        Prime = []\n",
    "    else:\n",
    "        Prime =[2]\n",
    "        for x in range(2,num+1):\n",
    "            R = []\n",
    "            for p in Prime:       # A number is prime, IF and ONLY IF, it is not divisible for any other primes smaller than itself\n",
    "                remainder = x%p   # Don't need to take into account of non-prime divisors\n",
    "                R.append(remainder)\n",
    "            if R.count(0) == 0:\n",
    "                Prime.append(x)\n",
    "    return Prime\n",
    "\n",
    "eb[4].check(prime_list2)"
   ]
  },
  {
   "cell_type": "code",
   "execution_count": null,
   "metadata": {
    "colab": {
     "base_uri": "https://localhost:8080/"
    },
    "executionInfo": {
     "elapsed": 894,
     "status": "ok",
     "timestamp": 1624341522543,
     "user": {
      "displayName": "Nhi Tran",
      "photoUrl": "https://lh3.googleusercontent.com/a-/AOh14GgeL2xyHR-N6XJQH4olH5Nesy2bRFkOT6nLyPwy=s64",
      "userId": "11498988852829301831"
     },
     "user_tz": -480
    },
    "id": "bKr9nQO5fEcY",
    "outputId": "e38507b6-cebe-4e66-e7e3-811b25864c28"
   },
   "outputs": [
    {
     "name": "stdout",
     "output_type": "stream",
     "text": [
      "You passed 9 of the 9 tests. \n",
      "The solution is correct\n"
     ]
    }
   ],
   "source": [
    "def prime_list3(num):                   # Built upon eb[3], where the function is used to check if a given number is prime\n",
    "    \"\"\"This function returns a list of prime number in range of 1 to n (inclusive)\"\"\"\n",
    "    \n",
    "    Prime = []\n",
    "    for i in range(2,num+1):\n",
    "        if prime_number2(i) == True:    # prime_number2 = function from eb[3], if a number is prime, append it to create a list\n",
    "            Prime.append(i)\n",
    "    return Prime\n",
    "\n",
    "eb[4].check(prime_list3)"
   ]
  },
  {
   "cell_type": "code",
   "execution_count": null,
   "metadata": {
    "colab": {
     "base_uri": "https://localhost:8080/",
     "height": 230
    },
    "executionInfo": {
     "elapsed": 840,
     "status": "ok",
     "timestamp": 1624341522544,
     "user": {
      "displayName": "Nhi Tran",
      "photoUrl": "https://lh3.googleusercontent.com/a-/AOh14GgeL2xyHR-N6XJQH4olH5Nesy2bRFkOT6nLyPwy=s64",
      "userId": "11498988852829301831"
     },
     "user_tz": -480
    },
    "id": "CrFU5m_QgUYS",
    "outputId": "5c6717ed-77ec-49ca-b723-771477266345"
   },
   "outputs": [
    {
     "name": "stdout",
     "output_type": "stream",
     "text": [
      "A robot starts to move from the origin (0, 0) on a 2D plane. Given a squence\n",
      "of moves, in terms of strings \"L\" for left, \"R\" for right, \"U\" for up, and\n",
      "\"D\" for down, write a function to tell if the robot returns to the origin\n",
      "(0, 0) after this sequence of moves. The output of the function is a boolean\n",
      "value.\n"
     ]
    },
    {
     "data": {
      "text/html": [
       "<div>\n",
       "<style scoped>\n",
       "    .dataframe tbody tr th:only-of-type {\n",
       "        vertical-align: middle;\n",
       "    }\n",
       "\n",
       "    .dataframe tbody tr th {\n",
       "        vertical-align: top;\n",
       "    }\n",
       "\n",
       "    .dataframe thead th {\n",
       "        text-align: right;\n",
       "    }\n",
       "</style>\n",
       "<table border=\"1\" class=\"dataframe\">\n",
       "  <thead>\n",
       "    <tr style=\"text-align: right;\">\n",
       "      <th></th>\n",
       "      <th>Input1: str</th>\n",
       "      <th>Output: bool</th>\n",
       "    </tr>\n",
       "  </thead>\n",
       "  <tbody>\n",
       "    <tr>\n",
       "      <th>Test 1:</th>\n",
       "      <td>UD</td>\n",
       "      <td>True</td>\n",
       "    </tr>\n",
       "    <tr>\n",
       "      <th>Test 2:</th>\n",
       "      <td>LL</td>\n",
       "      <td>False</td>\n",
       "    </tr>\n",
       "  </tbody>\n",
       "</table>\n",
       "</div>"
      ],
      "text/plain": [
       "        Input1: str Output: bool\n",
       "Test 1:          UD         True\n",
       "Test 2:          LL        False"
      ]
     },
     "metadata": {
      "tags": []
     },
     "output_type": "display_data"
    },
    {
     "data": {
      "text/plain": [
       "\n",
       "\u001b[1mRobot: Easy\u001b[0;0m "
      ]
     },
     "execution_count": 15,
     "metadata": {
      "tags": []
     },
     "output_type": "execute_result"
    }
   ],
   "source": [
    "eb[5]"
   ]
  },
  {
   "cell_type": "code",
   "execution_count": null,
   "metadata": {
    "colab": {
     "base_uri": "https://localhost:8080/"
    },
    "executionInfo": {
     "elapsed": 790,
     "status": "ok",
     "timestamp": 1624341522545,
     "user": {
      "displayName": "Nhi Tran",
      "photoUrl": "https://lh3.googleusercontent.com/a-/AOh14GgeL2xyHR-N6XJQH4olH5Nesy2bRFkOT6nLyPwy=s64",
      "userId": "11498988852829301831"
     },
     "user_tz": -480
    },
    "id": "CAWZQF4fgYPa",
    "outputId": "8d1a5851-c835-437a-da6a-0ad899a4a46c"
   },
   "outputs": [
    {
     "name": "stdout",
     "output_type": "stream",
     "text": [
      "You passed 5 of the 5 tests. \n",
      "The solution is correct\n"
     ]
    }
   ],
   "source": [
    "def robot(movement):\n",
    "    \"\"\"This function checks if the robot returns to the starting point after a sequence of movement\"\"\"\n",
    "    \n",
    "    if (movement.count(\"L\")==movement.count(\"R\")) and (movement.count(\"U\")==movement.count(\"D\")):\n",
    "        return True        # Back to the starting points if the number of left == right, and up == down\n",
    "    else:\n",
    "        return False\n",
    "\n",
    "eb[5].check(robot)"
   ]
  },
  {
   "cell_type": "code",
   "execution_count": null,
   "metadata": {
    "colab": {
     "base_uri": "https://localhost:8080/",
     "height": 230
    },
    "executionInfo": {
     "elapsed": 746,
     "status": "ok",
     "timestamp": 1624341522545,
     "user": {
      "displayName": "Nhi Tran",
      "photoUrl": "https://lh3.googleusercontent.com/a-/AOh14GgeL2xyHR-N6XJQH4olH5Nesy2bRFkOT6nLyPwy=s64",
      "userId": "11498988852829301831"
     },
     "user_tz": -480
    },
    "id": "p9nTTggKg3Pa",
    "outputId": "ccfbad2e-413a-4d56-c730-61e94c5403f9"
   },
   "outputs": [
    {
     "name": "stdout",
     "output_type": "stream",
     "text": [
      "Given a list of numbers as the first input argument, write a function to \n",
      "remove all items in the list that have the same value as the second input \n",
      "argument. For example, if the first argument is [1, 3, 2, 2, 4, 2, 5] and \n",
      "the second argument is given as 2, then the output is [1, 3, 4, 5], with \n",
      "all 2s removed.\n"
     ]
    },
    {
     "data": {
      "text/html": [
       "<div>\n",
       "<style scoped>\n",
       "    .dataframe tbody tr th:only-of-type {\n",
       "        vertical-align: middle;\n",
       "    }\n",
       "\n",
       "    .dataframe tbody tr th {\n",
       "        vertical-align: top;\n",
       "    }\n",
       "\n",
       "    .dataframe thead th {\n",
       "        text-align: right;\n",
       "    }\n",
       "</style>\n",
       "<table border=\"1\" class=\"dataframe\">\n",
       "  <thead>\n",
       "    <tr style=\"text-align: right;\">\n",
       "      <th></th>\n",
       "      <th>Input1: list</th>\n",
       "      <th>Input2: int</th>\n",
       "      <th>Output: list</th>\n",
       "    </tr>\n",
       "  </thead>\n",
       "  <tbody>\n",
       "    <tr>\n",
       "      <th>Test 1:</th>\n",
       "      <td>[0, 1, 2, 3, 2, 5]</td>\n",
       "      <td>2</td>\n",
       "      <td>[0, 1, 3, 5]</td>\n",
       "    </tr>\n",
       "    <tr>\n",
       "      <th>Test 2:</th>\n",
       "      <td>[0, 1, 2, 3]</td>\n",
       "      <td>4</td>\n",
       "      <td>[0, 1, 2, 3]</td>\n",
       "    </tr>\n",
       "  </tbody>\n",
       "</table>\n",
       "</div>"
      ],
      "text/plain": [
       "               Input1: list Input2: int  Output: list\n",
       "Test 1:  [0, 1, 2, 3, 2, 5]           2  [0, 1, 3, 5]\n",
       "Test 2:        [0, 1, 2, 3]           4  [0, 1, 2, 3]"
      ]
     },
     "metadata": {
      "tags": []
     },
     "output_type": "display_data"
    },
    {
     "data": {
      "text/plain": [
       "\n",
       "\u001b[1mRemove All: Easy\u001b[0;0m "
      ]
     },
     "execution_count": 17,
     "metadata": {
      "tags": []
     },
     "output_type": "execute_result"
    }
   ],
   "source": [
    "eb[6]"
   ]
  },
  {
   "cell_type": "code",
   "execution_count": null,
   "metadata": {
    "colab": {
     "base_uri": "https://localhost:8080/"
    },
    "executionInfo": {
     "elapsed": 701,
     "status": "ok",
     "timestamp": 1624341522546,
     "user": {
      "displayName": "Nhi Tran",
      "photoUrl": "https://lh3.googleusercontent.com/a-/AOh14GgeL2xyHR-N6XJQH4olH5Nesy2bRFkOT6nLyPwy=s64",
      "userId": "11498988852829301831"
     },
     "user_tz": -480
    },
    "id": "HHUgn-Djg7PL",
    "outputId": "88f6b305-df5c-41dc-f287-583e82425964"
   },
   "outputs": [
    {
     "name": "stdout",
     "output_type": "stream",
     "text": [
      "You passed 4 of the 4 tests. \n",
      "The solution is correct\n"
     ]
    }
   ],
   "source": [
    "def remove_all(List,remove):\n",
    "    \"\"\"This function creates a list from an existing one after removing a specified number\"\"\"\n",
    "    \n",
    "    new_List = []                   # Rather than removing as the question indicates,\n",
    "    for i in List:                  # create a new list and append the numbers that fulfill the requirements\n",
    "        if i!=remove:               # Here, the requirement is that the number is DIFFERENT from the 'remove' value               \n",
    "            new_List.append(i)      \n",
    "    return new_List\n",
    "\n",
    "eb[6].check(remove_all)"
   ]
  },
  {
   "cell_type": "code",
   "execution_count": null,
   "metadata": {
    "colab": {
     "base_uri": "https://localhost:8080/",
     "height": 230
    },
    "executionInfo": {
     "elapsed": 653,
     "status": "ok",
     "timestamp": 1624341522546,
     "user": {
      "displayName": "Nhi Tran",
      "photoUrl": "https://lh3.googleusercontent.com/a-/AOh14GgeL2xyHR-N6XJQH4olH5Nesy2bRFkOT6nLyPwy=s64",
      "userId": "11498988852829301831"
     },
     "user_tz": -480
    },
    "id": "P46lREJ3hjFw",
    "outputId": "6c267f19-7c7a-4404-d849-5002e00b5f45"
   },
   "outputs": [
    {
     "name": "stdout",
     "output_type": "stream",
     "text": [
      "Given two equal length lists of unique numbers, write a function to return \n",
      "the number of items in these two lists that have the same values and are \n",
      "at the same positions. For example, if these two lists are [1, 2, 3, 5] and \n",
      "[2, 1, 3, 4], then the output is 1 because the same value 3 appears at the \n",
      "same position 2 of both lists.\n"
     ]
    },
    {
     "data": {
      "text/html": [
       "<div>\n",
       "<style scoped>\n",
       "    .dataframe tbody tr th:only-of-type {\n",
       "        vertical-align: middle;\n",
       "    }\n",
       "\n",
       "    .dataframe tbody tr th {\n",
       "        vertical-align: top;\n",
       "    }\n",
       "\n",
       "    .dataframe thead th {\n",
       "        text-align: right;\n",
       "    }\n",
       "</style>\n",
       "<table border=\"1\" class=\"dataframe\">\n",
       "  <thead>\n",
       "    <tr style=\"text-align: right;\">\n",
       "      <th></th>\n",
       "      <th>Input1: list</th>\n",
       "      <th>Input2: list</th>\n",
       "      <th>Output: int</th>\n",
       "    </tr>\n",
       "  </thead>\n",
       "  <tbody>\n",
       "    <tr>\n",
       "      <th>Test 1:</th>\n",
       "      <td>[1, 2, 3, 5]</td>\n",
       "      <td>[2, 1, 3, 4]</td>\n",
       "      <td>1</td>\n",
       "    </tr>\n",
       "    <tr>\n",
       "      <th>Test 2:</th>\n",
       "      <td>[1, 2, 3, 5]</td>\n",
       "      <td>[5, 2, 3, 1]</td>\n",
       "      <td>2</td>\n",
       "    </tr>\n",
       "  </tbody>\n",
       "</table>\n",
       "</div>"
      ],
      "text/plain": [
       "         Input1: list  Input2: list Output: int\n",
       "Test 1:  [1, 2, 3, 5]  [2, 1, 3, 4]           1\n",
       "Test 2:  [1, 2, 3, 5]  [5, 2, 3, 1]           2"
      ]
     },
     "metadata": {
      "tags": []
     },
     "output_type": "display_data"
    },
    {
     "data": {
      "text/plain": [
       "\n",
       "\u001b[1mRight Position: Easy\u001b[0;0m "
      ]
     },
     "execution_count": 19,
     "metadata": {
      "tags": []
     },
     "output_type": "execute_result"
    }
   ],
   "source": [
    "eb[7]"
   ]
  },
  {
   "cell_type": "code",
   "execution_count": null,
   "metadata": {
    "colab": {
     "base_uri": "https://localhost:8080/"
    },
    "executionInfo": {
     "elapsed": 601,
     "status": "ok",
     "timestamp": 1624341522547,
     "user": {
      "displayName": "Nhi Tran",
      "photoUrl": "https://lh3.googleusercontent.com/a-/AOh14GgeL2xyHR-N6XJQH4olH5Nesy2bRFkOT6nLyPwy=s64",
      "userId": "11498988852829301831"
     },
     "user_tz": -480
    },
    "id": "mvoiUEAFhmz7",
    "outputId": "b8188f60-e5d4-4f99-d873-ddd358b01ad3"
   },
   "outputs": [
    {
     "name": "stdout",
     "output_type": "stream",
     "text": [
      "You passed 5 of the 5 tests. \n",
      "The solution is correct\n"
     ]
    }
   ],
   "source": [
    "def right_position(List1,List2):          # First code, not optimised\n",
    "    \"\"\" This function returns the number of common occurrences (same value, same index) between two lists.\n",
    "        Items within list MUST be unique\"\"\"\n",
    "    \n",
    "    count = 0\n",
    "    for i in List1:                       # i is an object of List1, which might or might not be present in List2\n",
    "        if List2[List1.index(i)] == i:    # hence, it is not wise to check and compare the index of i in List2 (error may occur) \n",
    "            count += 1                    # instead, checking and compared the value at index of i is fault-proof\n",
    "    return count   # CONS: only works if items are unique, duplicate items will yield error as index() returns the index of the first encountered value.\n",
    "\n",
    "eb[7].check(right_position)"
   ]
  },
  {
   "cell_type": "code",
   "execution_count": null,
   "metadata": {
    "colab": {
     "base_uri": "https://localhost:8080/"
    },
    "executionInfo": {
     "elapsed": 556,
     "status": "ok",
     "timestamp": 1624341522547,
     "user": {
      "displayName": "Nhi Tran",
      "photoUrl": "https://lh3.googleusercontent.com/a-/AOh14GgeL2xyHR-N6XJQH4olH5Nesy2bRFkOT6nLyPwy=s64",
      "userId": "11498988852829301831"
     },
     "user_tz": -480
    },
    "id": "d7dmOI7TigsC",
    "outputId": "9f7f64b3-5580-4b49-8aa8-d00686c3fdd7"
   },
   "outputs": [
    {
     "name": "stdout",
     "output_type": "stream",
     "text": [
      "You passed 5 of the 5 tests. \n",
      "The solution is correct\n"
     ]
    }
   ],
   "source": [
    "def right_position2(List1,List2):         # Improved, able to overcome duplicates of values in the same list, and non-existence in the other list\n",
    "    \"\"\" This function returns the number of common occurrences (same value, same index) between two lists.\n",
    "        Items within list can be duplicated\"\"\"\n",
    "    \n",
    "    count = 0       \n",
    "    for i in range(len(List1)):           # i is the index of object in List1 (or List2 since they are the same length)\n",
    "        if List1[i] == List2[i]:          # Check if value at the same index(i) is the same for both lists\n",
    "            count +=1\n",
    "    return count\n",
    "\n",
    "eb[7].check(right_position2)"
   ]
  },
  {
   "cell_type": "code",
   "execution_count": null,
   "metadata": {
    "colab": {
     "base_uri": "https://localhost:8080/",
     "height": 230
    },
    "executionInfo": {
     "elapsed": 513,
     "status": "ok",
     "timestamp": 1624341522548,
     "user": {
      "displayName": "Nhi Tran",
      "photoUrl": "https://lh3.googleusercontent.com/a-/AOh14GgeL2xyHR-N6XJQH4olH5Nesy2bRFkOT6nLyPwy=s64",
      "userId": "11498988852829301831"
     },
     "user_tz": -480
    },
    "id": "_iRodl8mjy6k",
    "outputId": "2d203db8-7489-4316-db16-7408efc31499"
   },
   "outputs": [
    {
     "name": "stdout",
     "output_type": "stream",
     "text": [
      "Given two equal length lists of unique numbers, write a function to return \n",
      "the number of items in these two lists that have the same values but are at \n",
      "the different positions. For example, if these two lists are [1, 2, 3, 5] \n",
      "and [2, 1, 3, 4], then the output is 2 because the same values 1 and \n",
      "2 appear at the different positions.\n"
     ]
    },
    {
     "data": {
      "text/html": [
       "<div>\n",
       "<style scoped>\n",
       "    .dataframe tbody tr th:only-of-type {\n",
       "        vertical-align: middle;\n",
       "    }\n",
       "\n",
       "    .dataframe tbody tr th {\n",
       "        vertical-align: top;\n",
       "    }\n",
       "\n",
       "    .dataframe thead th {\n",
       "        text-align: right;\n",
       "    }\n",
       "</style>\n",
       "<table border=\"1\" class=\"dataframe\">\n",
       "  <thead>\n",
       "    <tr style=\"text-align: right;\">\n",
       "      <th></th>\n",
       "      <th>Input1: list</th>\n",
       "      <th>Input2: list</th>\n",
       "      <th>Output: int</th>\n",
       "    </tr>\n",
       "  </thead>\n",
       "  <tbody>\n",
       "    <tr>\n",
       "      <th>Test 1:</th>\n",
       "      <td>[1, 2, 3, 5]</td>\n",
       "      <td>[2, 1, 3, 4]</td>\n",
       "      <td>2</td>\n",
       "    </tr>\n",
       "    <tr>\n",
       "      <th>Test 2:</th>\n",
       "      <td>[1, 2, 3, 5]</td>\n",
       "      <td>[1, 2, 3, 4]</td>\n",
       "      <td>0</td>\n",
       "    </tr>\n",
       "  </tbody>\n",
       "</table>\n",
       "</div>"
      ],
      "text/plain": [
       "         Input1: list  Input2: list Output: int\n",
       "Test 1:  [1, 2, 3, 5]  [2, 1, 3, 4]           2\n",
       "Test 2:  [1, 2, 3, 5]  [1, 2, 3, 4]           0"
      ]
     },
     "metadata": {
      "tags": []
     },
     "output_type": "display_data"
    },
    {
     "data": {
      "text/plain": [
       "\n",
       "\u001b[1mWrong Position: Easy\u001b[0;0m "
      ]
     },
     "execution_count": 22,
     "metadata": {
      "tags": []
     },
     "output_type": "execute_result"
    }
   ],
   "source": [
    "eb[8]"
   ]
  },
  {
   "cell_type": "code",
   "execution_count": null,
   "metadata": {
    "colab": {
     "base_uri": "https://localhost:8080/"
    },
    "executionInfo": {
     "elapsed": 467,
     "status": "ok",
     "timestamp": 1624341522548,
     "user": {
      "displayName": "Nhi Tran",
      "photoUrl": "https://lh3.googleusercontent.com/a-/AOh14GgeL2xyHR-N6XJQH4olH5Nesy2bRFkOT6nLyPwy=s64",
      "userId": "11498988852829301831"
     },
     "user_tz": -480
    },
    "id": "J1ZPa7H5j3BI",
    "outputId": "0fabfa03-0bc4-4cc3-a748-796be9830626"
   },
   "outputs": [
    {
     "name": "stdout",
     "output_type": "stream",
     "text": [
      "You passed 5 of the 5 tests. \n",
      "The solution is correct\n"
     ]
    }
   ],
   "source": [
    "def wrong_position(List1,List2):      # CONS: same as right_position\n",
    "    \"\"\"This function returns the number of items of same value, but different index in two lists.\n",
    "        Items within list MUST be unique\"\"\"\n",
    "    \n",
    "    count = 0\n",
    "    for i in List1:\n",
    "        for j in List2:\n",
    "            if (i == j) and (List1.index(i)!=List2.index(j)):\n",
    "                count += 1\n",
    "    return count  \n",
    "\n",
    "eb[8].check(wrong_position)"
   ]
  },
  {
   "cell_type": "code",
   "execution_count": null,
   "metadata": {
    "colab": {
     "base_uri": "https://localhost:8080/"
    },
    "executionInfo": {
     "elapsed": 424,
     "status": "ok",
     "timestamp": 1624341522549,
     "user": {
      "displayName": "Nhi Tran",
      "photoUrl": "https://lh3.googleusercontent.com/a-/AOh14GgeL2xyHR-N6XJQH4olH5Nesy2bRFkOT6nLyPwy=s64",
      "userId": "11498988852829301831"
     },
     "user_tz": -480
    },
    "id": "9SMYmAClkakW",
    "outputId": "5f411d7c-257e-4fec-b6c4-41380c559c2e"
   },
   "outputs": [
    {
     "name": "stdout",
     "output_type": "stream",
     "text": [
      "You passed 5 of the 5 tests. \n",
      "The solution is correct\n"
     ]
    }
   ],
   "source": [
    "def wrong_position2(List1,List2):     # PROS: same as right_position2\n",
    "    \n",
    "    count = 0\n",
    "    n = len(List1)\n",
    "    for i in range(n):                # In general, looping through the index of list will give better control as index is UNIQUE for each item\n",
    "        for j in range(n):\n",
    "            if (i != j) and (List1[i]==List2[j]):\n",
    "                count += 1\n",
    "    return count  \n",
    "\n",
    "eb[8].check(wrong_position2)"
   ]
  },
  {
   "cell_type": "code",
   "execution_count": null,
   "metadata": {
    "colab": {
     "base_uri": "https://localhost:8080/",
     "height": 244
    },
    "executionInfo": {
     "elapsed": 379,
     "status": "ok",
     "timestamp": 1624341522549,
     "user": {
      "displayName": "Nhi Tran",
      "photoUrl": "https://lh3.googleusercontent.com/a-/AOh14GgeL2xyHR-N6XJQH4olH5Nesy2bRFkOT6nLyPwy=s64",
      "userId": "11498988852829301831"
     },
     "user_tz": -480
    },
    "id": "CpDuBfRXlQWG",
    "outputId": "a9895dfb-b25f-4e67-80bc-32af6c2d46f1"
   },
   "outputs": [
    {
     "name": "stdout",
     "output_type": "stream",
     "text": [
      "Given a list of unique numbers, write a function to return the position \n",
      "index of the smallest number. For example, if the given list is [3, 1, 5, 0, \n",
      "2, 6], then the returned index is 3, because the smallest number 0 appears \n",
      "at position 3.\n"
     ]
    },
    {
     "data": {
      "text/html": [
       "<div>\n",
       "<style scoped>\n",
       "    .dataframe tbody tr th:only-of-type {\n",
       "        vertical-align: middle;\n",
       "    }\n",
       "\n",
       "    .dataframe tbody tr th {\n",
       "        vertical-align: top;\n",
       "    }\n",
       "\n",
       "    .dataframe thead th {\n",
       "        text-align: right;\n",
       "    }\n",
       "</style>\n",
       "<table border=\"1\" class=\"dataframe\">\n",
       "  <thead>\n",
       "    <tr style=\"text-align: right;\">\n",
       "      <th></th>\n",
       "      <th>Input1: list</th>\n",
       "      <th>Output: int</th>\n",
       "    </tr>\n",
       "  </thead>\n",
       "  <tbody>\n",
       "    <tr>\n",
       "      <th>Test 1:</th>\n",
       "      <td>[0, 1, 3, 2, 5]</td>\n",
       "      <td>0</td>\n",
       "    </tr>\n",
       "    <tr>\n",
       "      <th>Test 2:</th>\n",
       "      <td>[3, 2, 5, 1, 4, 0]</td>\n",
       "      <td>5</td>\n",
       "    </tr>\n",
       "    <tr>\n",
       "      <th>Test 3:</th>\n",
       "      <td>[1, 2, 0, 3, 5]</td>\n",
       "      <td>2</td>\n",
       "    </tr>\n",
       "  </tbody>\n",
       "</table>\n",
       "</div>"
      ],
      "text/plain": [
       "               Input1: list Output: int\n",
       "Test 1:     [0, 1, 3, 2, 5]           0\n",
       "Test 2:  [3, 2, 5, 1, 4, 0]           5\n",
       "Test 3:     [1, 2, 0, 3, 5]           2"
      ]
     },
     "metadata": {
      "tags": []
     },
     "output_type": "display_data"
    },
    {
     "data": {
      "text/plain": [
       "\n",
       "\u001b[1mMinimum Number Index: Medium\u001b[0;0m "
      ]
     },
     "execution_count": 25,
     "metadata": {
      "tags": []
     },
     "output_type": "execute_result"
    }
   ],
   "source": [
    "eb[9]"
   ]
  },
  {
   "cell_type": "code",
   "execution_count": null,
   "metadata": {
    "colab": {
     "base_uri": "https://localhost:8080/"
    },
    "executionInfo": {
     "elapsed": 335,
     "status": "ok",
     "timestamp": 1624341522550,
     "user": {
      "displayName": "Nhi Tran",
      "photoUrl": "https://lh3.googleusercontent.com/a-/AOh14GgeL2xyHR-N6XJQH4olH5Nesy2bRFkOT6nLyPwy=s64",
      "userId": "11498988852829301831"
     },
     "user_tz": -480
    },
    "id": "4T_iNN-LlVAR",
    "outputId": "09f3dd80-e55a-49fc-995e-956751273390"
   },
   "outputs": [
    {
     "name": "stdout",
     "output_type": "stream",
     "text": [
      "You passed 5 of the 5 tests. \n",
      "The solution is correct\n"
     ]
    }
   ],
   "source": [
    "def minimum_number_index(List):\n",
    "    \"\"\" This functions returns the index of the minimum of a list.\n",
    "        If list contains minimum at multiple indexes, the first index will be returned\"\"\"\n",
    "\n",
    "    smallest = min(List)\n",
    "    position = List.index(smallest)\n",
    "    return position\n",
    "\n",
    "eb[9].check(minimum_number_index)"
   ]
  },
  {
   "cell_type": "code",
   "execution_count": null,
   "metadata": {
    "colab": {
     "base_uri": "https://localhost:8080/",
     "height": 278
    },
    "executionInfo": {
     "elapsed": 291,
     "status": "ok",
     "timestamp": 1624341522550,
     "user": {
      "displayName": "Nhi Tran",
      "photoUrl": "https://lh3.googleusercontent.com/a-/AOh14GgeL2xyHR-N6XJQH4olH5Nesy2bRFkOT6nLyPwy=s64",
      "userId": "11498988852829301831"
     },
     "user_tz": -480
    },
    "id": "wLMuScHallRP",
    "outputId": "667deb7f-4f11-463b-95ab-384c2d8aff0a"
   },
   "outputs": [
    {
     "name": "stdout",
     "output_type": "stream",
     "text": [
      "Given a list of numbers as the first input argument, and an integer k as \n",
      "the second argument, write a function that returns a list of the k smallest \n",
      "numbers of the list. Items in the returned list is ranked from the smallest \n",
      "to the largest. For example, if the list is [0, 1, 2, 3, 2, 5], and the \n",
      "integer is k=3, then the returned list is [0, 1, 2]. If k is larger than \n",
      "the length of the list, then return the whole list.\n"
     ]
    },
    {
     "data": {
      "text/html": [
       "<div>\n",
       "<style scoped>\n",
       "    .dataframe tbody tr th:only-of-type {\n",
       "        vertical-align: middle;\n",
       "    }\n",
       "\n",
       "    .dataframe tbody tr th {\n",
       "        vertical-align: top;\n",
       "    }\n",
       "\n",
       "    .dataframe thead th {\n",
       "        text-align: right;\n",
       "    }\n",
       "</style>\n",
       "<table border=\"1\" class=\"dataframe\">\n",
       "  <thead>\n",
       "    <tr style=\"text-align: right;\">\n",
       "      <th></th>\n",
       "      <th>Input1: list</th>\n",
       "      <th>Input2: int</th>\n",
       "      <th>Output: list</th>\n",
       "    </tr>\n",
       "  </thead>\n",
       "  <tbody>\n",
       "    <tr>\n",
       "      <th>Test 1:</th>\n",
       "      <td>[0, 1, 2, 3, 2, 5]</td>\n",
       "      <td>3</td>\n",
       "      <td>[0, 1, 2]</td>\n",
       "    </tr>\n",
       "    <tr>\n",
       "      <th>Test 2:</th>\n",
       "      <td>[0, 1, 2, 3, 2, 5]</td>\n",
       "      <td>1</td>\n",
       "      <td>[0]</td>\n",
       "    </tr>\n",
       "    <tr>\n",
       "      <th>Test 3:</th>\n",
       "      <td>[0, 1, 2, 3, 2, 5]</td>\n",
       "      <td>8</td>\n",
       "      <td>[0, 1, 2, 2, 3, 5]</td>\n",
       "    </tr>\n",
       "  </tbody>\n",
       "</table>\n",
       "</div>"
      ],
      "text/plain": [
       "               Input1: list Input2: int        Output: list\n",
       "Test 1:  [0, 1, 2, 3, 2, 5]           3           [0, 1, 2]\n",
       "Test 2:  [0, 1, 2, 3, 2, 5]           1                 [0]\n",
       "Test 3:  [0, 1, 2, 3, 2, 5]           8  [0, 1, 2, 2, 3, 5]"
      ]
     },
     "metadata": {
      "tags": []
     },
     "output_type": "display_data"
    },
    {
     "data": {
      "text/plain": [
       "\n",
       "\u001b[1mK Smallest: Medium\u001b[0;0m "
      ]
     },
     "execution_count": 27,
     "metadata": {
      "tags": []
     },
     "output_type": "execute_result"
    }
   ],
   "source": [
    "eb[10]"
   ]
  },
  {
   "cell_type": "code",
   "execution_count": null,
   "metadata": {
    "colab": {
     "base_uri": "https://localhost:8080/"
    },
    "executionInfo": {
     "elapsed": 248,
     "status": "ok",
     "timestamp": 1624341522551,
     "user": {
      "displayName": "Nhi Tran",
      "photoUrl": "https://lh3.googleusercontent.com/a-/AOh14GgeL2xyHR-N6XJQH4olH5Nesy2bRFkOT6nLyPwy=s64",
      "userId": "11498988852829301831"
     },
     "user_tz": -480
    },
    "id": "dJ5eDqzblpJz",
    "outputId": "d52886ed-a917-4416-acec-e2f699c28b63"
   },
   "outputs": [
    {
     "name": "stdout",
     "output_type": "stream",
     "text": [
      "You passed 9 of the 9 tests. \n",
      "The solution is correct\n"
     ]
    }
   ],
   "source": [
    "def k_smallest(List,k):         # Avoid using .sort() as required by the assignment\n",
    "    \"\"\"This function returns a list containing k smallest values from an existing list\"\"\"\n",
    "    \n",
    "    if k >= len(List):\n",
    "        k = len(List)\n",
    "    new_list =[]\n",
    "    for k in range(k):\n",
    "        index_min = List.index(min(List))     # Will return the index of the first encountered min, regardless of how many min values there are\n",
    "        smallest = List.pop(index_min)        # .pop() will return a value ('smallest'), while removing the same value from original list\n",
    "        new_list.append(smallest)\n",
    "    return new_list\n",
    "\n",
    "eb[10].check(k_smallest)"
   ]
  },
  {
   "cell_type": "code",
   "execution_count": null,
   "metadata": {
    "colab": {
     "base_uri": "https://localhost:8080/"
    },
    "executionInfo": {
     "elapsed": 204,
     "status": "ok",
     "timestamp": 1624341522551,
     "user": {
      "displayName": "Nhi Tran",
      "photoUrl": "https://lh3.googleusercontent.com/a-/AOh14GgeL2xyHR-N6XJQH4olH5Nesy2bRFkOT6nLyPwy=s64",
      "userId": "11498988852829301831"
     },
     "user_tz": -480
    },
    "id": "NX9rDLrjmZyA",
    "outputId": "701544c1-138c-4f44-ce2e-665b77cd880d"
   },
   "outputs": [
    {
     "name": "stdout",
     "output_type": "stream",
     "text": [
      "You passed 9 of the 9 tests. \n",
      "The solution is correct\n"
     ]
    }
   ],
   "source": [
    "def k_smallest2(List,k):        # Shorter method, built on .sort() or sorted(List)\n",
    "    \"\"\"This function returns a list containing k smallest values from an existing list\"\"\"\n",
    "    \n",
    "    List = sorted(List)         # sorted(List) and List.sort() yield similar result. The former creates a new list with sorted value,\n",
    "    if k >= len(List):          # the latter only sorts the value without creating a new one, or affecting the original list\n",
    "        k = len(List)\n",
    "    new_list =[]\n",
    "    for k in range(k):\n",
    "        new_list.append(List[k])\n",
    "    return new_list\n",
    "\n",
    "eb[10].check(k_smallest2)"
   ]
  },
  {
   "cell_type": "code",
   "execution_count": null,
   "metadata": {
    "colab": {
     "base_uri": "https://localhost:8080/",
     "height": 213
    },
    "executionInfo": {
     "elapsed": 161,
     "status": "ok",
     "timestamp": 1624341522552,
     "user": {
      "displayName": "Nhi Tran",
      "photoUrl": "https://lh3.googleusercontent.com/a-/AOh14GgeL2xyHR-N6XJQH4olH5Nesy2bRFkOT6nLyPwy=s64",
      "userId": "11498988852829301831"
     },
     "user_tz": -480
    },
    "id": "qCCYZLFjnKNy",
    "outputId": "24972a76-647b-45af-9764-f353ab716af3"
   },
   "outputs": [
    {
     "name": "stdout",
     "output_type": "stream",
     "text": [
      "Write a function to find the longest common prefix string amongst a list of \n",
      "strings. For example, the input argument is [\"flower\", \"flow\", \"flight\"], \n",
      "the output is \"fl\". If there is no common prefix among the input strings, \n",
      "the output is an empty string.\n"
     ]
    },
    {
     "data": {
      "text/html": [
       "<div>\n",
       "<style scoped>\n",
       "    .dataframe tbody tr th:only-of-type {\n",
       "        vertical-align: middle;\n",
       "    }\n",
       "\n",
       "    .dataframe tbody tr th {\n",
       "        vertical-align: top;\n",
       "    }\n",
       "\n",
       "    .dataframe thead th {\n",
       "        text-align: right;\n",
       "    }\n",
       "</style>\n",
       "<table border=\"1\" class=\"dataframe\">\n",
       "  <thead>\n",
       "    <tr style=\"text-align: right;\">\n",
       "      <th></th>\n",
       "      <th>Input1: list</th>\n",
       "      <th>Output: str</th>\n",
       "    </tr>\n",
       "  </thead>\n",
       "  <tbody>\n",
       "    <tr>\n",
       "      <th>Test 1:</th>\n",
       "      <td>['flower', 'flow', 'flight']</td>\n",
       "      <td>fl</td>\n",
       "    </tr>\n",
       "    <tr>\n",
       "      <th>Test 2:</th>\n",
       "      <td>['flower', 'flow', 'flight', 'inflow']</td>\n",
       "      <td></td>\n",
       "    </tr>\n",
       "  </tbody>\n",
       "</table>\n",
       "</div>"
      ],
      "text/plain": [
       "                                   Input1: list Output: str\n",
       "Test 1:            ['flower', 'flow', 'flight']          fl\n",
       "Test 2:  ['flower', 'flow', 'flight', 'inflow']            "
      ]
     },
     "metadata": {
      "tags": []
     },
     "output_type": "display_data"
    },
    {
     "data": {
      "text/plain": [
       "\n",
       "\u001b[1mCommon Prefix: Hard\u001b[0;0m "
      ]
     },
     "execution_count": 30,
     "metadata": {
      "tags": []
     },
     "output_type": "execute_result"
    }
   ],
   "source": [
    "eb[11]"
   ]
  },
  {
   "cell_type": "code",
   "execution_count": null,
   "metadata": {
    "colab": {
     "base_uri": "https://localhost:8080/"
    },
    "executionInfo": {
     "elapsed": 118,
     "status": "ok",
     "timestamp": 1624341522553,
     "user": {
      "displayName": "Nhi Tran",
      "photoUrl": "https://lh3.googleusercontent.com/a-/AOh14GgeL2xyHR-N6XJQH4olH5Nesy2bRFkOT6nLyPwy=s64",
      "userId": "11498988852829301831"
     },
     "user_tz": -480
    },
    "id": "YP_bIVnKnTBZ",
    "outputId": "10f43f54-fe7a-4e27-974c-1fa9f0eba7b6"
   },
   "outputs": [
    {
     "name": "stdout",
     "output_type": "stream",
     "text": [
      "You passed 4 of the 4 tests. \n",
      "The solution is correct\n"
     ]
    }
   ],
   "source": [
    "def common_prefix(List):\n",
    "    \"\"\"This function returns the longest common substring amongst a list of strings\"\"\"\n",
    "    \n",
    "    Lengths = []\n",
    "    for i in range(len(List)):        # Find the shortest string, as the longest common prefix can only be as long as the shortest string\n",
    "        Lengths.append(len(List[i]))  # This is to prevent index not found if using a longer string as the base of iterator\n",
    "        shortest = min(Lengths)\n",
    "    common = []\n",
    "    word = \"\"\n",
    "    for i in range(shortest):          # Only loop as many times as the length of the shortest string   \n",
    "        char = List[0][i]              # Use List[0] as point of reference                  \n",
    "        for j in range(len(List)):\n",
    "            n = 0                      # Set up the condition to end while loop\n",
    "            while n < j:\n",
    "                if List[j][i] != char: # Check if the value at index(i) of all items are that of the reference (List[0])\n",
    "                    n = j * j          # Force end while loop mathematically, can be anything as long as it contradicts the loop condition \n",
    "                    word = \"\"          # Reset common word to empty string upon different characters encountered\n",
    "                else:\n",
    "                    n = n + 1          # Counter to end loop\n",
    "        if n == j:                 # If while loop is completed without interruption, (n == j), all items in List have the same value at index(i)\n",
    "            word += char\n",
    "            common.append(word)\n",
    "    if len(common) == 0:                # Assign string value as return to empty list (no common substring found)\n",
    "        return \"\"\n",
    "    else:\n",
    "        return max(common, key=len)     # Return the maximum by len of common = []\n",
    "\n",
    "eb[11].check(common_prefix)"
   ]
  },
  {
   "cell_type": "code",
   "execution_count": null,
   "metadata": {
    "colab": {
     "base_uri": "https://localhost:8080/",
     "height": 261
    },
    "executionInfo": {
     "elapsed": 73,
     "status": "ok",
     "timestamp": 1624341522553,
     "user": {
      "displayName": "Nhi Tran",
      "photoUrl": "https://lh3.googleusercontent.com/a-/AOh14GgeL2xyHR-N6XJQH4olH5Nesy2bRFkOT6nLyPwy=s64",
      "userId": "11498988852829301831"
     },
     "user_tz": -480
    },
    "id": "BKMQtmMAx0MV",
    "outputId": "8354c0e3-6f2d-4447-8d22-dea5a0bd414d"
   },
   "outputs": [
    {
     "name": "stdout",
     "output_type": "stream",
     "text": [
      "Write a function to find the Nth number in the Fibonacci Sequence, In the \n",
      "Fibonacci Sequence, the next number is the sum of the two numbers before it, \n",
      "i.e. 0, 1, 1, 2, 3, 5, 8, 13, 21, 34, ... For example, if N=0, then the \n",
      "output is 0; if N=1 or N=2, then the output is 1; if N=3, then the output is \n",
      "2; if N=4, then the output is 3.\n"
     ]
    },
    {
     "data": {
      "text/html": [
       "<div>\n",
       "<style scoped>\n",
       "    .dataframe tbody tr th:only-of-type {\n",
       "        vertical-align: middle;\n",
       "    }\n",
       "\n",
       "    .dataframe tbody tr th {\n",
       "        vertical-align: top;\n",
       "    }\n",
       "\n",
       "    .dataframe thead th {\n",
       "        text-align: right;\n",
       "    }\n",
       "</style>\n",
       "<table border=\"1\" class=\"dataframe\">\n",
       "  <thead>\n",
       "    <tr style=\"text-align: right;\">\n",
       "      <th></th>\n",
       "      <th>Input1: int</th>\n",
       "      <th>Output: int</th>\n",
       "    </tr>\n",
       "  </thead>\n",
       "  <tbody>\n",
       "    <tr>\n",
       "      <th>Test 1:</th>\n",
       "      <td>4</td>\n",
       "      <td>3</td>\n",
       "    </tr>\n",
       "    <tr>\n",
       "      <th>Test 2:</th>\n",
       "      <td>20</td>\n",
       "      <td>6765</td>\n",
       "    </tr>\n",
       "    <tr>\n",
       "      <th>Test 3:</th>\n",
       "      <td>100</td>\n",
       "      <td>354224848179261915075</td>\n",
       "    </tr>\n",
       "  </tbody>\n",
       "</table>\n",
       "</div>"
      ],
      "text/plain": [
       "        Input1: int            Output: int\n",
       "Test 1:           4                      3\n",
       "Test 2:          20                   6765\n",
       "Test 3:         100  354224848179261915075"
      ]
     },
     "metadata": {
      "tags": []
     },
     "output_type": "display_data"
    },
    {
     "data": {
      "text/plain": [
       "\n",
       "\u001b[1mFibonacci: Medium\u001b[0;0m "
      ]
     },
     "execution_count": 32,
     "metadata": {
      "tags": []
     },
     "output_type": "execute_result"
    }
   ],
   "source": [
    "eb[12]"
   ]
  },
  {
   "cell_type": "code",
   "execution_count": null,
   "metadata": {
    "colab": {
     "base_uri": "https://localhost:8080/"
    },
    "executionInfo": {
     "elapsed": 1967,
     "status": "ok",
     "timestamp": 1624341524491,
     "user": {
      "displayName": "Nhi Tran",
      "photoUrl": "https://lh3.googleusercontent.com/a-/AOh14GgeL2xyHR-N6XJQH4olH5Nesy2bRFkOT6nLyPwy=s64",
      "userId": "11498988852829301831"
     },
     "user_tz": -480
    },
    "id": "6SybjyqGx9EN",
    "outputId": "b5155b77-0b68-45b4-fc48-d79fdbcbe0f4"
   },
   "outputs": [
    {
     "name": "stdout",
     "output_type": "stream",
     "text": [
      "You passed 11 of the 11 tests. \n",
      "The solution is correct\n"
     ]
    }
   ],
   "source": [
    "def fibonacci(n):\n",
    "    \"\"\"This function returns the Nth Fibonacci number, using memoization and recursion\"\"\"\n",
    "    \n",
    "    F = [0,1]                   # Memoization = save all found data to this list for further use\n",
    "    for i in range(2,n+1):\n",
    "        F_num = F[i-1]+F[i-2]   # if F[i-1] and F[i-2] don't exist, Python will start finding its sub-value, meaning F[i-3], F[i-4] and so on\n",
    "        F.append(F_num)         # until a value is met. All values found by this method will be saved for subsequent retrieval, reducing runtime\n",
    "    return F[n]\n",
    "\n",
    "eb[12].check(fibonacci)"
   ]
  },
  {
   "cell_type": "code",
   "execution_count": null,
   "metadata": {
    "colab": {
     "base_uri": "https://localhost:8080/",
     "height": 213
    },
    "executionInfo": {
     "elapsed": 1462,
     "status": "ok",
     "timestamp": 1624341524492,
     "user": {
      "displayName": "Nhi Tran",
      "photoUrl": "https://lh3.googleusercontent.com/a-/AOh14GgeL2xyHR-N6XJQH4olH5Nesy2bRFkOT6nLyPwy=s64",
      "userId": "11498988852829301831"
     },
     "user_tz": -480
    },
    "id": "GRPgLF_l0gmj",
    "outputId": "40e5dd5a-e954-4cc6-856c-85c4508948ae"
   },
   "outputs": [
    {
     "name": "stdout",
     "output_type": "stream",
     "text": [
      "Create a function to transform the time data as a string of \"XX:XX:XXam\" or \n",
      "\"XX:XX:XXpm\" to the number of seconds counted from 12:00am. For example, the \n",
      "input of \"10:35:29am\" gives an output of 38129; the input of 06:21:33pm gives \n",
      "an output of 66093.\n"
     ]
    },
    {
     "data": {
      "text/html": [
       "<div>\n",
       "<style scoped>\n",
       "    .dataframe tbody tr th:only-of-type {\n",
       "        vertical-align: middle;\n",
       "    }\n",
       "\n",
       "    .dataframe tbody tr th {\n",
       "        vertical-align: top;\n",
       "    }\n",
       "\n",
       "    .dataframe thead th {\n",
       "        text-align: right;\n",
       "    }\n",
       "</style>\n",
       "<table border=\"1\" class=\"dataframe\">\n",
       "  <thead>\n",
       "    <tr style=\"text-align: right;\">\n",
       "      <th></th>\n",
       "      <th>Input1: str</th>\n",
       "      <th>Output: int</th>\n",
       "    </tr>\n",
       "  </thead>\n",
       "  <tbody>\n",
       "    <tr>\n",
       "      <th>Test 1:</th>\n",
       "      <td>10:35:29am</td>\n",
       "      <td>38129</td>\n",
       "    </tr>\n",
       "    <tr>\n",
       "      <th>Test 2:</th>\n",
       "      <td>06:21:33pm</td>\n",
       "      <td>66093</td>\n",
       "    </tr>\n",
       "  </tbody>\n",
       "</table>\n",
       "</div>"
      ],
      "text/plain": [
       "        Input1: str Output: int\n",
       "Test 1:  10:35:29am       38129\n",
       "Test 2:  06:21:33pm       66093"
      ]
     },
     "metadata": {
      "tags": []
     },
     "output_type": "display_data"
    },
    {
     "data": {
      "text/plain": [
       "\n",
       "\u001b[1mTime Conversiont: Easy\u001b[0;0m "
      ]
     },
     "execution_count": 34,
     "metadata": {
      "tags": []
     },
     "output_type": "execute_result"
    }
   ],
   "source": [
    "eb[13]"
   ]
  },
  {
   "cell_type": "code",
   "execution_count": null,
   "metadata": {
    "colab": {
     "base_uri": "https://localhost:8080/"
    },
    "executionInfo": {
     "elapsed": 1395,
     "status": "ok",
     "timestamp": 1624341524493,
     "user": {
      "displayName": "Nhi Tran",
      "photoUrl": "https://lh3.googleusercontent.com/a-/AOh14GgeL2xyHR-N6XJQH4olH5Nesy2bRFkOT6nLyPwy=s64",
      "userId": "11498988852829301831"
     },
     "user_tz": -480
    },
    "id": "EfJ3Y0qJ0rVD",
    "outputId": "ef1cc3f6-2431-4d0e-93f7-6f623441239c"
   },
   "outputs": [
    {
     "name": "stdout",
     "output_type": "stream",
     "text": [
      "You passed 4 of the 4 tests. \n",
      "The solution is correct\n"
     ]
    }
   ],
   "source": [
    "def time_conversion(time):          # Avoid using .split() as required by the assignment\n",
    "    \"\"\"This function returns the total seconds have passed since 12.00am to a given time\"\"\"\n",
    "    \n",
    "    if time[-2:] == \"pm\":           # Convert PM time to 24hrs format           \n",
    "        new = int(time[0:2])+12     # Mathematic expression can only be performed on int, data type conversion required\n",
    "        time = str(new) + time[2:]  # Concatenate only works with str, data type conversion again\n",
    "\n",
    "    h = int(time[0:2])              # Using slicing to extract hours, minutes, and seconds from the given string\n",
    "    m = int(time[3:5])\n",
    "    s = int(time[6:8])\n",
    "\n",
    "    seconds = 3600*h + 60*m + s\n",
    "    return seconds\n",
    "\n",
    "eb[13].check(time_conversion)"
   ]
  },
  {
   "cell_type": "code",
   "execution_count": null,
   "metadata": {
    "colab": {
     "base_uri": "https://localhost:8080/"
    },
    "executionInfo": {
     "elapsed": 1285,
     "status": "ok",
     "timestamp": 1624341524493,
     "user": {
      "displayName": "Nhi Tran",
      "photoUrl": "https://lh3.googleusercontent.com/a-/AOh14GgeL2xyHR-N6XJQH4olH5Nesy2bRFkOT6nLyPwy=s64",
      "userId": "11498988852829301831"
     },
     "user_tz": -480
    },
    "id": "1-Ckwjlc15GF",
    "outputId": "a5048326-4fe1-4f77-eb90-0942ec9c62ee"
   },
   "outputs": [
    {
     "name": "stdout",
     "output_type": "stream",
     "text": [
      "You passed 4 of the 4 tests. \n",
      "The solution is correct\n"
     ]
    }
   ],
   "source": [
    "def time_conversion2(time):          # Use .split() to simplify code\n",
    "    \"\"\"This function returns the total seconds have passed since 12.00am to a given time\"\"\"\n",
    "    \n",
    "    if time[-2:] == \"pm\":\n",
    "        new = int(time[0:2])+12\n",
    "        time = str(new) + time[2:]\n",
    "    time = time[:-2]\n",
    "    clocks = time.split(\":\")\n",
    "\n",
    "    seconds = 3600*int(clocks[0]) + 60*int(clocks[1]) + int(clocks[2])  # Convert to int is needed for mathematical calculation\n",
    "    return seconds\n",
    "\n",
    "eb[13].check(time_conversion2)"
   ]
  },
  {
   "cell_type": "code",
   "execution_count": null,
   "metadata": {
    "colab": {
     "base_uri": "https://localhost:8080/",
     "height": 179
    },
    "executionInfo": {
     "elapsed": 1210,
     "status": "ok",
     "timestamp": 1624341524494,
     "user": {
      "displayName": "Nhi Tran",
      "photoUrl": "https://lh3.googleusercontent.com/a-/AOh14GgeL2xyHR-N6XJQH4olH5Nesy2bRFkOT6nLyPwy=s64",
      "userId": "11498988852829301831"
     },
     "user_tz": -480
    },
    "id": "OHSrmBj5ZaUR",
    "outputId": "601e5a2c-34ed-4a2e-f984-b2f79471111f"
   },
   "outputs": [
    {
     "name": "stdout",
     "output_type": "stream",
     "text": [
      "Reverse the digits of an integer. For example, if the input is 123, then the \n",
      "output is 321; if the input is -456, then the output is -654.\n"
     ]
    },
    {
     "data": {
      "text/html": [
       "<div>\n",
       "<style scoped>\n",
       "    .dataframe tbody tr th:only-of-type {\n",
       "        vertical-align: middle;\n",
       "    }\n",
       "\n",
       "    .dataframe tbody tr th {\n",
       "        vertical-align: top;\n",
       "    }\n",
       "\n",
       "    .dataframe thead th {\n",
       "        text-align: right;\n",
       "    }\n",
       "</style>\n",
       "<table border=\"1\" class=\"dataframe\">\n",
       "  <thead>\n",
       "    <tr style=\"text-align: right;\">\n",
       "      <th></th>\n",
       "      <th>Input1: int</th>\n",
       "      <th>Output: int</th>\n",
       "    </tr>\n",
       "  </thead>\n",
       "  <tbody>\n",
       "    <tr>\n",
       "      <th>Test 1:</th>\n",
       "      <td>123</td>\n",
       "      <td>321</td>\n",
       "    </tr>\n",
       "    <tr>\n",
       "      <th>Test 2:</th>\n",
       "      <td>-456</td>\n",
       "      <td>-654</td>\n",
       "    </tr>\n",
       "  </tbody>\n",
       "</table>\n",
       "</div>"
      ],
      "text/plain": [
       "        Input1: int Output: int\n",
       "Test 1:         123         321\n",
       "Test 2:        -456        -654"
      ]
     },
     "metadata": {
      "tags": []
     },
     "output_type": "display_data"
    },
    {
     "data": {
      "text/plain": [
       "\n",
       "\u001b[1mReverse Digits: Easy\u001b[0;0m "
      ]
     },
     "execution_count": 37,
     "metadata": {
      "tags": []
     },
     "output_type": "execute_result"
    }
   ],
   "source": [
    "eb[14]"
   ]
  },
  {
   "cell_type": "code",
   "execution_count": null,
   "metadata": {
    "colab": {
     "base_uri": "https://localhost:8080/"
    },
    "executionInfo": {
     "elapsed": 1154,
     "status": "ok",
     "timestamp": 1624341524494,
     "user": {
      "displayName": "Nhi Tran",
      "photoUrl": "https://lh3.googleusercontent.com/a-/AOh14GgeL2xyHR-N6XJQH4olH5Nesy2bRFkOT6nLyPwy=s64",
      "userId": "11498988852829301831"
     },
     "user_tz": -480
    },
    "id": "KE4ikF32Zezw",
    "outputId": "28deb752-cb98-4c70-820e-4c51e3f8a073"
   },
   "outputs": [
    {
     "name": "stdout",
     "output_type": "stream",
     "text": [
      "You passed 6 of the 6 tests. \n",
      "The solution is correct\n"
     ]
    }
   ],
   "source": [
    "def reverse_digits(n):\n",
    "    \"\"\"This function reverses the digit of the given number\"\"\"\n",
    "    \n",
    "    s = str(n)                # Index and slicing only works on string, data conversion needed\n",
    "    if n < 0:\n",
    "        r = s[:0:-1]\n",
    "        result = int(r)*(-1)\n",
    "    else:\n",
    "        r = s[::-1]\n",
    "        result = int(r)\n",
    "    return result\n",
    "\n",
    "eb[14].check(reverse_digits)"
   ]
  },
  {
   "cell_type": "code",
   "execution_count": null,
   "metadata": {
    "colab": {
     "base_uri": "https://localhost:8080/",
     "height": 196
    },
    "executionInfo": {
     "elapsed": 1107,
     "status": "ok",
     "timestamp": 1624341524495,
     "user": {
      "displayName": "Nhi Tran",
      "photoUrl": "https://lh3.googleusercontent.com/a-/AOh14GgeL2xyHR-N6XJQH4olH5Nesy2bRFkOT6nLyPwy=s64",
      "userId": "11498988852829301831"
     },
     "user_tz": -480
    },
    "id": "h9Q_UIEFZuu3",
    "outputId": "9df560de-1d6f-4119-fc3e-a3141a63a8fb"
   },
   "outputs": [
    {
     "name": "stdout",
     "output_type": "stream",
     "text": [
      "Create a function to remove all duplicates in a list, so that the output is a \n",
      "list containing the unique values of the original list. For example, if the \n",
      "input list is [2, 3, 5, 2, 3, 4, 7], then the output must be [2, 3, 5, 4, 7].\n"
     ]
    },
    {
     "data": {
      "text/html": [
       "<div>\n",
       "<style scoped>\n",
       "    .dataframe tbody tr th:only-of-type {\n",
       "        vertical-align: middle;\n",
       "    }\n",
       "\n",
       "    .dataframe tbody tr th {\n",
       "        vertical-align: top;\n",
       "    }\n",
       "\n",
       "    .dataframe thead th {\n",
       "        text-align: right;\n",
       "    }\n",
       "</style>\n",
       "<table border=\"1\" class=\"dataframe\">\n",
       "  <thead>\n",
       "    <tr style=\"text-align: right;\">\n",
       "      <th></th>\n",
       "      <th>Input1: list</th>\n",
       "      <th>Output: list</th>\n",
       "    </tr>\n",
       "  </thead>\n",
       "  <tbody>\n",
       "    <tr>\n",
       "      <th>Test 1:</th>\n",
       "      <td>[2, 3, 5, 2, 3, 4, 7]</td>\n",
       "      <td>[2, 3, 5, 4, 7]</td>\n",
       "    </tr>\n",
       "    <tr>\n",
       "      <th>Test 2:</th>\n",
       "      <td>[3.5, '4', '4', True, False, False]</td>\n",
       "      <td>[3.5, '4', True, False]</td>\n",
       "    </tr>\n",
       "  </tbody>\n",
       "</table>\n",
       "</div>"
      ],
      "text/plain": [
       "                                Input1: list             Output: list\n",
       "Test 1:                [2, 3, 5, 2, 3, 4, 7]          [2, 3, 5, 4, 7]\n",
       "Test 2:  [3.5, '4', '4', True, False, False]  [3.5, '4', True, False]"
      ]
     },
     "metadata": {
      "tags": []
     },
     "output_type": "display_data"
    },
    {
     "data": {
      "text/plain": [
       "\n",
       "\u001b[1mUnique: Easy\u001b[0;0m "
      ]
     },
     "execution_count": 39,
     "metadata": {
      "tags": []
     },
     "output_type": "execute_result"
    }
   ],
   "source": [
    "eb[15]"
   ]
  },
  {
   "cell_type": "code",
   "execution_count": null,
   "metadata": {
    "colab": {
     "base_uri": "https://localhost:8080/"
    },
    "executionInfo": {
     "elapsed": 1060,
     "status": "ok",
     "timestamp": 1624341524495,
     "user": {
      "displayName": "Nhi Tran",
      "photoUrl": "https://lh3.googleusercontent.com/a-/AOh14GgeL2xyHR-N6XJQH4olH5Nesy2bRFkOT6nLyPwy=s64",
      "userId": "11498988852829301831"
     },
     "user_tz": -480
    },
    "id": "elaIWplUZzK7",
    "outputId": "de98cac6-0b42-45d3-e0ca-1b591d521c02"
   },
   "outputs": [
    {
     "name": "stdout",
     "output_type": "stream",
     "text": [
      "You passed 3 of the 3 tests. \n",
      "The solution is correct\n"
     ]
    }
   ],
   "source": [
    "def unique(List):\n",
    "    \"\"\"This function returns all unique values of a given list\"\"\"\n",
    "    \n",
    "    new_List = []\n",
    "    for i in List:\n",
    "        if i not in new_List:     # Check if i is NOT in new_List before appending i to new_List, hence,\n",
    "            new_List.append(i)    # all items in new_List will be unique\n",
    "    return new_List\n",
    "\n",
    "eb[15].check(unique)"
   ]
  },
  {
   "cell_type": "code",
   "execution_count": null,
   "metadata": {
    "colab": {
     "base_uri": "https://localhost:8080/",
     "height": 230
    },
    "executionInfo": {
     "elapsed": 1017,
     "status": "ok",
     "timestamp": 1624341524496,
     "user": {
      "displayName": "Nhi Tran",
      "photoUrl": "https://lh3.googleusercontent.com/a-/AOh14GgeL2xyHR-N6XJQH4olH5Nesy2bRFkOT6nLyPwy=s64",
      "userId": "11498988852829301831"
     },
     "user_tz": -480
    },
    "id": "jVmRIuOSaK5J",
    "outputId": "e558abf2-8552-425a-e461-cb5bfa42bb13"
   },
   "outputs": [
    {
     "name": "stdout",
     "output_type": "stream",
     "text": [
      "Create a function with the input argument to be a string. The output is the \n",
      "longest word in the string. For example, the input is a string \"NUS Business \n",
      "School is a magical place\", then the output is the string \"Business\". If\n",
      "there are two or more words with the same maximum length, then return the \n",
      "first one.\n"
     ]
    },
    {
     "data": {
      "text/html": [
       "<div>\n",
       "<style scoped>\n",
       "    .dataframe tbody tr th:only-of-type {\n",
       "        vertical-align: middle;\n",
       "    }\n",
       "\n",
       "    .dataframe tbody tr th {\n",
       "        vertical-align: top;\n",
       "    }\n",
       "\n",
       "    .dataframe thead th {\n",
       "        text-align: right;\n",
       "    }\n",
       "</style>\n",
       "<table border=\"1\" class=\"dataframe\">\n",
       "  <thead>\n",
       "    <tr style=\"text-align: right;\">\n",
       "      <th></th>\n",
       "      <th>Input1: str</th>\n",
       "      <th>Output: str</th>\n",
       "    </tr>\n",
       "  </thead>\n",
       "  <tbody>\n",
       "    <tr>\n",
       "      <th>Test 1:</th>\n",
       "      <td>NUS Business School is a magical place</td>\n",
       "      <td>Business</td>\n",
       "    </tr>\n",
       "    <tr>\n",
       "      <th>Test 2:</th>\n",
       "      <td>Simple is better than complex</td>\n",
       "      <td>complex</td>\n",
       "    </tr>\n",
       "  </tbody>\n",
       "</table>\n",
       "</div>"
      ],
      "text/plain": [
       "                                    Input1: str Output: str\n",
       "Test 1:  NUS Business School is a magical place    Business\n",
       "Test 2:           Simple is better than complex     complex"
      ]
     },
     "metadata": {
      "tags": []
     },
     "output_type": "display_data"
    },
    {
     "data": {
      "text/plain": [
       "\n",
       "\u001b[1mLongest Word: Medium\u001b[0;0m "
      ]
     },
     "execution_count": 41,
     "metadata": {
      "tags": []
     },
     "output_type": "execute_result"
    }
   ],
   "source": [
    "eb[16]"
   ]
  },
  {
   "cell_type": "code",
   "execution_count": null,
   "metadata": {
    "colab": {
     "base_uri": "https://localhost:8080/"
    },
    "executionInfo": {
     "elapsed": 972,
     "status": "ok",
     "timestamp": 1624341524496,
     "user": {
      "displayName": "Nhi Tran",
      "photoUrl": "https://lh3.googleusercontent.com/a-/AOh14GgeL2xyHR-N6XJQH4olH5Nesy2bRFkOT6nLyPwy=s64",
      "userId": "11498988852829301831"
     },
     "user_tz": -480
    },
    "id": "2J5igfvuaMpJ",
    "outputId": "a4328769-7933-4cdf-e0f1-ba855a659b0c"
   },
   "outputs": [
    {
     "name": "stdout",
     "output_type": "stream",
     "text": [
      "You passed 6 of the 6 tests. \n",
      "The solution is correct\n"
     ]
    }
   ],
   "source": [
    "def longest_word(string):         # Avoid using .split() as required by assignment\n",
    "    \"\"\" This function returns the longest word in a string. \n",
    "        If there are multiple words with the same string, the one with the smallest index will be return\"\"\"\n",
    "    \n",
    "    words = []\n",
    "    length = []\n",
    "    current_word = \"\"             # for loop to split string into multiple words\n",
    "    for char in string:\n",
    "        if char == \" \":\n",
    "            words.append(current_word)\n",
    "            length.append(len(current_word))\n",
    "            current_word = \"\"\n",
    "        else:\n",
    "            current_word += char\n",
    "    words.append(current_word)              # Append all single words to a list\n",
    "    length.append(len(current_word))        # Create a list that contains the lengths of all single words\n",
    "    return words[length.index(max(length))] # Retrieve the word at the index of the maximum lenghth\n",
    "\n",
    "eb[16].check(longest_word)"
   ]
  },
  {
   "cell_type": "code",
   "execution_count": null,
   "metadata": {
    "colab": {
     "base_uri": "https://localhost:8080/"
    },
    "executionInfo": {
     "elapsed": 929,
     "status": "ok",
     "timestamp": 1624341524497,
     "user": {
      "displayName": "Nhi Tran",
      "photoUrl": "https://lh3.googleusercontent.com/a-/AOh14GgeL2xyHR-N6XJQH4olH5Nesy2bRFkOT6nLyPwy=s64",
      "userId": "11498988852829301831"
     },
     "user_tz": -480
    },
    "id": "rcT5KzEnbRho",
    "outputId": "43d0e174-25a7-40cd-9150-55079c54b70a"
   },
   "outputs": [
    {
     "name": "stdout",
     "output_type": "stream",
     "text": [
      "You passed 6 of the 6 tests. \n",
      "The solution is correct\n"
     ]
    }
   ],
   "source": [
    "def longest_word2(string):         # Use .split() to simplify code\n",
    "    \"\"\" This function returns the longest word in a string. \n",
    "        If there are multiple words with the same string, the one with the smallest index will be return\"\"\"\n",
    "    \n",
    "    words = string.split()\n",
    "    return max(words, key=len)      # Retrieve the word at the index of the maximum length\n",
    "\n",
    "eb[16].check(longest_word2)"
   ]
  },
  {
   "cell_type": "code",
   "execution_count": null,
   "metadata": {
    "colab": {
     "base_uri": "https://localhost:8080/",
     "height": 196
    },
    "executionInfo": {
     "elapsed": 884,
     "status": "ok",
     "timestamp": 1624341524497,
     "user": {
      "displayName": "Nhi Tran",
      "photoUrl": "https://lh3.googleusercontent.com/a-/AOh14GgeL2xyHR-N6XJQH4olH5Nesy2bRFkOT6nLyPwy=s64",
      "userId": "11498988852829301831"
     },
     "user_tz": -480
    },
    "id": "c7tCtwJLcmxY",
    "outputId": "2d1d39c0-4428-4520-e195-fe474fa7e0be"
   },
   "outputs": [
    {
     "name": "stdout",
     "output_type": "stream",
     "text": [
      "Create a function to return the length of the last word in a string. For \n",
      "example, if the input is \"NUS Business School is a magical place\", then the \n",
      "output is 5, the length of the last word \"place\". \n"
     ]
    },
    {
     "data": {
      "text/html": [
       "<div>\n",
       "<style scoped>\n",
       "    .dataframe tbody tr th:only-of-type {\n",
       "        vertical-align: middle;\n",
       "    }\n",
       "\n",
       "    .dataframe tbody tr th {\n",
       "        vertical-align: top;\n",
       "    }\n",
       "\n",
       "    .dataframe thead th {\n",
       "        text-align: right;\n",
       "    }\n",
       "</style>\n",
       "<table border=\"1\" class=\"dataframe\">\n",
       "  <thead>\n",
       "    <tr style=\"text-align: right;\">\n",
       "      <th></th>\n",
       "      <th>Input1: str</th>\n",
       "      <th>Output: int</th>\n",
       "    </tr>\n",
       "  </thead>\n",
       "  <tbody>\n",
       "    <tr>\n",
       "      <th>Test 1:</th>\n",
       "      <td>NUS Business School is a magical place</td>\n",
       "      <td>5</td>\n",
       "    </tr>\n",
       "    <tr>\n",
       "      <th>Test 2:</th>\n",
       "      <td>Take a sad song and make it better</td>\n",
       "      <td>6</td>\n",
       "    </tr>\n",
       "  </tbody>\n",
       "</table>\n",
       "</div>"
      ],
      "text/plain": [
       "                                    Input1: str Output: int\n",
       "Test 1:  NUS Business School is a magical place           5\n",
       "Test 2:      Take a sad song and make it better           6"
      ]
     },
     "metadata": {
      "tags": []
     },
     "output_type": "display_data"
    },
    {
     "data": {
      "text/plain": [
       "\n",
       "\u001b[1mLast Word: Easy\u001b[0;0m "
      ]
     },
     "execution_count": 44,
     "metadata": {
      "tags": []
     },
     "output_type": "execute_result"
    }
   ],
   "source": [
    "eb[17]"
   ]
  },
  {
   "cell_type": "code",
   "execution_count": null,
   "metadata": {
    "colab": {
     "base_uri": "https://localhost:8080/"
    },
    "executionInfo": {
     "elapsed": 836,
     "status": "ok",
     "timestamp": 1624341524498,
     "user": {
      "displayName": "Nhi Tran",
      "photoUrl": "https://lh3.googleusercontent.com/a-/AOh14GgeL2xyHR-N6XJQH4olH5Nesy2bRFkOT6nLyPwy=s64",
      "userId": "11498988852829301831"
     },
     "user_tz": -480
    },
    "id": "rWASl8WKc-qG",
    "outputId": "06272fcd-156e-4e6d-ef8b-6e0a5f92aba2"
   },
   "outputs": [
    {
     "name": "stdout",
     "output_type": "stream",
     "text": [
      "You passed 6 of the 6 tests. \n",
      "The solution is correct\n"
     ]
    }
   ],
   "source": [
    "def last_word(string):        # Avoid using .split() as required by assignment, is a subset of eb[16]\n",
    "    \"\"\"This function returns the length of the last word in a string\"\"\"\n",
    "    \n",
    "    words = []\n",
    "    current_word = \"\"\n",
    "    for char in string:\n",
    "        if char == \" \":\n",
    "            words.append(current_word)\n",
    "            current_word = \"\"\n",
    "        else:\n",
    "            current_word += char\n",
    "    words.append(current_word)\n",
    "    return len(words[-1])\n",
    "\n",
    "eb[17].check(last_word)"
   ]
  },
  {
   "cell_type": "code",
   "execution_count": null,
   "metadata": {
    "colab": {
     "base_uri": "https://localhost:8080/"
    },
    "executionInfo": {
     "elapsed": 791,
     "status": "ok",
     "timestamp": 1624341524498,
     "user": {
      "displayName": "Nhi Tran",
      "photoUrl": "https://lh3.googleusercontent.com/a-/AOh14GgeL2xyHR-N6XJQH4olH5Nesy2bRFkOT6nLyPwy=s64",
      "userId": "11498988852829301831"
     },
     "user_tz": -480
    },
    "id": "bKtD9etodKBt",
    "outputId": "284510b9-ff4b-4ed0-9791-cb0eb4c8f149"
   },
   "outputs": [
    {
     "name": "stdout",
     "output_type": "stream",
     "text": [
      "You passed 6 of the 6 tests. \n",
      "The solution is correct\n"
     ]
    }
   ],
   "source": [
    "def last_word2(string):         # Using .split() to simplify code\n",
    "    \"\"\"This function returns the length of the last word in a string\"\"\"\n",
    "    \n",
    "    words = string.split()\n",
    "    return len(words[-1])\n",
    "\n",
    "eb[17].check(last_word2)"
   ]
  },
  {
   "cell_type": "code",
   "execution_count": null,
   "metadata": {
    "colab": {
     "base_uri": "https://localhost:8080/",
     "height": 199
    },
    "executionInfo": {
     "elapsed": 746,
     "status": "ok",
     "timestamp": 1624341524498,
     "user": {
      "displayName": "Nhi Tran",
      "photoUrl": "https://lh3.googleusercontent.com/a-/AOh14GgeL2xyHR-N6XJQH4olH5Nesy2bRFkOT6nLyPwy=s64",
      "userId": "11498988852829301831"
     },
     "user_tz": -480
    },
    "id": "4em9m7mYdwKm",
    "outputId": "d863d8e8-6bf3-4537-fe5b-13f36ae7f0b0"
   },
   "outputs": [
    {
     "name": "stdout",
     "output_type": "stream",
     "text": [
      "Create a function to convert a list of scores to grades. Grade \"A\" accounts \n",
      "for scores no lower than 90; grade \"B\" accounts for scores between 80 to 89; \n",
      "and grade \"C\" accounts for scores between 70 and 79; scores lower than 70 \n",
      "are recorded as \"D\". For example, if the input is [85.5, 92, 45, 74, 79], \n",
      "then the output is [\"B\", \"A\", \"D\", \"C\", \"C\"]. \n"
     ]
    },
    {
     "data": {
      "text/html": [
       "<div>\n",
       "<style scoped>\n",
       "    .dataframe tbody tr th:only-of-type {\n",
       "        vertical-align: middle;\n",
       "    }\n",
       "\n",
       "    .dataframe tbody tr th {\n",
       "        vertical-align: top;\n",
       "    }\n",
       "\n",
       "    .dataframe thead th {\n",
       "        text-align: right;\n",
       "    }\n",
       "</style>\n",
       "<table border=\"1\" class=\"dataframe\">\n",
       "  <thead>\n",
       "    <tr style=\"text-align: right;\">\n",
       "      <th></th>\n",
       "      <th>Input1: list</th>\n",
       "      <th>Output: list</th>\n",
       "    </tr>\n",
       "  </thead>\n",
       "  <tbody>\n",
       "    <tr>\n",
       "      <th>Test 1:</th>\n",
       "      <td>[85.5, 92, 45, 74, 79]</td>\n",
       "      <td>['B', 'A', 'D', 'C', 'C']</td>\n",
       "    </tr>\n",
       "  </tbody>\n",
       "</table>\n",
       "</div>"
      ],
      "text/plain": [
       "                   Input1: list               Output: list\n",
       "Test 1:  [85.5, 92, 45, 74, 79]  ['B', 'A', 'D', 'C', 'C']"
      ]
     },
     "metadata": {
      "tags": []
     },
     "output_type": "display_data"
    },
    {
     "data": {
      "text/plain": [
       "\n",
       "\u001b[1mGrade: Easy\u001b[0;0m "
      ]
     },
     "execution_count": 47,
     "metadata": {
      "tags": []
     },
     "output_type": "execute_result"
    }
   ],
   "source": [
    "eb[18]"
   ]
  },
  {
   "cell_type": "code",
   "execution_count": null,
   "metadata": {
    "colab": {
     "base_uri": "https://localhost:8080/"
    },
    "executionInfo": {
     "elapsed": 700,
     "status": "ok",
     "timestamp": 1624341524499,
     "user": {
      "displayName": "Nhi Tran",
      "photoUrl": "https://lh3.googleusercontent.com/a-/AOh14GgeL2xyHR-N6XJQH4olH5Nesy2bRFkOT6nLyPwy=s64",
      "userId": "11498988852829301831"
     },
     "user_tz": -480
    },
    "id": "35f6Wz4Mdn4l",
    "outputId": "fc48997b-8582-4a58-a04e-4d0e10ec9790"
   },
   "outputs": [
    {
     "name": "stdout",
     "output_type": "stream",
     "text": [
      "You passed 3 of the 3 tests. \n",
      "The solution is correct\n"
     ]
    }
   ],
   "source": [
    "def grade(Scores):\n",
    "    \n",
    "    Grades = []\n",
    "    for s in Scores:\n",
    "        if s >= 90:\n",
    "            g = 'A'\n",
    "        elif s >= 80:\n",
    "            g = 'B'\n",
    "        elif s >= 70:\n",
    "            g = 'C'\n",
    "        else:\n",
    "            g = 'D'\n",
    "        Grades.append(g)\n",
    "    return Grades\n",
    "\n",
    "eb[18].check(grade)"
   ]
  },
  {
   "cell_type": "code",
   "execution_count": null,
   "metadata": {
    "colab": {
     "base_uri": "https://localhost:8080/",
     "height": 247
    },
    "executionInfo": {
     "elapsed": 657,
     "status": "ok",
     "timestamp": 1624341524500,
     "user": {
      "displayName": "Nhi Tran",
      "photoUrl": "https://lh3.googleusercontent.com/a-/AOh14GgeL2xyHR-N6XJQH4olH5Nesy2bRFkOT6nLyPwy=s64",
      "userId": "11498988852829301831"
     },
     "user_tz": -480
    },
    "id": "J9jxNZRTdzHs",
    "outputId": "2cbf8a8a-958f-41e5-ed55-2b7fb9e29a11"
   },
   "outputs": [
    {
     "name": "stdout",
     "output_type": "stream",
     "text": [
      "Create a function to grade bubble cards. The first input argument is list of \n",
      "answers to be graded, and the second input argument is a list of correct \n",
      "answers. The function compares these two lists, and returns the proportion \n",
      "of answers to be correct. For example, if the inputs are [\"A\", \"C\", \"B\", \"D\", \n",
      "\"A\", \"D\"] and [\"A\", \"B\", \"C\", \"D\", \"D\", \"D\"], then the output is 0.5 because \n",
      "half of the values are the same in these two lists.\n"
     ]
    },
    {
     "data": {
      "text/html": [
       "<div>\n",
       "<style scoped>\n",
       "    .dataframe tbody tr th:only-of-type {\n",
       "        vertical-align: middle;\n",
       "    }\n",
       "\n",
       "    .dataframe tbody tr th {\n",
       "        vertical-align: top;\n",
       "    }\n",
       "\n",
       "    .dataframe thead th {\n",
       "        text-align: right;\n",
       "    }\n",
       "</style>\n",
       "<table border=\"1\" class=\"dataframe\">\n",
       "  <thead>\n",
       "    <tr style=\"text-align: right;\">\n",
       "      <th></th>\n",
       "      <th>Input1: list</th>\n",
       "      <th>Input2: list</th>\n",
       "      <th>Output: float</th>\n",
       "    </tr>\n",
       "  </thead>\n",
       "  <tbody>\n",
       "    <tr>\n",
       "      <th>Test 1:</th>\n",
       "      <td>['A', 'C', 'B', 'D', 'A', 'D']</td>\n",
       "      <td>['A', 'B', 'C', 'D', 'D', 'D']</td>\n",
       "      <td>0.5</td>\n",
       "    </tr>\n",
       "    <tr>\n",
       "      <th>Test 2:</th>\n",
       "      <td>['A', 'B', 'C', 'D', 'D', 'D']</td>\n",
       "      <td>['A', 'B', 'C', 'D', 'D', 'D']</td>\n",
       "      <td>1.0</td>\n",
       "    </tr>\n",
       "  </tbody>\n",
       "</table>\n",
       "</div>"
      ],
      "text/plain": [
       "                           Input1: list  ... Output: float\n",
       "Test 1:  ['A', 'C', 'B', 'D', 'A', 'D']  ...           0.5\n",
       "Test 2:  ['A', 'B', 'C', 'D', 'D', 'D']  ...           1.0\n",
       "\n",
       "[2 rows x 3 columns]"
      ]
     },
     "metadata": {
      "tags": []
     },
     "output_type": "display_data"
    },
    {
     "data": {
      "text/plain": [
       "\n",
       "\u001b[1mBubble Card: Easy\u001b[0;0m "
      ]
     },
     "execution_count": 49,
     "metadata": {
      "tags": []
     },
     "output_type": "execute_result"
    }
   ],
   "source": [
    "eb[19]"
   ]
  },
  {
   "cell_type": "code",
   "execution_count": null,
   "metadata": {
    "colab": {
     "base_uri": "https://localhost:8080/"
    },
    "executionInfo": {
     "elapsed": 612,
     "status": "ok",
     "timestamp": 1624341524501,
     "user": {
      "displayName": "Nhi Tran",
      "photoUrl": "https://lh3.googleusercontent.com/a-/AOh14GgeL2xyHR-N6XJQH4olH5Nesy2bRFkOT6nLyPwy=s64",
      "userId": "11498988852829301831"
     },
     "user_tz": -480
    },
    "id": "J4YwVKKod4iD",
    "outputId": "1fdb67a5-a0ae-4fb2-e5b4-e366197f3930"
   },
   "outputs": [
    {
     "name": "stdout",
     "output_type": "stream",
     "text": [
      "You passed 4 of the 4 tests. \n",
      "The solution is correct\n"
     ]
    }
   ],
   "source": [
    "def bubble_card(Response,Correct):\n",
    "    \"\"\" This function returns the percetage of correct answer from two lists.\n",
    "        List1 = Response List, List2 = Model Answer List\"\"\"\n",
    "    \n",
    "    count = 0\n",
    "    total = len(Response)\n",
    "    for i in range(total):\n",
    "        if Response[i] == Correct[i]:     # Compare if index(i) of both lists have the same value\n",
    "            count += 1\n",
    "    output = count/total\n",
    "    return output\n",
    "\n",
    "eb[19].check(bubble_card)"
   ]
  },
  {
   "cell_type": "code",
   "execution_count": null,
   "metadata": {
    "colab": {
     "base_uri": "https://localhost:8080/",
     "height": 182
    },
    "executionInfo": {
     "elapsed": 569,
     "status": "ok",
     "timestamp": 1624341524502,
     "user": {
      "displayName": "Nhi Tran",
      "photoUrl": "https://lh3.googleusercontent.com/a-/AOh14GgeL2xyHR-N6XJQH4olH5Nesy2bRFkOT6nLyPwy=s64",
      "userId": "11498988852829301831"
     },
     "user_tz": -480
    },
    "id": "QvYpwOkSeFo6",
    "outputId": "1167b915-f1bf-4860-e016-bcc0c3474e4c"
   },
   "outputs": [
    {
     "name": "stdout",
     "output_type": "stream",
     "text": [
      "For a sequence of numbers in a list, create a new list containing the \n",
      "squares of all non-negative numbers, and cubes of all negative numbers. \n",
      "For example, if the input is [1, 2, 3, -4, -5, 6], then the output is \n",
      "[1, 4, 9, -64, -125, 36]. As a practice, please use list comprehension.\n"
     ]
    },
    {
     "data": {
      "text/html": [
       "<div>\n",
       "<style scoped>\n",
       "    .dataframe tbody tr th:only-of-type {\n",
       "        vertical-align: middle;\n",
       "    }\n",
       "\n",
       "    .dataframe tbody tr th {\n",
       "        vertical-align: top;\n",
       "    }\n",
       "\n",
       "    .dataframe thead th {\n",
       "        text-align: right;\n",
       "    }\n",
       "</style>\n",
       "<table border=\"1\" class=\"dataframe\">\n",
       "  <thead>\n",
       "    <tr style=\"text-align: right;\">\n",
       "      <th></th>\n",
       "      <th>Input1: list</th>\n",
       "      <th>Output: list</th>\n",
       "    </tr>\n",
       "  </thead>\n",
       "  <tbody>\n",
       "    <tr>\n",
       "      <th>Test 1:</th>\n",
       "      <td>[1, 2, 3, -4, -5, 6]</td>\n",
       "      <td>[1, 4, 9, -64, -125, 36]</td>\n",
       "    </tr>\n",
       "  </tbody>\n",
       "</table>\n",
       "</div>"
      ],
      "text/plain": [
       "                 Input1: list              Output: list\n",
       "Test 1:  [1, 2, 3, -4, -5, 6]  [1, 4, 9, -64, -125, 36]"
      ]
     },
     "metadata": {
      "tags": []
     },
     "output_type": "display_data"
    },
    {
     "data": {
      "text/plain": [
       "\n",
       "\u001b[1mSquares And Cubes: Easy\u001b[0;0m "
      ]
     },
     "execution_count": 51,
     "metadata": {
      "tags": []
     },
     "output_type": "execute_result"
    }
   ],
   "source": [
    "eb[20]"
   ]
  },
  {
   "cell_type": "code",
   "execution_count": null,
   "metadata": {
    "colab": {
     "base_uri": "https://localhost:8080/"
    },
    "executionInfo": {
     "elapsed": 523,
     "status": "ok",
     "timestamp": 1624341524502,
     "user": {
      "displayName": "Nhi Tran",
      "photoUrl": "https://lh3.googleusercontent.com/a-/AOh14GgeL2xyHR-N6XJQH4olH5Nesy2bRFkOT6nLyPwy=s64",
      "userId": "11498988852829301831"
     },
     "user_tz": -480
    },
    "id": "pxmF1GaUeKII",
    "outputId": "f9ef29ef-8893-4dc8-d054-ecbdd6e60cdb"
   },
   "outputs": [
    {
     "name": "stdout",
     "output_type": "stream",
     "text": [
      "You passed 2 of the 2 tests. \n",
      "The solution is correct\n"
     ]
    }
   ],
   "source": [
    "def squares_and_cubes(List):\n",
    "    new_List = [i**2 if i >=0 else i**3 for i in List]    # Using list comprehension\n",
    "    return new_List\n",
    "\n",
    "eb[20].check(squares_and_cubes)"
   ]
  },
  {
   "cell_type": "code",
   "execution_count": null,
   "metadata": {
    "colab": {
     "base_uri": "https://localhost:8080/",
     "height": 199
    },
    "executionInfo": {
     "elapsed": 466,
     "status": "ok",
     "timestamp": 1624341524503,
     "user": {
      "displayName": "Nhi Tran",
      "photoUrl": "https://lh3.googleusercontent.com/a-/AOh14GgeL2xyHR-N6XJQH4olH5Nesy2bRFkOT6nLyPwy=s64",
      "userId": "11498988852829301831"
     },
     "user_tz": -480
    },
    "id": "56j475HneRAx",
    "outputId": "b1f49001-da5a-4141-d45a-85f04deb5ee5"
   },
   "outputs": [
    {
     "name": "stdout",
     "output_type": "stream",
     "text": [
      "Create a function to present the unique values in a given list and the number \n",
      "of their appearances. The output of the function is a dictionary where the \n",
      "keys are the unique values, and the associated values are the number of their \n",
      "appearances. For example, if the inputs are [\"A\", \"C\", \"B\", \"D\", \"A\", \"D\"] \n",
      "then the output is {\"A\": 2, \"C\": 1, \"B\": 1, \"D\": 2}.\n"
     ]
    },
    {
     "data": {
      "text/html": [
       "<div>\n",
       "<style scoped>\n",
       "    .dataframe tbody tr th:only-of-type {\n",
       "        vertical-align: middle;\n",
       "    }\n",
       "\n",
       "    .dataframe tbody tr th {\n",
       "        vertical-align: top;\n",
       "    }\n",
       "\n",
       "    .dataframe thead th {\n",
       "        text-align: right;\n",
       "    }\n",
       "</style>\n",
       "<table border=\"1\" class=\"dataframe\">\n",
       "  <thead>\n",
       "    <tr style=\"text-align: right;\">\n",
       "      <th></th>\n",
       "      <th>Input1: list</th>\n",
       "      <th>Output: dict</th>\n",
       "    </tr>\n",
       "  </thead>\n",
       "  <tbody>\n",
       "    <tr>\n",
       "      <th>Test 1:</th>\n",
       "      <td>['A', 'C', 'B', 'D', 'A', 'D']</td>\n",
       "      <td>{'A': 2, 'C': 1, 'B': 1, 'D': 2}</td>\n",
       "    </tr>\n",
       "  </tbody>\n",
       "</table>\n",
       "</div>"
      ],
      "text/plain": [
       "                           Input1: list                      Output: dict\n",
       "Test 1:  ['A', 'C', 'B', 'D', 'A', 'D']  {'A': 2, 'C': 1, 'B': 1, 'D': 2}"
      ]
     },
     "metadata": {
      "tags": []
     },
     "output_type": "display_data"
    },
    {
     "data": {
      "text/plain": [
       "\n",
       "\u001b[1mValue Counts: Medium\u001b[0;0m "
      ]
     },
     "execution_count": 53,
     "metadata": {
      "tags": []
     },
     "output_type": "execute_result"
    }
   ],
   "source": [
    "eb[21]"
   ]
  },
  {
   "cell_type": "code",
   "execution_count": null,
   "metadata": {
    "colab": {
     "base_uri": "https://localhost:8080/"
    },
    "executionInfo": {
     "elapsed": 413,
     "status": "ok",
     "timestamp": 1624341524504,
     "user": {
      "displayName": "Nhi Tran",
      "photoUrl": "https://lh3.googleusercontent.com/a-/AOh14GgeL2xyHR-N6XJQH4olH5Nesy2bRFkOT6nLyPwy=s64",
      "userId": "11498988852829301831"
     },
     "user_tz": -480
    },
    "id": "X29rCH_HeVAC",
    "outputId": "7bc1070c-21bc-4582-a375-985a7a7aa253"
   },
   "outputs": [
    {
     "name": "stdout",
     "output_type": "stream",
     "text": [
      "You passed 3 of the 3 tests. \n",
      "The solution is correct\n"
     ]
    }
   ],
   "source": [
    "def value_counts(List):\n",
    "    \"\"\"This function returns a dictionary of the frequency of each unique intem in a list\"\"\"\n",
    "    \n",
    "    Dict = {}\n",
    "    for i in List:\n",
    "        if i not in Dict:          # If key is not in Dict, need to add key and assign initial value first\n",
    "            Dict[i] = 1\n",
    "        else:\n",
    "            Dict[i] = Dict[i]+1\n",
    "    return Dict\n",
    "\n",
    "eb[21].check(value_counts)"
   ]
  },
  {
   "cell_type": "code",
   "execution_count": null,
   "metadata": {
    "colab": {
     "base_uri": "https://localhost:8080/",
     "height": 182
    },
    "executionInfo": {
     "elapsed": 365,
     "status": "ok",
     "timestamp": 1624341524505,
     "user": {
      "displayName": "Nhi Tran",
      "photoUrl": "https://lh3.googleusercontent.com/a-/AOh14GgeL2xyHR-N6XJQH4olH5Nesy2bRFkOT6nLyPwy=s64",
      "userId": "11498988852829301831"
     },
     "user_tz": -480
    },
    "id": "LGPcVSzcee-G",
    "outputId": "fa775742-9f4e-40cf-9d9a-b25d81724554"
   },
   "outputs": [
    {
     "name": "stdout",
     "output_type": "stream",
     "text": [
      "Write a function to sort a list from the smallest value to the largest value. \n",
      "For example, if the input is [3.5, 2.1, 2.1, 3.4, 2.8, 1.2], the output is \n",
      "[1.2, 2.1, 2.1, 2.8, 3.4, 3.5]. As a practice, do not use the build-in \n",
      "function sort.\n"
     ]
    },
    {
     "data": {
      "text/html": [
       "<div>\n",
       "<style scoped>\n",
       "    .dataframe tbody tr th:only-of-type {\n",
       "        vertical-align: middle;\n",
       "    }\n",
       "\n",
       "    .dataframe tbody tr th {\n",
       "        vertical-align: top;\n",
       "    }\n",
       "\n",
       "    .dataframe thead th {\n",
       "        text-align: right;\n",
       "    }\n",
       "</style>\n",
       "<table border=\"1\" class=\"dataframe\">\n",
       "  <thead>\n",
       "    <tr style=\"text-align: right;\">\n",
       "      <th></th>\n",
       "      <th>Input1: list</th>\n",
       "      <th>Output: list</th>\n",
       "    </tr>\n",
       "  </thead>\n",
       "  <tbody>\n",
       "    <tr>\n",
       "      <th>Test 1:</th>\n",
       "      <td>[3.5, 2.1, 2.2, 1.6, 0.8, 3.9, 2.5]</td>\n",
       "      <td>[0.8, 1.6, 2.1, 2.2, 2.5, 3.5, 3.9]</td>\n",
       "    </tr>\n",
       "  </tbody>\n",
       "</table>\n",
       "</div>"
      ],
      "text/plain": [
       "                                Input1: list                         Output: list\n",
       "Test 1:  [3.5, 2.1, 2.2, 1.6, 0.8, 3.9, 2.5]  [0.8, 1.6, 2.1, 2.2, 2.5, 3.5, 3.9]"
      ]
     },
     "metadata": {
      "tags": []
     },
     "output_type": "display_data"
    },
    {
     "data": {
      "text/plain": [
       "\n",
       "\u001b[1mSort: Hard\u001b[0;0m "
      ]
     },
     "execution_count": 55,
     "metadata": {
      "tags": []
     },
     "output_type": "execute_result"
    }
   ],
   "source": [
    "eb[22]"
   ]
  },
  {
   "cell_type": "code",
   "execution_count": null,
   "metadata": {
    "colab": {
     "base_uri": "https://localhost:8080/"
    },
    "executionInfo": {
     "elapsed": 317,
     "status": "ok",
     "timestamp": 1624341524505,
     "user": {
      "displayName": "Nhi Tran",
      "photoUrl": "https://lh3.googleusercontent.com/a-/AOh14GgeL2xyHR-N6XJQH4olH5Nesy2bRFkOT6nLyPwy=s64",
      "userId": "11498988852829301831"
     },
     "user_tz": -480
    },
    "id": "IQdytPRreiP3",
    "outputId": "6fb79d24-05ce-4bdf-9dee-a4452c4c6619"
   },
   "outputs": [
    {
     "name": "stdout",
     "output_type": "stream",
     "text": [
      "You passed 3 of the 3 tests. \n",
      "The solution is correct\n"
     ]
    }
   ],
   "source": [
    "def sort_list(List):                # Avoid using .sort() as required by assignment\n",
    "    sorted_List =[]\n",
    "    for i in range(len(List)):\n",
    "        sorted_List.append(min(List))\n",
    "        List.remove(min(List))      # Remove the min so that another min can be identified at the next iteration\n",
    "    return sorted_List\n",
    "\n",
    "eb[22].check(sort_list)"
   ]
  },
  {
   "cell_type": "code",
   "execution_count": null,
   "metadata": {
    "colab": {
     "base_uri": "https://localhost:8080/",
     "height": 244
    },
    "executionInfo": {
     "elapsed": 273,
     "status": "ok",
     "timestamp": 1624341524506,
     "user": {
      "displayName": "Nhi Tran",
      "photoUrl": "https://lh3.googleusercontent.com/a-/AOh14GgeL2xyHR-N6XJQH4olH5Nesy2bRFkOT6nLyPwy=s64",
      "userId": "11498988852829301831"
     },
     "user_tz": -480
    },
    "id": "m6tTKoQte4lg",
    "outputId": "4e249737-7ebf-4201-911e-bd34490b2a40"
   },
   "outputs": [
    {
     "name": "stdout",
     "output_type": "stream",
     "text": [
      "Write a function with one argument n, to return the nth row of the Pascal's \n",
      "triangle. For example, if n=1, the output is [1]; if n=2, then the output is \n",
      "[1, 1]; if n=3, then the output is [1, 2, 1]; if n=4, then the output is [1, \n",
      "3, 3, 1]. \n"
     ]
    },
    {
     "data": {
      "text/html": [
       "<div>\n",
       "<style scoped>\n",
       "    .dataframe tbody tr th:only-of-type {\n",
       "        vertical-align: middle;\n",
       "    }\n",
       "\n",
       "    .dataframe tbody tr th {\n",
       "        vertical-align: top;\n",
       "    }\n",
       "\n",
       "    .dataframe thead th {\n",
       "        text-align: right;\n",
       "    }\n",
       "</style>\n",
       "<table border=\"1\" class=\"dataframe\">\n",
       "  <thead>\n",
       "    <tr style=\"text-align: right;\">\n",
       "      <th></th>\n",
       "      <th>Input1: int</th>\n",
       "      <th>Output: list</th>\n",
       "    </tr>\n",
       "  </thead>\n",
       "  <tbody>\n",
       "    <tr>\n",
       "      <th>Test 1:</th>\n",
       "      <td>3</td>\n",
       "      <td>[1, 2, 1]</td>\n",
       "    </tr>\n",
       "    <tr>\n",
       "      <th>Test 2:</th>\n",
       "      <td>5</td>\n",
       "      <td>[1, 4, 6, 4, 1]</td>\n",
       "    </tr>\n",
       "    <tr>\n",
       "      <th>Test 3:</th>\n",
       "      <td>10</td>\n",
       "      <td>[1, 9, 36, 84, 126, 126, 84, 36, 9, 1]</td>\n",
       "    </tr>\n",
       "  </tbody>\n",
       "</table>\n",
       "</div>"
      ],
      "text/plain": [
       "        Input1: int                            Output: list\n",
       "Test 1:           3                               [1, 2, 1]\n",
       "Test 2:           5                         [1, 4, 6, 4, 1]\n",
       "Test 3:          10  [1, 9, 36, 84, 126, 126, 84, 36, 9, 1]"
      ]
     },
     "metadata": {
      "tags": []
     },
     "output_type": "display_data"
    },
    {
     "data": {
      "text/plain": [
       "\n",
       "\u001b[1mPascal Triangle: Hard\u001b[0;0m "
      ]
     },
     "execution_count": 57,
     "metadata": {
      "tags": []
     },
     "output_type": "execute_result"
    }
   ],
   "source": [
    "eb[23]"
   ]
  },
  {
   "cell_type": "code",
   "execution_count": null,
   "metadata": {
    "colab": {
     "base_uri": "https://localhost:8080/"
    },
    "executionInfo": {
     "elapsed": 226,
     "status": "ok",
     "timestamp": 1624341524506,
     "user": {
      "displayName": "Nhi Tran",
      "photoUrl": "https://lh3.googleusercontent.com/a-/AOh14GgeL2xyHR-N6XJQH4olH5Nesy2bRFkOT6nLyPwy=s64",
      "userId": "11498988852829301831"
     },
     "user_tz": -480
    },
    "id": "xxMNe3Y1e64x",
    "outputId": "9afbe36c-e209-43c3-88f2-eb33be3353a7"
   },
   "outputs": [
    {
     "name": "stdout",
     "output_type": "stream",
     "text": [
      "You passed 8 of the 8 tests. \n",
      "The solution is correct\n"
     ]
    }
   ],
   "source": [
    "def getRow_Pascal(row):\n",
    "    \"\"\"This function returns the Nth row of a Pascal triangle\"\"\"\n",
    "    \n",
    "    rowIndex = row - 1\n",
    "    current_row = []\n",
    "    current_row.append(1)                   #1st element of every row is always 1\n",
    "    if rowIndex == 0:\n",
    "        return current_row\n",
    "    previous = getRow_Pascal(row - 1)\n",
    "    for i in range(1,len(previous)):\n",
    "        value = previous[i-1]+previous[i]   #value @ current row = sum of values in previous row\n",
    "        current_row.append(value)\n",
    "    current_row.append(1)                   #last element of every row is always 1\n",
    "    return current_row\n",
    "\n",
    "eb[23].check(getRow_Pascal)"
   ]
  },
  {
   "cell_type": "code",
   "execution_count": null,
   "metadata": {
    "colab": {
     "base_uri": "https://localhost:8080/",
     "height": 278
    },
    "executionInfo": {
     "elapsed": 181,
     "status": "ok",
     "timestamp": 1624341524507,
     "user": {
      "displayName": "Nhi Tran",
      "photoUrl": "https://lh3.googleusercontent.com/a-/AOh14GgeL2xyHR-N6XJQH4olH5Nesy2bRFkOT6nLyPwy=s64",
      "userId": "11498988852829301831"
     },
     "user_tz": -480
    },
    "id": "Y7iqgLuzfDd-",
    "outputId": "0c6b37e7-a019-4b40-bc26-baab3eeba25f"
   },
   "outputs": [
    {
     "name": "stdout",
     "output_type": "stream",
     "text": [
      "There are n stairs, a person standing at the bottom wants to reach the top \n",
      "of the stairs. This person can climb either 1 stair or 2 stairs at a time. \n",
      "Write a function with the input argument n to count the number of ways, the \n",
      "person can reach the top. For example, if n = 2, this person has 2 ways to \n",
      "getto the top; if n = 3, this person has 3 ways to get to the top; if n = 4, \n",
      "this person has 5 ways to get to the top.\n"
     ]
    },
    {
     "data": {
      "text/html": [
       "<div>\n",
       "<style scoped>\n",
       "    .dataframe tbody tr th:only-of-type {\n",
       "        vertical-align: middle;\n",
       "    }\n",
       "\n",
       "    .dataframe tbody tr th {\n",
       "        vertical-align: top;\n",
       "    }\n",
       "\n",
       "    .dataframe thead th {\n",
       "        text-align: right;\n",
       "    }\n",
       "</style>\n",
       "<table border=\"1\" class=\"dataframe\">\n",
       "  <thead>\n",
       "    <tr style=\"text-align: right;\">\n",
       "      <th></th>\n",
       "      <th>Input1: int</th>\n",
       "      <th>Output: int</th>\n",
       "    </tr>\n",
       "  </thead>\n",
       "  <tbody>\n",
       "    <tr>\n",
       "      <th>Test 1:</th>\n",
       "      <td>2</td>\n",
       "      <td>2</td>\n",
       "    </tr>\n",
       "    <tr>\n",
       "      <th>Test 2:</th>\n",
       "      <td>5</td>\n",
       "      <td>8</td>\n",
       "    </tr>\n",
       "    <tr>\n",
       "      <th>Test 3:</th>\n",
       "      <td>11</td>\n",
       "      <td>144</td>\n",
       "    </tr>\n",
       "  </tbody>\n",
       "</table>\n",
       "</div>"
      ],
      "text/plain": [
       "        Input1: int Output: int\n",
       "Test 1:           2           2\n",
       "Test 2:           5           8\n",
       "Test 3:          11         144"
      ]
     },
     "metadata": {
      "tags": []
     },
     "output_type": "display_data"
    },
    {
     "data": {
      "text/plain": [
       "\n",
       "\u001b[1mStairs: Hard\u001b[0;0m "
      ]
     },
     "execution_count": 59,
     "metadata": {
      "tags": []
     },
     "output_type": "execute_result"
    }
   ],
   "source": [
    "eb[24]"
   ]
  },
  {
   "cell_type": "code",
   "execution_count": null,
   "metadata": {
    "colab": {
     "base_uri": "https://localhost:8080/"
    },
    "executionInfo": {
     "elapsed": 135,
     "status": "ok",
     "timestamp": 1624341524508,
     "user": {
      "displayName": "Nhi Tran",
      "photoUrl": "https://lh3.googleusercontent.com/a-/AOh14GgeL2xyHR-N6XJQH4olH5Nesy2bRFkOT6nLyPwy=s64",
      "userId": "11498988852829301831"
     },
     "user_tz": -480
    },
    "id": "ZH6VMkmnfHRJ",
    "outputId": "256c7b59-ab58-47b3-e784-e626f2398099"
   },
   "outputs": [
    {
     "name": "stdout",
     "output_type": "stream",
     "text": [
      "You passed 9 of the 9 tests. \n",
      "The solution is correct\n"
     ]
    }
   ],
   "source": [
    "def factorial(n):\n",
    "    f = 1\n",
    "    for i in range(1,n+1):\n",
    "        f = f*i\n",
    "    return f\n",
    "\n",
    "def stairs(n):\n",
    "    combinations = []           # Describe how many times the person takes 1 step and 2 steps to reach the end\n",
    "    for i in range(n+1):\n",
    "        for j in range(0,int(n/2+1)):\n",
    "            if i + 2*j == n:\n",
    "                combinations.append((i,j))\n",
    "    w = 0\n",
    "    for x,y in combinations:    # For each pair of (1step,2step), there are xCy ways to execute\n",
    "        w += factorial(x+y)/(factorial(x)*factorial(y))   # Mathematical expression of finding combinations of x items from (x+y) items in total\n",
    "    return w\n",
    "\n",
    "eb[24].check(stairs)"
   ]
  },
  {
   "cell_type": "code",
   "execution_count": null,
   "metadata": {
    "colab": {
     "base_uri": "https://localhost:8080/",
     "height": 230
    },
    "executionInfo": {
     "elapsed": 90,
     "status": "ok",
     "timestamp": 1624341524508,
     "user": {
      "displayName": "Nhi Tran",
      "photoUrl": "https://lh3.googleusercontent.com/a-/AOh14GgeL2xyHR-N6XJQH4olH5Nesy2bRFkOT6nLyPwy=s64",
      "userId": "11498988852829301831"
     },
     "user_tz": -480
    },
    "id": "waiycRGcfNxb",
    "outputId": "2627166a-9e7b-45aa-f8ff-1bff24eae010"
   },
   "outputs": [
    {
     "name": "stdout",
     "output_type": "stream",
     "text": [
      "Given positive integers n and m as input arguments, write a function to \n",
      "select all positive integers that are no larger than n and the summations \n",
      "of all digits are the same as m. Return these selected integers as a list. \n",
      "For example, if n = 30 and m = 5, the returned output is [5, 14, 23], if \n",
      "n = 50 and m = 9, then returned output is [9, 18, 27, 36, 45]\n"
     ]
    },
    {
     "data": {
      "text/html": [
       "<div>\n",
       "<style scoped>\n",
       "    .dataframe tbody tr th:only-of-type {\n",
       "        vertical-align: middle;\n",
       "    }\n",
       "\n",
       "    .dataframe tbody tr th {\n",
       "        vertical-align: top;\n",
       "    }\n",
       "\n",
       "    .dataframe thead th {\n",
       "        text-align: right;\n",
       "    }\n",
       "</style>\n",
       "<table border=\"1\" class=\"dataframe\">\n",
       "  <thead>\n",
       "    <tr style=\"text-align: right;\">\n",
       "      <th></th>\n",
       "      <th>Input1: int</th>\n",
       "      <th>Input2: int</th>\n",
       "      <th>Output: list</th>\n",
       "    </tr>\n",
       "  </thead>\n",
       "  <tbody>\n",
       "    <tr>\n",
       "      <th>Test 1:</th>\n",
       "      <td>30</td>\n",
       "      <td>5</td>\n",
       "      <td>[5, 14, 23]</td>\n",
       "    </tr>\n",
       "    <tr>\n",
       "      <th>Test 2:</th>\n",
       "      <td>50</td>\n",
       "      <td>9</td>\n",
       "      <td>[9, 18, 27, 36, 45]</td>\n",
       "    </tr>\n",
       "  </tbody>\n",
       "</table>\n",
       "</div>"
      ],
      "text/plain": [
       "        Input1: int Input2: int         Output: list\n",
       "Test 1:          30           5          [5, 14, 23]\n",
       "Test 2:          50           9  [9, 18, 27, 36, 45]"
      ]
     },
     "metadata": {
      "tags": []
     },
     "output_type": "display_data"
    },
    {
     "data": {
      "text/plain": [
       "\n",
       "\u001b[1mDigit Sum: Medium\u001b[0;0m "
      ]
     },
     "execution_count": 61,
     "metadata": {
      "tags": []
     },
     "output_type": "execute_result"
    }
   ],
   "source": [
    "eb[25]"
   ]
  },
  {
   "cell_type": "code",
   "execution_count": null,
   "metadata": {
    "colab": {
     "base_uri": "https://localhost:8080/"
    },
    "executionInfo": {
     "elapsed": 1347,
     "status": "ok",
     "timestamp": 1624341526280,
     "user": {
      "displayName": "Nhi Tran",
      "photoUrl": "https://lh3.googleusercontent.com/a-/AOh14GgeL2xyHR-N6XJQH4olH5Nesy2bRFkOT6nLyPwy=s64",
      "userId": "11498988852829301831"
     },
     "user_tz": -480
    },
    "id": "YzkU9vwuggMK",
    "outputId": "b5c89871-13cd-4fec-c97d-d2c0fdc84b5b"
   },
   "outputs": [
    {
     "name": "stdout",
     "output_type": "stream",
     "text": [
      "You passed 4 of the 4 tests. \n",
      "The solution is correct\n"
     ]
    }
   ],
   "source": [
    "def digit_sum(n,m):\n",
    "    \"\"\"This function returns a list of number from 1 to n (inclusive), with sum of digits for each number equals m\"\"\"\n",
    "    \n",
    "    List = []\n",
    "    for i in range(n):                          # Using list comprehension, to break down all digits in a number\n",
    "        digits = [int(s) for s in str(i)]       # Data type conversion needed as loop only works on string, not int     \n",
    "        if sum(digits) == m:                  \n",
    "            List.append(i)\n",
    "    return List\n",
    "\n",
    "eb[25].check(digit_sum)"
   ]
  },
  {
   "cell_type": "code",
   "execution_count": null,
   "metadata": {
    "colab": {
     "base_uri": "https://localhost:8080/",
     "height": 213
    },
    "executionInfo": {
     "elapsed": 1347,
     "status": "ok",
     "timestamp": 1624341526281,
     "user": {
      "displayName": "Nhi Tran",
      "photoUrl": "https://lh3.googleusercontent.com/a-/AOh14GgeL2xyHR-N6XJQH4olH5Nesy2bRFkOT6nLyPwy=s64",
      "userId": "11498988852829301831"
     },
     "user_tz": -480
    },
    "id": "OOlvLqnUgi7h",
    "outputId": "bc42893f-f4ee-4997-9e25-6cf31f460ae0"
   },
   "outputs": [
    {
     "name": "stdout",
     "output_type": "stream",
     "text": [
      "Given a list of numbers as the input argument, write a function to return \n",
      "a list of numbers that only appear once in the list. For example, if the \n",
      "input is [1, 2, 1, 4, 3, 2, 0], then the  output is [4, 3, 0]; if the input \n",
      "is [1.5, 2, 2.0, 3.5, 1.5, 2], then the output is [3.5].\n"
     ]
    },
    {
     "data": {
      "text/html": [
       "<div>\n",
       "<style scoped>\n",
       "    .dataframe tbody tr th:only-of-type {\n",
       "        vertical-align: middle;\n",
       "    }\n",
       "\n",
       "    .dataframe tbody tr th {\n",
       "        vertical-align: top;\n",
       "    }\n",
       "\n",
       "    .dataframe thead th {\n",
       "        text-align: right;\n",
       "    }\n",
       "</style>\n",
       "<table border=\"1\" class=\"dataframe\">\n",
       "  <thead>\n",
       "    <tr style=\"text-align: right;\">\n",
       "      <th></th>\n",
       "      <th>Input1: list</th>\n",
       "      <th>Output: list</th>\n",
       "    </tr>\n",
       "  </thead>\n",
       "  <tbody>\n",
       "    <tr>\n",
       "      <th>Test 1:</th>\n",
       "      <td>[1, 2, 1, 4, 3, 2, 0]</td>\n",
       "      <td>[4, 3, 0]</td>\n",
       "    </tr>\n",
       "    <tr>\n",
       "      <th>Test 2:</th>\n",
       "      <td>[1.5, 2, 2.0, 3.5, 1.5, 2]</td>\n",
       "      <td>[3.5]</td>\n",
       "    </tr>\n",
       "  </tbody>\n",
       "</table>\n",
       "</div>"
      ],
      "text/plain": [
       "                       Input1: list Output: list\n",
       "Test 1:       [1, 2, 1, 4, 3, 2, 0]    [4, 3, 0]\n",
       "Test 2:  [1.5, 2, 2.0, 3.5, 1.5, 2]        [3.5]"
      ]
     },
     "metadata": {
      "tags": []
     },
     "output_type": "display_data"
    },
    {
     "data": {
      "text/plain": [
       "\n",
       "\u001b[1mOne Appearance: Medium\u001b[0;0m "
      ]
     },
     "execution_count": 63,
     "metadata": {
      "tags": []
     },
     "output_type": "execute_result"
    }
   ],
   "source": [
    "eb[26]"
   ]
  },
  {
   "cell_type": "code",
   "execution_count": null,
   "metadata": {
    "colab": {
     "base_uri": "https://localhost:8080/"
    },
    "executionInfo": {
     "elapsed": 1303,
     "status": "ok",
     "timestamp": 1624341526282,
     "user": {
      "displayName": "Nhi Tran",
      "photoUrl": "https://lh3.googleusercontent.com/a-/AOh14GgeL2xyHR-N6XJQH4olH5Nesy2bRFkOT6nLyPwy=s64",
      "userId": "11498988852829301831"
     },
     "user_tz": -480
    },
    "id": "C7dVX9HogmfY",
    "outputId": "efcc3534-052a-4452-8dc0-0e7debfb9b6f"
   },
   "outputs": [
    {
     "name": "stdout",
     "output_type": "stream",
     "text": [
      "You passed 3 of the 3 tests. \n",
      "The solution is correct\n"
     ]
    }
   ],
   "source": [
    "def one_appearance(List):\n",
    "    \"\"\"This function returns a list of items with single appearance from an existing list\"\"\"\n",
    "    \n",
    "    new_List = []\n",
    "    for i in List:\n",
    "        if List.count(i) == 1:      # Item is unique when its count is 1\n",
    "            new_List.append(i)\n",
    "    return new_List\n",
    "\n",
    "eb[26].check(one_appearance)"
   ]
  },
  {
   "cell_type": "code",
   "execution_count": null,
   "metadata": {
    "colab": {
     "base_uri": "https://localhost:8080/",
     "height": 230
    },
    "executionInfo": {
     "elapsed": 1259,
     "status": "ok",
     "timestamp": 1624341526282,
     "user": {
      "displayName": "Nhi Tran",
      "photoUrl": "https://lh3.googleusercontent.com/a-/AOh14GgeL2xyHR-N6XJQH4olH5Nesy2bRFkOT6nLyPwy=s64",
      "userId": "11498988852829301831"
     },
     "user_tz": -480
    },
    "id": "9895uoVegpls",
    "outputId": "3624ae30-f02a-4678-aa23-01ecea4ef156"
   },
   "outputs": [
    {
     "name": "stdout",
     "output_type": "stream",
     "text": [
      "Given two strings as the input arguments, write a function to return the \n",
      "longest substring shared by these two input strings. For example, if the \n",
      "inputs are \"cdbabcde\" and \"babcffg\", then the output is \"abc\"; if the \n",
      "inputs are \"This is an apple\" and \"Check the app store\", then the output \n",
      "is \"app\". \n"
     ]
    },
    {
     "data": {
      "text/html": [
       "<div>\n",
       "<style scoped>\n",
       "    .dataframe tbody tr th:only-of-type {\n",
       "        vertical-align: middle;\n",
       "    }\n",
       "\n",
       "    .dataframe tbody tr th {\n",
       "        vertical-align: top;\n",
       "    }\n",
       "\n",
       "    .dataframe thead th {\n",
       "        text-align: right;\n",
       "    }\n",
       "</style>\n",
       "<table border=\"1\" class=\"dataframe\">\n",
       "  <thead>\n",
       "    <tr style=\"text-align: right;\">\n",
       "      <th></th>\n",
       "      <th>Input1: str</th>\n",
       "      <th>Input2: str</th>\n",
       "      <th>Output: str</th>\n",
       "    </tr>\n",
       "  </thead>\n",
       "  <tbody>\n",
       "    <tr>\n",
       "      <th>Test 1:</th>\n",
       "      <td>cdeabcde</td>\n",
       "      <td>babcffg</td>\n",
       "      <td>abc</td>\n",
       "    </tr>\n",
       "    <tr>\n",
       "      <th>Test 2:</th>\n",
       "      <td>This is an apple</td>\n",
       "      <td>Check the app store</td>\n",
       "      <td>app</td>\n",
       "    </tr>\n",
       "  </tbody>\n",
       "</table>\n",
       "</div>"
      ],
      "text/plain": [
       "              Input1: str          Input2: str Output: str\n",
       "Test 1:          cdeabcde              babcffg         abc\n",
       "Test 2:  This is an apple  Check the app store         app"
      ]
     },
     "metadata": {
      "tags": []
     },
     "output_type": "display_data"
    },
    {
     "data": {
      "text/plain": [
       "\n",
       "\u001b[1mLongest Substring: Hard\u001b[0;0m "
      ]
     },
     "execution_count": 65,
     "metadata": {
      "tags": []
     },
     "output_type": "execute_result"
    }
   ],
   "source": [
    "eb[27]"
   ]
  },
  {
   "cell_type": "code",
   "execution_count": null,
   "metadata": {
    "colab": {
     "base_uri": "https://localhost:8080/"
    },
    "executionInfo": {
     "elapsed": 1205,
     "status": "ok",
     "timestamp": 1624341526283,
     "user": {
      "displayName": "Nhi Tran",
      "photoUrl": "https://lh3.googleusercontent.com/a-/AOh14GgeL2xyHR-N6XJQH4olH5Nesy2bRFkOT6nLyPwy=s64",
      "userId": "11498988852829301831"
     },
     "user_tz": -480
    },
    "id": "r7an3119gvcA",
    "outputId": "e6e4ba81-5da9-4970-ef4c-79909278c125"
   },
   "outputs": [
    {
     "name": "stdout",
     "output_type": "stream",
     "text": [
      "You passed 3 of the 3 tests. \n",
      "The solution is correct\n"
     ]
    }
   ],
   "source": [
    "def longest_substring(str1,str2):\n",
    "    \"\"\"This function returns the longest common substring between two strings\"\"\"\n",
    "    \n",
    "    List = []\n",
    "    for i in range(len(str1)-1):\n",
    "        for j in range(len(str2)-1):\n",
    "            k = 0\n",
    "            while str1[i+k] == str2[j+k]:       # As long as string containing k characters is the same in both str1 and str2, continue adding\n",
    "                s = str1[i:i+k+1]\n",
    "                List.append(s)                  # Multiple substrings may result from this, append all to a list\n",
    "                k += 1\n",
    "    if len(List) == 0:\n",
    "        return \"\"\n",
    "    else:\n",
    "        return max(List,key=len)                # Return the longest item in the list\n",
    "\n",
    "eb[27].check(longest_substring)"
   ]
  },
  {
   "cell_type": "code",
   "execution_count": null,
   "metadata": {
    "colab": {
     "base_uri": "https://localhost:8080/",
     "height": 213
    },
    "executionInfo": {
     "elapsed": 1149,
     "status": "ok",
     "timestamp": 1624341526284,
     "user": {
      "displayName": "Nhi Tran",
      "photoUrl": "https://lh3.googleusercontent.com/a-/AOh14GgeL2xyHR-N6XJQH4olH5Nesy2bRFkOT6nLyPwy=s64",
      "userId": "11498988852829301831"
     },
     "user_tz": -480
    },
    "id": "7Jk8704sg3z6",
    "outputId": "8969f958-a3b0-4303-8023-6bdef62988aa"
   },
   "outputs": [
    {
     "name": "stdout",
     "output_type": "stream",
     "text": [
      "Given a string containing different types of parentheses, write a function \n",
      "to check if these parentheses matches. For example, if the input is \"(this \n",
      "is {a test})\", the output is True; if the input is \"(this is {a test)}\", \n",
      "then the output is False.\n"
     ]
    },
    {
     "data": {
      "text/html": [
       "<div>\n",
       "<style scoped>\n",
       "    .dataframe tbody tr th:only-of-type {\n",
       "        vertical-align: middle;\n",
       "    }\n",
       "\n",
       "    .dataframe tbody tr th {\n",
       "        vertical-align: top;\n",
       "    }\n",
       "\n",
       "    .dataframe thead th {\n",
       "        text-align: right;\n",
       "    }\n",
       "</style>\n",
       "<table border=\"1\" class=\"dataframe\">\n",
       "  <thead>\n",
       "    <tr style=\"text-align: right;\">\n",
       "      <th></th>\n",
       "      <th>Input1: str</th>\n",
       "      <th>Output: bool</th>\n",
       "    </tr>\n",
       "  </thead>\n",
       "  <tbody>\n",
       "    <tr>\n",
       "      <th>Test 1:</th>\n",
       "      <td>(this is {a test})</td>\n",
       "      <td>True</td>\n",
       "    </tr>\n",
       "    <tr>\n",
       "      <th>Test 2:</th>\n",
       "      <td>(this is {a test)}</td>\n",
       "      <td>False</td>\n",
       "    </tr>\n",
       "  </tbody>\n",
       "</table>\n",
       "</div>"
      ],
      "text/plain": [
       "                Input1: str Output: bool\n",
       "Test 1:  (this is {a test})         True\n",
       "Test 2:  (this is {a test)}        False"
      ]
     },
     "metadata": {
      "tags": []
     },
     "output_type": "display_data"
    },
    {
     "data": {
      "text/plain": [
       "\n",
       "\u001b[1mMatch Parentheses:  Very Hard\u001b[0;0m "
      ]
     },
     "execution_count": 67,
     "metadata": {
      "tags": []
     },
     "output_type": "execute_result"
    }
   ],
   "source": [
    "eb[28]"
   ]
  },
  {
   "cell_type": "code",
   "execution_count": null,
   "metadata": {
    "colab": {
     "base_uri": "https://localhost:8080/"
    },
    "executionInfo": {
     "elapsed": 1104,
     "status": "ok",
     "timestamp": 1624341526285,
     "user": {
      "displayName": "Nhi Tran",
      "photoUrl": "https://lh3.googleusercontent.com/a-/AOh14GgeL2xyHR-N6XJQH4olH5Nesy2bRFkOT6nLyPwy=s64",
      "userId": "11498988852829301831"
     },
     "user_tz": -480
    },
    "id": "wTCNYoXNg-OK",
    "outputId": "20007264-df33-4a82-a935-c542fbf2677e"
   },
   "outputs": [
    {
     "name": "stdout",
     "output_type": "stream",
     "text": [
      "You passed 9 of the 9 tests. \n",
      "The solution is correct\n"
     ]
    }
   ],
   "source": [
    "def match_parenthesis4(string):\n",
    "    \"\"\"This function returns if the pair of parentheses are properly matched in a string\"\"\"\n",
    "    \n",
    "    opening = [\"(\",\"[\",\"{\"]           # Strategy: use index obtained from 'closing' to check for value in 'opening', \n",
    "    closing = [\")\",\"]\",\"}\"]           # and .pop() if the values are properly paired.\n",
    "\n",
    "    stack = []\n",
    "    for i in string:                  # Loop to pick out parentheses\n",
    "        if i in opening:              # Stack always contains the 'opening' parenthesis (in value)\n",
    "            stack.append(i)\n",
    "        elif i in closing:\n",
    "            pos = closing.index(i)    # If a character in string belong to the 'closing' list, return its index\n",
    "            if (len(stack) >0 and opening[pos] == stack[-1]):   # Check if the last appended item in stack is the same as that of opening[index]\n",
    "                stack.pop()                                     # If a match is found, pop the opening parenthesis\n",
    "            else:\n",
    "                return False\n",
    "\n",
    "    if len(stack) == 0:         # If all openings are matched with closings, all parentheses are properly placed\n",
    "        return True\n",
    "    else:\n",
    "        return False\n",
    "\n",
    "eb[28].check(match_parenthesis4)"
   ]
  },
  {
   "cell_type": "code",
   "execution_count": null,
   "metadata": {
    "colab": {
     "base_uri": "https://localhost:8080/",
     "height": 213
    },
    "executionInfo": {
     "elapsed": 1060,
     "status": "ok",
     "timestamp": 1624341526286,
     "user": {
      "displayName": "Nhi Tran",
      "photoUrl": "https://lh3.googleusercontent.com/a-/AOh14GgeL2xyHR-N6XJQH4olH5Nesy2bRFkOT6nLyPwy=s64",
      "userId": "11498988852829301831"
     },
     "user_tz": -480
    },
    "id": "4dkj2-cshB_0",
    "outputId": "cda24a5b-b68e-4ad4-d213-b2d62d09f56c"
   },
   "outputs": [
    {
     "name": "stdout",
     "output_type": "stream",
     "text": [
      "Given a list of numbers as the input argument, write a function to move all \n",
      "zeros to the end of the list, while the order of the other numbers remain \n",
      "the same. For example, if the input is [0, 1, 0, 3, 12], then the output is \n",
      "[1, 3, 12, 0, 0]. \n"
     ]
    },
    {
     "data": {
      "text/html": [
       "<div>\n",
       "<style scoped>\n",
       "    .dataframe tbody tr th:only-of-type {\n",
       "        vertical-align: middle;\n",
       "    }\n",
       "\n",
       "    .dataframe tbody tr th {\n",
       "        vertical-align: top;\n",
       "    }\n",
       "\n",
       "    .dataframe thead th {\n",
       "        text-align: right;\n",
       "    }\n",
       "</style>\n",
       "<table border=\"1\" class=\"dataframe\">\n",
       "  <thead>\n",
       "    <tr style=\"text-align: right;\">\n",
       "      <th></th>\n",
       "      <th>Input1: list</th>\n",
       "      <th>Output: list</th>\n",
       "    </tr>\n",
       "  </thead>\n",
       "  <tbody>\n",
       "    <tr>\n",
       "      <th>Test 1:</th>\n",
       "      <td>[0, 1, 0, 3, 12]</td>\n",
       "      <td>[1, 3, 12, 0, 0]</td>\n",
       "    </tr>\n",
       "    <tr>\n",
       "      <th>Test 2:</th>\n",
       "      <td>[-4, -2, 1, 0, 0, 2, 0]</td>\n",
       "      <td>[-4, -2, 1, 2, 0, 0, 0]</td>\n",
       "    </tr>\n",
       "  </tbody>\n",
       "</table>\n",
       "</div>"
      ],
      "text/plain": [
       "                    Input1: list             Output: list\n",
       "Test 1:         [0, 1, 0, 3, 12]         [1, 3, 12, 0, 0]\n",
       "Test 2:  [-4, -2, 1, 0, 0, 2, 0]  [-4, -2, 1, 2, 0, 0, 0]"
      ]
     },
     "metadata": {
      "tags": []
     },
     "output_type": "display_data"
    },
    {
     "data": {
      "text/plain": [
       "\n",
       "\u001b[1mMove Zeros: Easy\u001b[0;0m "
      ]
     },
     "execution_count": 69,
     "metadata": {
      "tags": []
     },
     "output_type": "execute_result"
    }
   ],
   "source": [
    "eb[29]"
   ]
  },
  {
   "cell_type": "code",
   "execution_count": null,
   "metadata": {
    "colab": {
     "base_uri": "https://localhost:8080/"
    },
    "executionInfo": {
     "elapsed": 1015,
     "status": "ok",
     "timestamp": 1624341526287,
     "user": {
      "displayName": "Nhi Tran",
      "photoUrl": "https://lh3.googleusercontent.com/a-/AOh14GgeL2xyHR-N6XJQH4olH5Nesy2bRFkOT6nLyPwy=s64",
      "userId": "11498988852829301831"
     },
     "user_tz": -480
    },
    "id": "yJ7nj8jEhGd5",
    "outputId": "4fd82cc4-274d-4d41-ee9c-db2515b9fcde"
   },
   "outputs": [
    {
     "name": "stdout",
     "output_type": "stream",
     "text": [
      "You passed 4 of the 4 tests. \n",
      "The solution is correct\n"
     ]
    }
   ],
   "source": [
    "def move_zeros(List):\n",
    "    \"\"\"This function returns a list with all 0 moved to the end, while preserving the order of the rest\"\"\"\n",
    "    \n",
    "    List1 = []        # Extract the original list to 2 sublists, one contains just 0\n",
    "    List2 = []        # one contains the rest of the items in preserved order\n",
    "    for i in List:\n",
    "        if i == 0:\n",
    "            List1.append(i)\n",
    "        else:\n",
    "            List2.append(i)\n",
    "        new_List = List2 + List1\n",
    "    return new_List\n",
    "\n",
    "eb[29].check(move_zeros)"
   ]
  },
  {
   "cell_type": "code",
   "execution_count": null,
   "metadata": {
    "colab": {
     "base_uri": "https://localhost:8080/"
    },
    "executionInfo": {
     "elapsed": 970,
     "status": "ok",
     "timestamp": 1624341526287,
     "user": {
      "displayName": "Nhi Tran",
      "photoUrl": "https://lh3.googleusercontent.com/a-/AOh14GgeL2xyHR-N6XJQH4olH5Nesy2bRFkOT6nLyPwy=s64",
      "userId": "11498988852829301831"
     },
     "user_tz": -480
    },
    "id": "XJjfmfljVbWa",
    "outputId": "8ad569b8-aad1-4de5-bcb0-e8d3de0af9db"
   },
   "outputs": [
    {
     "name": "stdout",
     "output_type": "stream",
     "text": [
      "You passed 4 of the 4 tests. \n",
      "The solution is correct\n"
     ]
    }
   ],
   "source": [
    "def move_zeros2(List):        # Leaner and less resource consumed\n",
    "    \"\"\"This function returns a list with all 0 moved to the end, while preserving the order of the rest\"\"\"\n",
    "    \n",
    "    z = List.count(0)         # Count frequency of zero in list  \n",
    "    for i in range(z):\n",
    "        List.remove(0)        # Remove all zeros from list\n",
    "        i += 1\n",
    "    new_List = List + [0]*z   # Add same number of zeros to the end of the list\n",
    "    return new_List\n",
    "\n",
    "eb[29].check(move_zeros2)"
   ]
  },
  {
   "cell_type": "code",
   "execution_count": null,
   "metadata": {
    "colab": {
     "base_uri": "https://localhost:8080/",
     "height": 182
    },
    "executionInfo": {
     "elapsed": 925,
     "status": "ok",
     "timestamp": 1624341526288,
     "user": {
      "displayName": "Nhi Tran",
      "photoUrl": "https://lh3.googleusercontent.com/a-/AOh14GgeL2xyHR-N6XJQH4olH5Nesy2bRFkOT6nLyPwy=s64",
      "userId": "11498988852829301831"
     },
     "user_tz": -480
    },
    "id": "r6--XqSWhJk9",
    "outputId": "a4a10209-7b0e-4e83-858e-3c7884f48c85"
   },
   "outputs": [
    {
     "name": "stdout",
     "output_type": "stream",
     "text": [
      "Given two lists of sorted numbers as the input arguments, write a function to \n",
      "merge these two lists as one list, with all numbers sorted. For example, if \n",
      "the inputs are [1, 2, 4] and [1, 3, 4], then the output is [1, 1, 2, 3, 4, 4]. \n",
      "As a practicce, do not use the built-in method sort.\n"
     ]
    },
    {
     "data": {
      "text/html": [
       "<div>\n",
       "<style scoped>\n",
       "    .dataframe tbody tr th:only-of-type {\n",
       "        vertical-align: middle;\n",
       "    }\n",
       "\n",
       "    .dataframe tbody tr th {\n",
       "        vertical-align: top;\n",
       "    }\n",
       "\n",
       "    .dataframe thead th {\n",
       "        text-align: right;\n",
       "    }\n",
       "</style>\n",
       "<table border=\"1\" class=\"dataframe\">\n",
       "  <thead>\n",
       "    <tr style=\"text-align: right;\">\n",
       "      <th></th>\n",
       "      <th>Input1: list</th>\n",
       "      <th>Input2: list</th>\n",
       "      <th>Output: list</th>\n",
       "    </tr>\n",
       "  </thead>\n",
       "  <tbody>\n",
       "    <tr>\n",
       "      <th>Test 1:</th>\n",
       "      <td>[1, 2, 4]</td>\n",
       "      <td>[1, 3, 4]</td>\n",
       "      <td>[1, 1, 2, 3, 4, 4]</td>\n",
       "    </tr>\n",
       "  </tbody>\n",
       "</table>\n",
       "</div>"
      ],
      "text/plain": [
       "        Input1: list Input2: list        Output: list\n",
       "Test 1:    [1, 2, 4]    [1, 3, 4]  [1, 1, 2, 3, 4, 4]"
      ]
     },
     "metadata": {
      "tags": []
     },
     "output_type": "display_data"
    },
    {
     "data": {
      "text/plain": [
       "\n",
       "\u001b[1mMerge Lists: Easy\u001b[0;0m "
      ]
     },
     "execution_count": 72,
     "metadata": {
      "tags": []
     },
     "output_type": "execute_result"
    }
   ],
   "source": [
    "eb[30]"
   ]
  },
  {
   "cell_type": "code",
   "execution_count": null,
   "metadata": {
    "colab": {
     "base_uri": "https://localhost:8080/"
    },
    "executionInfo": {
     "elapsed": 881,
     "status": "ok",
     "timestamp": 1624341526289,
     "user": {
      "displayName": "Nhi Tran",
      "photoUrl": "https://lh3.googleusercontent.com/a-/AOh14GgeL2xyHR-N6XJQH4olH5Nesy2bRFkOT6nLyPwy=s64",
      "userId": "11498988852829301831"
     },
     "user_tz": -480
    },
    "id": "j-xdvZ6ChMh5",
    "outputId": "63fb0653-d6e7-4cd3-a91b-879790922894"
   },
   "outputs": [
    {
     "name": "stdout",
     "output_type": "stream",
     "text": [
      "You passed 3 of the 3 tests. \n",
      "The solution is correct\n"
     ]
    }
   ],
   "source": [
    "def merge_lists(List1,List2):       # Avoid using .sort()\n",
    "    \"\"\"This function merges two lists and returns a sorted list\"\"\"\n",
    "    \n",
    "    new_List = []                   # CONS: dumb way to code, too complicated, not reader friendly\n",
    "    n = len(List1)+len(List2)\n",
    "    for i in range(n):\n",
    "        if (len(List1) > 0) and (len(List2)>0):\n",
    "            if List1[0] <= List2[0]:\n",
    "                new_List.append(List1[0])\n",
    "                List1 = List1[1:]\n",
    "            else:\n",
    "                new_List.append(List2[0])\n",
    "                List2 = List2[1:]\n",
    "        elif len(List1) == 0:\n",
    "            new_List = new_List + List2\n",
    "            List2.clear()\n",
    "        elif len(List2) == 0:\n",
    "            new_List = new_List + List1\n",
    "            List1.clear()\n",
    "    return new_List\n",
    "\n",
    "eb[30].check(merge_lists)"
   ]
  },
  {
   "cell_type": "code",
   "execution_count": null,
   "metadata": {
    "colab": {
     "base_uri": "https://localhost:8080/"
    },
    "executionInfo": {
     "elapsed": 837,
     "status": "ok",
     "timestamp": 1624341526289,
     "user": {
      "displayName": "Nhi Tran",
      "photoUrl": "https://lh3.googleusercontent.com/a-/AOh14GgeL2xyHR-N6XJQH4olH5Nesy2bRFkOT6nLyPwy=s64",
      "userId": "11498988852829301831"
     },
     "user_tz": -480
    },
    "id": "Dv0peTVqW39O",
    "outputId": "53ff5db1-df2f-4837-e2f1-c89799f96c89"
   },
   "outputs": [
    {
     "name": "stdout",
     "output_type": "stream",
     "text": [
      "You passed 3 of the 3 tests. \n",
      "The solution is correct\n"
     ]
    }
   ],
   "source": [
    "def merge_lists2(List1,List2):         # Avoid using .sort()\n",
    "    \"\"\"This function merges two lists and returns a sorted list\"\"\"\n",
    "    \n",
    "    List = List1 + List2               # PROS: Leaner code, employ the same concept as sorting a single list\n",
    "    n = len(List)\n",
    "\n",
    "    new_List = []\n",
    "    for i in range(n):\n",
    "        new_List.append(min(List))\n",
    "        List.remove(min(List))\n",
    "\n",
    "    return new_List\n",
    "\n",
    "eb[30].check(merge_lists2)"
   ]
  },
  {
   "cell_type": "code",
   "execution_count": null,
   "metadata": {
    "colab": {
     "base_uri": "https://localhost:8080/",
     "height": 176
    },
    "executionInfo": {
     "elapsed": 794,
     "status": "ok",
     "timestamp": 1624341526290,
     "user": {
      "displayName": "Nhi Tran",
      "photoUrl": "https://lh3.googleusercontent.com/a-/AOh14GgeL2xyHR-N6XJQH4olH5Nesy2bRFkOT6nLyPwy=s64",
      "userId": "11498988852829301831"
     },
     "user_tz": -480
    },
    "id": "_ZIfYrQNhZxM",
    "outputId": "8ebe6ed9-e877-4f50-aef3-7216db2ebc6d"
   },
   "outputs": [
    {
     "data": {
      "text/html": [
       "<div>\n",
       "<style scoped>\n",
       "    .dataframe tbody tr th:only-of-type {\n",
       "        vertical-align: middle;\n",
       "    }\n",
       "\n",
       "    .dataframe tbody tr th {\n",
       "        vertical-align: top;\n",
       "    }\n",
       "\n",
       "    .dataframe thead th {\n",
       "        text-align: right;\n",
       "    }\n",
       "</style>\n",
       "<table border=\"1\" class=\"dataframe\">\n",
       "  <thead>\n",
       "    <tr style=\"text-align: right;\">\n",
       "      <th></th>\n",
       "      <th>Input 1: list</th>\n",
       "      <th>Input 2: list</th>\n",
       "      <th>Your output</th>\n",
       "      <th>Correct output: list</th>\n",
       "      <th>Correct</th>\n",
       "    </tr>\n",
       "  </thead>\n",
       "  <tbody>\n",
       "    <tr>\n",
       "      <th>Test 1:</th>\n",
       "      <td>[1, 2, 4]</td>\n",
       "      <td>[1, 3, 4]</td>\n",
       "      <td>[1, 1, 2, 3, 4, 4]</td>\n",
       "      <td>[1, 1, 2, 3, 4, 4]</td>\n",
       "      <td>True</td>\n",
       "    </tr>\n",
       "    <tr>\n",
       "      <th>Test 2:</th>\n",
       "      <td>[0, 1, 1, 2, 5, 6]</td>\n",
       "      <td>[1, 2, 3]</td>\n",
       "      <td>[0, 1, 1, 1, 2, 2, 3, 5, 6]</td>\n",
       "      <td>[0, 1, 1, 1, 2, 2, 3, 5, 6]</td>\n",
       "      <td>True</td>\n",
       "    </tr>\n",
       "    <tr>\n",
       "      <th>Test 3:</th>\n",
       "      <td>[-4, -2, 0, 0, 1, 2]</td>\n",
       "      <td>[-1, 0, 2, 3, 4, 5]</td>\n",
       "      <td>[-4, -2, -1, 0, 0, 0, 1, 2, 2, 3, 4, 5]</td>\n",
       "      <td>[-4, -2, -1, 0, 0, 0, 1, 2, 2, 3, 4, 5]</td>\n",
       "      <td>True</td>\n",
       "    </tr>\n",
       "  </tbody>\n",
       "</table>\n",
       "</div>"
      ],
      "text/plain": [
       "                Input 1: list  ... Correct\n",
       "Test 1:             [1, 2, 4]  ...    True\n",
       "Test 2:    [0, 1, 1, 2, 5, 6]  ...    True\n",
       "Test 3:  [-4, -2, 0, 0, 1, 2]  ...    True\n",
       "\n",
       "[3 rows x 5 columns]"
      ]
     },
     "metadata": {
      "tags": []
     },
     "output_type": "display_data"
    },
    {
     "name": "stdout",
     "output_type": "stream",
     "text": [
      "You passed 3 of the 3 tests. \n",
      "The solution is correct\n"
     ]
    }
   ],
   "source": [
    "def merge_lists3(List1,List2):\n",
    "    List = List1 + List2\n",
    "    return sorted(List)         # Use sorted() function rather than .sort() method to return a list\n",
    "\n",
    "eb[30].check(merge_lists3,cheat=True)"
   ]
  },
  {
   "cell_type": "code",
   "execution_count": null,
   "metadata": {
    "colab": {
     "base_uri": "https://localhost:8080/",
     "height": 312
    },
    "executionInfo": {
     "elapsed": 791,
     "status": "ok",
     "timestamp": 1624341526290,
     "user": {
      "displayName": "Nhi Tran",
      "photoUrl": "https://lh3.googleusercontent.com/a-/AOh14GgeL2xyHR-N6XJQH4olH5Nesy2bRFkOT6nLyPwy=s64",
      "userId": "11498988852829301831"
     },
     "user_tz": -480
    },
    "id": "e6tu2VIwiyzv",
    "outputId": "eac727e1-943b-4fcf-e92e-24f80f93587d"
   },
   "outputs": [
    {
     "name": "stdout",
     "output_type": "stream",
     "text": [
      "Given a list representing the prediction of stock prices in a number of days, \n",
      "design a function to find the maximum profit. For example, if the input list \n",
      "is [7, 1, 5, 3, 6, 4] then the profit is 4+3=7, because you can buy the stock \n",
      "on day 2 (price=1) and sell it on day 3 (price=5) so the profit is 4, then you \n",
      "can buy on day 4 (price=3) and sell it on day 5 (price=6) so the profit is 3. \n",
      "Note that you can make the buy and sell transcations in the same day, but you \n",
      "cannot buy the stock again before selling it, so if the given input list is \n",
      "[1, 2, 3, 4, 5] then the output is 5-1=4, or (2-1)+(3-2)+(4-3)+(5-4)=4.\n"
     ]
    },
    {
     "data": {
      "text/html": [
       "<div>\n",
       "<style scoped>\n",
       "    .dataframe tbody tr th:only-of-type {\n",
       "        vertical-align: middle;\n",
       "    }\n",
       "\n",
       "    .dataframe tbody tr th {\n",
       "        vertical-align: top;\n",
       "    }\n",
       "\n",
       "    .dataframe thead th {\n",
       "        text-align: right;\n",
       "    }\n",
       "</style>\n",
       "<table border=\"1\" class=\"dataframe\">\n",
       "  <thead>\n",
       "    <tr style=\"text-align: right;\">\n",
       "      <th></th>\n",
       "      <th>Input1: list</th>\n",
       "      <th>Output: int</th>\n",
       "    </tr>\n",
       "  </thead>\n",
       "  <tbody>\n",
       "    <tr>\n",
       "      <th>Test 1:</th>\n",
       "      <td>[7, 1, 5, 3, 6, 4]</td>\n",
       "      <td>7</td>\n",
       "    </tr>\n",
       "    <tr>\n",
       "      <th>Test 2:</th>\n",
       "      <td>[1, 2, 3, 4, 5]</td>\n",
       "      <td>4</td>\n",
       "    </tr>\n",
       "    <tr>\n",
       "      <th>Test 3:</th>\n",
       "      <td>[7, 6, 4, 3, 1]</td>\n",
       "      <td>0</td>\n",
       "    </tr>\n",
       "  </tbody>\n",
       "</table>\n",
       "</div>"
      ],
      "text/plain": [
       "               Input1: list Output: int\n",
       "Test 1:  [7, 1, 5, 3, 6, 4]           7\n",
       "Test 2:     [1, 2, 3, 4, 5]           4\n",
       "Test 3:     [7, 6, 4, 3, 1]           0"
      ]
     },
     "metadata": {
      "tags": []
     },
     "output_type": "display_data"
    },
    {
     "data": {
      "text/plain": [
       "\n",
       "\u001b[1mTrading Decisions: Hard\u001b[0;0m "
      ]
     },
     "execution_count": 76,
     "metadata": {
      "tags": []
     },
     "output_type": "execute_result"
    }
   ],
   "source": [
    "eb[31]"
   ]
  },
  {
   "cell_type": "code",
   "execution_count": null,
   "metadata": {
    "colab": {
     "base_uri": "https://localhost:8080/"
    },
    "executionInfo": {
     "elapsed": 747,
     "status": "ok",
     "timestamp": 1624341526291,
     "user": {
      "displayName": "Nhi Tran",
      "photoUrl": "https://lh3.googleusercontent.com/a-/AOh14GgeL2xyHR-N6XJQH4olH5Nesy2bRFkOT6nLyPwy=s64",
      "userId": "11498988852829301831"
     },
     "user_tz": -480
    },
    "id": "M5JF0zBLi5ds",
    "outputId": "631fbd21-92e5-4c75-b7ee-2e6caee43d7e"
   },
   "outputs": [
    {
     "name": "stdout",
     "output_type": "stream",
     "text": [
      "You passed 5 of the 5 tests. \n",
      "The solution is correct\n"
     ]
    }
   ],
   "source": [
    "def increasing_series(arr):       # Function within function to determine period with increasing prices\n",
    "    main_arr = []\n",
    "    sub_arr = []\n",
    "    n = len(arr)\n",
    "    for ind in range(n):\n",
    "        if ind < n - 1 and arr[ind] <= arr[ind+1]:    # Find all days with increasing stock prices at executive days\n",
    "           sub_arr.append(arr[ind])\n",
    "        else:\n",
    "           sub_arr.append(arr[ind])\n",
    "           main_arr.append(sub_arr)\n",
    "           sub_arr = []\n",
    "    return main_arr\n",
    "\n",
    "def trading_decisions(List):           # Maximum profit obtained if always buy at the lowest possible price and sell immediately the next day if price is up\n",
    "    \"\"\"This function returns maximum profit for a give list of prices with unlimited buy/sell\"\"\"\n",
    "    \n",
    "    periods = increasing_series(List)  # Read: https://www.geeksforgeeks.org/stock-buy-sell/amp/\n",
    "    p = 0\n",
    "    for i in periods:\n",
    "        if type(i) == list:       # Check if the item in period is list (aka. there's transaction) prior to finding profit\n",
    "            p += i[-1] - i[0]\n",
    "    return p\n",
    "\n",
    "eb[31].check(trading_decisions)"
   ]
  },
  {
   "cell_type": "code",
   "execution_count": null,
   "metadata": {
    "colab": {
     "base_uri": "https://localhost:8080/"
    },
    "executionInfo": {
     "elapsed": 704,
     "status": "ok",
     "timestamp": 1624341526291,
     "user": {
      "displayName": "Nhi Tran",
      "photoUrl": "https://lh3.googleusercontent.com/a-/AOh14GgeL2xyHR-N6XJQH4olH5Nesy2bRFkOT6nLyPwy=s64",
      "userId": "11498988852829301831"
     },
     "user_tz": -480
    },
    "id": "mNhufZaRZbub",
    "outputId": "5d70f441-761c-4368-d755-b33a5c8ae3a6"
   },
   "outputs": [
    {
     "name": "stdout",
     "output_type": "stream",
     "text": [
      "You passed 5 of the 5 tests. \n",
      "The solution is correct\n"
     ]
    }
   ],
   "source": [
    "def trading_decisions2(List):\n",
    "    \"\"\"This function returns maximum profit for a give list of prices with unlimited buy/sell\"\"\"\n",
    "    \n",
    "    days = len(List)\n",
    "    p = 0\n",
    "\n",
    "    for i in range(days-1):           # Maximum profit obtained if buying prices is lower than selling price the immediately following day\n",
    "        if List[i+1] - List[i] > 0:\n",
    "            p += List[i+1] - List[i]  # Sum all positive differences to get max profit\n",
    "\n",
    "    return p\n",
    "\n",
    "eb[31].check(trading_decisions2)"
   ]
  },
  {
   "cell_type": "code",
   "execution_count": null,
   "metadata": {
    "colab": {
     "base_uri": "https://localhost:8080/",
     "height": 363
    },
    "executionInfo": {
     "elapsed": 659,
     "status": "ok",
     "timestamp": 1624341526292,
     "user": {
      "displayName": "Nhi Tran",
      "photoUrl": "https://lh3.googleusercontent.com/a-/AOh14GgeL2xyHR-N6XJQH4olH5Nesy2bRFkOT6nLyPwy=s64",
      "userId": "11498988852829301831"
     },
     "user_tz": -480
    },
    "id": "5CNgdmFnjAGF",
    "outputId": "bd33d91f-f374-45d7-c00e-2cb207225155"
   },
   "outputs": [
    {
     "name": "stdout",
     "output_type": "stream",
     "text": [
      "At a lemonade stand, each lemonade costs $5. Customers are standing in a queue\n",
      "to buy from you, and order one at a time. Each customer will only buy one \n",
      "lemonade and pay with either a $5, $10, or $20 bill, and these payments are \n",
      "kept in a listas the input argument. You must provide the correct change to \n",
      "each customer, so that the net transaction is that the customer pays $5. Note \n",
      "that you don't have any change in hand at first. Return True if and only if \n",
      "you can provide every customer with the correct change, otherwise False. For\n",
      "example, if the input is [5, 5, 5, 10, 20], then the output is Ture, because \n",
      "we collected three $5 bills to pay back the subsequent customers. If the input \n",
      "is [10, 10], then the output is False, because there is no way to pay back \n",
      "the customers. \n"
     ]
    },
    {
     "data": {
      "text/html": [
       "<div>\n",
       "<style scoped>\n",
       "    .dataframe tbody tr th:only-of-type {\n",
       "        vertical-align: middle;\n",
       "    }\n",
       "\n",
       "    .dataframe tbody tr th {\n",
       "        vertical-align: top;\n",
       "    }\n",
       "\n",
       "    .dataframe thead th {\n",
       "        text-align: right;\n",
       "    }\n",
       "</style>\n",
       "<table border=\"1\" class=\"dataframe\">\n",
       "  <thead>\n",
       "    <tr style=\"text-align: right;\">\n",
       "      <th></th>\n",
       "      <th>Input1: list</th>\n",
       "      <th>Output: bool</th>\n",
       "    </tr>\n",
       "  </thead>\n",
       "  <tbody>\n",
       "    <tr>\n",
       "      <th>Test 1:</th>\n",
       "      <td>[5, 5, 5, 10, 20]</td>\n",
       "      <td>True</td>\n",
       "    </tr>\n",
       "    <tr>\n",
       "      <th>Test 2:</th>\n",
       "      <td>[10, 10]</td>\n",
       "      <td>False</td>\n",
       "    </tr>\n",
       "    <tr>\n",
       "      <th>Test 3:</th>\n",
       "      <td>[5, 10, 20, 5, 5, 10]</td>\n",
       "      <td>False</td>\n",
       "    </tr>\n",
       "  </tbody>\n",
       "</table>\n",
       "</div>"
      ],
      "text/plain": [
       "                  Input1: list Output: bool\n",
       "Test 1:      [5, 5, 5, 10, 20]         True\n",
       "Test 2:               [10, 10]        False\n",
       "Test 3:  [5, 10, 20, 5, 5, 10]        False"
      ]
     },
     "metadata": {
      "tags": []
     },
     "output_type": "display_data"
    },
    {
     "data": {
      "text/plain": [
       "\n",
       "\u001b[1mLemonade Stand: Hard\u001b[0;0m "
      ]
     },
     "execution_count": 79,
     "metadata": {
      "tags": []
     },
     "output_type": "execute_result"
    }
   ],
   "source": [
    "eb[32]"
   ]
  },
  {
   "cell_type": "code",
   "execution_count": null,
   "metadata": {
    "colab": {
     "base_uri": "https://localhost:8080/"
    },
    "executionInfo": {
     "elapsed": 613,
     "status": "ok",
     "timestamp": 1624341526293,
     "user": {
      "displayName": "Nhi Tran",
      "photoUrl": "https://lh3.googleusercontent.com/a-/AOh14GgeL2xyHR-N6XJQH4olH5Nesy2bRFkOT6nLyPwy=s64",
      "userId": "11498988852829301831"
     },
     "user_tz": -480
    },
    "id": "bzD27Es9jBfC",
    "outputId": "a1d0552d-cdbd-4e0d-d534-c768f8097108"
   },
   "outputs": [
    {
     "name": "stdout",
     "output_type": "stream",
     "text": [
      "You passed 7 of the 7 tests. \n",
      "The solution is correct\n"
     ]
    }
   ],
   "source": [
    "def lemonade_stand(notes):\n",
    "    \"\"\"This function checks if it is possible to return change to customers\"\"\"\n",
    "    \n",
    "    cashier = []\n",
    "    for i in notes:\n",
    "        if i == 5:        # If i = 5, no change needed, just put to cashier\n",
    "            cashier.append(i)\n",
    "            cashier = sorted(cashier)\n",
    "        elif (i > 5) and (5 in cashier):        # If i > 5, change of minimum 5 is needed. Else unable to proceed, execute next block of code\n",
    "            for j in range(len(cashier)):\n",
    "                change = []\n",
    "                while sum(change) < (i - 5):    # Stop loop if sum of change hits exact change \n",
    "                    cashier = sorted(cashier)   # Arrange all notes from smallest to biggest\n",
    "                    change.append(cashier[j])\n",
    "                    cashier.pop(j)\n",
    "                    if (change.count(5) == 2) and (10 in cashier):    # If multiple $5 bills are needed, and there's $10 bill, exchange them\n",
    "                        cashier.remove(10)\n",
    "                        cashier.append(5)\n",
    "                        cashier.append(5)\n",
    "                cashier.append(i)         # Add newly obtained bill\n",
    "                cashier = sorted(cashier)\n",
    "                break\n",
    "    if sum(cashier) == 5*len(notes):      # Total amount in cashier must tally with amount sold ($5 for each transaction)\n",
    "        return True\n",
    "    else:\n",
    "        return False\n",
    "\n",
    "eb[32].check(lemonade_stand)"
   ]
  },
  {
   "cell_type": "code",
   "execution_count": null,
   "metadata": {
    "colab": {
     "base_uri": "https://localhost:8080/"
    },
    "executionInfo": {
     "elapsed": 569,
     "status": "ok",
     "timestamp": 1624341526294,
     "user": {
      "displayName": "Nhi Tran",
      "photoUrl": "https://lh3.googleusercontent.com/a-/AOh14GgeL2xyHR-N6XJQH4olH5Nesy2bRFkOT6nLyPwy=s64",
      "userId": "11498988852829301831"
     },
     "user_tz": -480
    },
    "id": "vQoAhyHHjKTp",
    "outputId": "f27c9cb9-2088-4d60-dbba-437ba1bae8fc"
   },
   "outputs": [
    {
     "name": "stdout",
     "output_type": "stream",
     "text": [
      "You passed 7 of the 7 tests. \n",
      "The solution is correct\n"
     ]
    }
   ],
   "source": [
    "def lemonade_stand2(notes):\n",
    "    \"\"\"This function checks if it is possible to return change to customers\"\"\"         \n",
    "    \n",
    "    Cashier = {5:0, 10:0, 20:0}\n",
    "    truths = []\n",
    "    for i in notes:\n",
    "        Cashier[i] += 1          # Add note when given\n",
    "        if i > 5:\n",
    "            change = i - 5       # Calculate amount of change needed\n",
    "            if Cashier[10] > 0:                # Give change in $10 bill first if possible (aka. count of $10 bill > 0)\n",
    "                Cashier[10] -= change//10      # Since change is either 15 or 5, using floor of change//10 to return number of $10 note\n",
    "                Cashier[5] -= (change%10)/5\n",
    "            else:\n",
    "                Cashier[5] -= change/5\n",
    "        truths.append(all(note >= 0 for note in Cashier.values()))   # all() returns True if all values in Cashier is non-negative\n",
    "    return all(truths)                 # truths / ability to give change should be checked at every note given (at every iteration)\n",
    "\n",
    "eb[32].check(lemonade_stand2)"
   ]
  },
  {
   "cell_type": "code",
   "execution_count": null,
   "metadata": {
    "colab": {
     "base_uri": "https://localhost:8080/"
    },
    "executionInfo": {
     "elapsed": 423,
     "status": "ok",
     "timestamp": 1624342844562,
     "user": {
      "displayName": "Nhi Tran",
      "photoUrl": "https://lh3.googleusercontent.com/a-/AOh14GgeL2xyHR-N6XJQH4olH5Nesy2bRFkOT6nLyPwy=s64",
      "userId": "11498988852829301831"
     },
     "user_tz": -480
    },
    "id": "56BQI2UuWM7b",
    "outputId": "703ae57c-7fa6-42b3-e69b-4fd5bb52cb87"
   },
   "outputs": [
    {
     "name": "stdout",
     "output_type": "stream",
     "text": [
      "You passed 7 of the 7 tests. \n",
      "The solution is correct\n"
     ]
    }
   ],
   "source": [
    "def lemonade_stand3(notes): \n",
    "    \"\"\"This function checks if it is possible to return change to customers\"\"\" \n",
    "    \n",
    "    Cashier = {5:0, 10:0, 20:0}\n",
    "    truths = []\n",
    "    operating = True        # Assuming operating is True until unable to provide change\n",
    "    while operating: \n",
    "        for i in notes:\n",
    "            Cashier[i] += 1    \n",
    "            if i > 5:\n",
    "                change = i - 5       \n",
    "                if Cashier[10] > 0:                \n",
    "                    Cashier[10] -= change//10      \n",
    "                    Cashier[5] -= (change%10)/5\n",
    "                else:\n",
    "                    Cashier[5] -= change/5\n",
    "                if all(note >= 0 for note in Cashier.values()) == False:    # Operating == False if unable to provide change \n",
    "                    return False                                            # (aka. there's at least one type of note with negative count)\n",
    "        if operating == True:\n",
    "            return True\n",
    "\n",
    "eb[32].check(lemonade_stand3)"
   ]
  },
  {
   "cell_type": "code",
   "execution_count": null,
   "metadata": {
    "colab": {
     "base_uri": "https://localhost:8080/",
     "height": 278
    },
    "executionInfo": {
     "elapsed": 523,
     "status": "ok",
     "timestamp": 1624341526294,
     "user": {
      "displayName": "Nhi Tran",
      "photoUrl": "https://lh3.googleusercontent.com/a-/AOh14GgeL2xyHR-N6XJQH4olH5Nesy2bRFkOT6nLyPwy=s64",
      "userId": "11498988852829301831"
     },
     "user_tz": -480
    },
    "id": "Dr5o6cBPjOre",
    "outputId": "746baebd-2720-4a09-88cc-d627d4c1ea8a"
   },
   "outputs": [
    {
     "name": "stdout",
     "output_type": "stream",
     "text": [
      "An array is monotonic if it is either monotone increasing or monotone \n",
      "decreasing. A list a is monotone increasing if for all i <= j, a[i] <= a[j]. \n",
      "A list a is monotone decreasing if for all i <= j, a[i] >= a[j]. Write a \n",
      "function to return Trueif and only if the given input list is monotonic. For\n",
      "example, if the input is [1,2,2,3], then the output is True. If the input is \n",
      "[1,3,2], then the output is False.\n"
     ]
    },
    {
     "data": {
      "text/html": [
       "<div>\n",
       "<style scoped>\n",
       "    .dataframe tbody tr th:only-of-type {\n",
       "        vertical-align: middle;\n",
       "    }\n",
       "\n",
       "    .dataframe tbody tr th {\n",
       "        vertical-align: top;\n",
       "    }\n",
       "\n",
       "    .dataframe thead th {\n",
       "        text-align: right;\n",
       "    }\n",
       "</style>\n",
       "<table border=\"1\" class=\"dataframe\">\n",
       "  <thead>\n",
       "    <tr style=\"text-align: right;\">\n",
       "      <th></th>\n",
       "      <th>Input1: list</th>\n",
       "      <th>Output: bool</th>\n",
       "    </tr>\n",
       "  </thead>\n",
       "  <tbody>\n",
       "    <tr>\n",
       "      <th>Test 1:</th>\n",
       "      <td>[1, 2, 2, 3]</td>\n",
       "      <td>True</td>\n",
       "    </tr>\n",
       "    <tr>\n",
       "      <th>Test 2:</th>\n",
       "      <td>[6, 5, 4, 4]</td>\n",
       "      <td>True</td>\n",
       "    </tr>\n",
       "    <tr>\n",
       "      <th>Test 3:</th>\n",
       "      <td>[1, 3, 2]</td>\n",
       "      <td>False</td>\n",
       "    </tr>\n",
       "  </tbody>\n",
       "</table>\n",
       "</div>"
      ],
      "text/plain": [
       "         Input1: list Output: bool\n",
       "Test 1:  [1, 2, 2, 3]         True\n",
       "Test 2:  [6, 5, 4, 4]         True\n",
       "Test 3:     [1, 3, 2]        False"
      ]
     },
     "metadata": {
      "tags": []
     },
     "output_type": "display_data"
    },
    {
     "data": {
      "text/plain": [
       "\n",
       "\u001b[1mMonotnoe Trend: Medium\u001b[0;0m "
      ]
     },
     "execution_count": 82,
     "metadata": {
      "tags": []
     },
     "output_type": "execute_result"
    }
   ],
   "source": [
    "eb[33]"
   ]
  },
  {
   "cell_type": "code",
   "execution_count": null,
   "metadata": {
    "colab": {
     "base_uri": "https://localhost:8080/"
    },
    "executionInfo": {
     "elapsed": 476,
     "status": "ok",
     "timestamp": 1624341526295,
     "user": {
      "displayName": "Nhi Tran",
      "photoUrl": "https://lh3.googleusercontent.com/a-/AOh14GgeL2xyHR-N6XJQH4olH5Nesy2bRFkOT6nLyPwy=s64",
      "userId": "11498988852829301831"
     },
     "user_tz": -480
    },
    "id": "jduQLMkjjqV1",
    "outputId": "2e6b722f-362e-4c94-b47c-df967571a62d"
   },
   "outputs": [
    {
     "name": "stdout",
     "output_type": "stream",
     "text": [
      "You passed 8 of the 8 tests. \n",
      "The solution is correct\n"
     ]
    }
   ],
   "source": [
    "def monotone_trend(List):\n",
    "    \"\"\"This function checks if a given string is monotonic (increasingly and decreasingly)\"\"\"\n",
    "    \n",
    "    Differences = []\n",
    "    for i in range(len(List)-1):\n",
    "        d = List[i]-List[i+1]\n",
    "        Differences.append(d)\n",
    "    if List[i]-List[i+1] >= 0:\n",
    "        total_d = sum(d>=0 for d in Differences)       # True = 1, so with every truth, sum is increased by 1\n",
    "    else:\n",
    "        total_d = sum(d<=0 for d in Differences)\n",
    "    if total_d == len(List)-1:                         # If all differences are all non-negative or non-positive, sum of truths will be the same  \n",
    "        return True                                    # the total number of differences\n",
    "    else:\n",
    "        return False\n",
    "\n",
    "eb[33].check(monotone_trend)"
   ]
  },
  {
   "cell_type": "code",
   "execution_count": null,
   "metadata": {
    "colab": {
     "base_uri": "https://localhost:8080/"
    },
    "executionInfo": {
     "elapsed": 431,
     "status": "ok",
     "timestamp": 1624341526296,
     "user": {
      "displayName": "Nhi Tran",
      "photoUrl": "https://lh3.googleusercontent.com/a-/AOh14GgeL2xyHR-N6XJQH4olH5Nesy2bRFkOT6nLyPwy=s64",
      "userId": "11498988852829301831"
     },
     "user_tz": -480
    },
    "id": "OpP9vt7asy9-",
    "outputId": "6593ba2e-94b2-4a46-f120-2ffcac2d7d01"
   },
   "outputs": [
    {
     "name": "stdout",
     "output_type": "stream",
     "text": [
      "You passed 8 of the 8 tests. \n",
      "The solution is correct\n"
     ]
    }
   ],
   "source": [
    "def monotone_trend2(List):\n",
    "    \"\"\"This function checks if a given string is monotonic (increasingly and decreasingly)\"\"\"\n",
    "    \n",
    "    diff = []        # Create list of all differences between [i] & [i+1]\n",
    "    for i in range(len(List)-1):\n",
    "        d = List[i] - List[i+1]\n",
    "        diff.append(d)\n",
    "    return all(d >= 0 for d in diff) or all(d<=0 for d in diff)   # all() returns True if all sub-routines are True, \n",
    "                                                                  # all() returns False if there is at least 1 False\n",
    "eb[33].check(monotone_trend2)"
   ]
  },
  {
   "cell_type": "code",
   "execution_count": null,
   "metadata": {
    "colab": {
     "base_uri": "https://localhost:8080/"
    },
    "executionInfo": {
     "elapsed": 510,
     "status": "ok",
     "timestamp": 1624343522572,
     "user": {
      "displayName": "Nhi Tran",
      "photoUrl": "https://lh3.googleusercontent.com/a-/AOh14GgeL2xyHR-N6XJQH4olH5Nesy2bRFkOT6nLyPwy=s64",
      "userId": "11498988852829301831"
     },
     "user_tz": -480
    },
    "id": "q1woJOdeZuQD",
    "outputId": "2ba51ce1-d930-40d9-ea8c-338574b23998"
   },
   "outputs": [
    {
     "name": "stdout",
     "output_type": "stream",
     "text": [
      "You passed 8 of the 8 tests. \n",
      "The solution is correct\n"
     ]
    }
   ],
   "source": [
    "def monotone_trend3(List):\n",
    "    \"\"\"This function checks if a given string is monotonic (increasingly and decreasingly)\"\"\"\n",
    "    \n",
    "    diff = []        # Create list of all differences between [i] & [i+1]\n",
    "    monotonic = True\n",
    "    while monotonic:\n",
    "        for i in range(len(List)-1):\n",
    "            d = List[i] - List[i+1]\n",
    "            diff.append(d)\n",
    "            if all(d >= 0 for d in diff) == False:\n",
    "                if all(d<=0 for d in diff) == False:\n",
    "                    return False\n",
    "        if monotonic == True:\n",
    "            return True\n",
    "\n",
    "eb[33].check(monotone_trend3)"
   ]
  },
  {
   "cell_type": "code",
   "execution_count": null,
   "metadata": {
    "id": "Zb58s_0lkZU7"
   },
   "outputs": [],
   "source": [
    "def monotone_up2(List,reverse=False):       # Creating optional parameters with default\n",
    "    \"\"\" This function checks if a given list is increasingly monotonic, reverse=False.\n",
    "        If reverse=True, this function will check if a given list is decreasingly monotonic\"\"\"\n",
    "    \n",
    "    diff = []           \n",
    "    if len(List) == 1:\n",
    "        return False\n",
    "    for i in range(len(List)-1):\n",
    "        d = List[i+1] - List[i]\n",
    "        diff.append(d)\n",
    "    if reverse == False:                    # if/else to provide conditions for different values of optional parameters\n",
    "        return all(d >= 0 for d in diff)     \n",
    "    if reverse == True:                     \n",
    "        return all(d <= 0 for d in diff)\n",
    "    if reverse == \"Both\":\n",
    "        return all(d >= 0 for d in diff) or all(d<=0 for d in diff)"
   ]
  },
  {
   "cell_type": "code",
   "execution_count": null,
   "metadata": {
    "colab": {
     "base_uri": "https://localhost:8080/",
     "height": 213
    },
    "executionInfo": {
     "elapsed": 383,
     "status": "ok",
     "timestamp": 1624341526297,
     "user": {
      "displayName": "Nhi Tran",
      "photoUrl": "https://lh3.googleusercontent.com/a-/AOh14GgeL2xyHR-N6XJQH4olH5Nesy2bRFkOT6nLyPwy=s64",
      "userId": "11498988852829301831"
     },
     "user_tz": -480
    },
    "id": "aAaB59vBjzow",
    "outputId": "d327b954-1d67-4828-ad8b-1b4ecf617bb5"
   },
   "outputs": [
    {
     "name": "stdout",
     "output_type": "stream",
     "text": [
      "Given a nested list of integers, implement an iterator to flatten it. Each \n",
      "element is either an integer, or a list -- whose elements may also be integers \n",
      "or other lists. For example, if the input is [[1,1],2,[1,1]], then the output \n",
      "is [1, 1, 2, 1, 1]. If the input is [1,[4,[6]]], then the output is [1, 4, 6]. \n"
     ]
    },
    {
     "data": {
      "text/html": [
       "<div>\n",
       "<style scoped>\n",
       "    .dataframe tbody tr th:only-of-type {\n",
       "        vertical-align: middle;\n",
       "    }\n",
       "\n",
       "    .dataframe tbody tr th {\n",
       "        vertical-align: top;\n",
       "    }\n",
       "\n",
       "    .dataframe thead th {\n",
       "        text-align: right;\n",
       "    }\n",
       "</style>\n",
       "<table border=\"1\" class=\"dataframe\">\n",
       "  <thead>\n",
       "    <tr style=\"text-align: right;\">\n",
       "      <th></th>\n",
       "      <th>Input1: list</th>\n",
       "      <th>Output: list</th>\n",
       "    </tr>\n",
       "  </thead>\n",
       "  <tbody>\n",
       "    <tr>\n",
       "      <th>Test 1:</th>\n",
       "      <td>[[1, 1], 2, [1, 1]]</td>\n",
       "      <td>[1, 1, 2, 1, 1]</td>\n",
       "    </tr>\n",
       "    <tr>\n",
       "      <th>Test 2:</th>\n",
       "      <td>[1, [4, [6]]]</td>\n",
       "      <td>[1, 4, 6]</td>\n",
       "    </tr>\n",
       "  </tbody>\n",
       "</table>\n",
       "</div>"
      ],
      "text/plain": [
       "                Input1: list     Output: list\n",
       "Test 1:  [[1, 1], 2, [1, 1]]  [1, 1, 2, 1, 1]\n",
       "Test 2:        [1, [4, [6]]]        [1, 4, 6]"
      ]
     },
     "metadata": {
      "tags": []
     },
     "output_type": "display_data"
    },
    {
     "data": {
      "text/plain": [
       "\n",
       "\u001b[1mFlatten Lists: Hard\u001b[0;0m "
      ]
     },
     "execution_count": 86,
     "metadata": {
      "tags": []
     },
     "output_type": "execute_result"
    }
   ],
   "source": [
    "eb[34]"
   ]
  },
  {
   "cell_type": "code",
   "execution_count": null,
   "metadata": {
    "colab": {
     "base_uri": "https://localhost:8080/"
    },
    "executionInfo": {
     "elapsed": 341,
     "status": "ok",
     "timestamp": 1624355057922,
     "user": {
      "displayName": "Nhi Tran",
      "photoUrl": "https://lh3.googleusercontent.com/a-/AOh14GgeL2xyHR-N6XJQH4olH5Nesy2bRFkOT6nLyPwy=s64",
      "userId": "11498988852829301831"
     },
     "user_tz": -480
    },
    "id": "SO91A90Zj03_",
    "outputId": "491fa115-fe1b-49ae-9596-eb9a5078f763"
   },
   "outputs": [
    {
     "name": "stdout",
     "output_type": "stream",
     "text": [
      "You passed 3 of the 3 tests. \n",
      "The solution is correct\n"
     ]
    }
   ],
   "source": [
    "def flatten(l, ltypes=(list, tuple)):     # data type to check : list / tuple\n",
    "    \"\"\"This function flattens all nested lists and tuples\"\"\"\n",
    "    ltype = type(l)       # Check the data type of the original data (list/tuple)\n",
    "    l = list(l)           # Convert the original data to list\n",
    "    i = 0\n",
    "    while i < len(l):\n",
    "        while isinstance(l[i], ltypes):   #isinstance return whether an object is of a specific data type (here: if the object or list or tuple) - True/False\n",
    "            if not l[i]:                  \n",
    "                l.pop(i)\n",
    "                i -= 1\n",
    "                break\n",
    "            else:                         # https://stackoverflow.com/questions/2158395/flatten-an-irregular-list-of-lists\n",
    "                l[i:i+1] = l[i]\n",
    "        i += 1\n",
    "    return ltype(l)\n",
    "\n",
    "eb[34].check(flatten)"
   ]
  },
  {
   "cell_type": "code",
   "execution_count": null,
   "metadata": {
    "colab": {
     "base_uri": "https://localhost:8080/"
    },
    "executionInfo": {
     "elapsed": 274,
     "status": "ok",
     "timestamp": 1624355840649,
     "user": {
      "displayName": "Nhi Tran",
      "photoUrl": "https://lh3.googleusercontent.com/a-/AOh14GgeL2xyHR-N6XJQH4olH5Nesy2bRFkOT6nLyPwy=s64",
      "userId": "11498988852829301831"
     },
     "user_tz": -480
    },
    "id": "3P1Ckb8TJmG3",
    "outputId": "09b3499d-703f-43a0-ba68-4ee1f72edfc2"
   },
   "outputs": [
    {
     "data": {
      "text/plain": [
       "list"
      ]
     },
     "execution_count": 50,
     "metadata": {
      "tags": []
     },
     "output_type": "execute_result"
    }
   ],
   "source": [
    "type([None])"
   ]
  },
  {
   "cell_type": "code",
   "execution_count": null,
   "metadata": {
    "id": "BQfVCZgOlRTC"
   },
   "outputs": [],
   "source": [
    "def once_flatten(l):\n",
    "    \"\"\"This function flattens the first nested list\"\"\"\n",
    "    new_l =[]\n",
    "    for i in range(len(l)):\n",
    "        if isinstance(l[i], list):\n",
    "            for j in range(len(l[i])):\n",
    "                new_l.append(l[i][j])\n",
    "        else:\n",
    "            new_l.append(l[i])\n",
    "    return new_l"
   ]
  },
  {
   "cell_type": "code",
   "execution_count": null,
   "metadata": {
    "colab": {
     "base_uri": "https://localhost:8080/"
    },
    "executionInfo": {
     "elapsed": 399,
     "status": "ok",
     "timestamp": 1624356095292,
     "user": {
      "displayName": "Nhi Tran",
      "photoUrl": "https://lh3.googleusercontent.com/a-/AOh14GgeL2xyHR-N6XJQH4olH5Nesy2bRFkOT6nLyPwy=s64",
      "userId": "11498988852829301831"
     },
     "user_tz": -480
    },
    "id": "QBv4A3oLwA9P",
    "outputId": "5c771e89-3b7d-41a7-9ea7-b716f295a71e"
   },
   "outputs": [
    {
     "name": "stdout",
     "output_type": "stream",
     "text": [
      "You passed 3 of the 3 tests. \n",
      "The solution is correct\n"
     ]
    }
   ],
   "source": [
    "def all_flatten(List):\n",
    "    \"\"\"This function flattens all nested lists\"\"\"\n",
    "    not_flat = True\n",
    "    while not_flat:                       # Scraping layer by layer from the first to the last item until no more list, \n",
    "        List = once_flatten(List)         # faster if broader but shallow nested loops      \n",
    "        if all(type(List[i])!=list for i in range(len(List))):\n",
    "            not_flat = False\n",
    "    return List \n",
    "\n",
    "eb[34].check(all_flatten)"
   ]
  },
  {
   "cell_type": "code",
   "execution_count": null,
   "metadata": {
    "colab": {
     "base_uri": "https://localhost:8080/"
    },
    "executionInfo": {
     "elapsed": 312,
     "status": "ok",
     "timestamp": 1624356242389,
     "user": {
      "displayName": "Nhi Tran",
      "photoUrl": "https://lh3.googleusercontent.com/a-/AOh14GgeL2xyHR-N6XJQH4olH5Nesy2bRFkOT6nLyPwy=s64",
      "userId": "11498988852829301831"
     },
     "user_tz": -480
    },
    "id": "GugA3X3-zYoy",
    "outputId": "2c783b8f-7f2a-4624-950c-895cd4ca4cb7"
   },
   "outputs": [
    {
     "name": "stdout",
     "output_type": "stream",
     "text": [
      "You passed 3 of the 3 tests. \n",
      "The solution is correct\n"
     ]
    }
   ],
   "source": [
    "def all_flatten2(List):\n",
    "    \"\"\"This function flattens all nested lists\"\"\"\n",
    "    not_flat = True\n",
    "    while not_flat:\n",
    "        for i in range(len(List)):                # Ensure all items before index(i) are not list before moving on\n",
    "            List[i:] = once_flatten(List[i:])\n",
    "        if all(type(List[i])!=list for i in range(len(List))):\n",
    "            not_flat = False\n",
    "    return List\n",
    "\n",
    "eb[34].check(all_flatten2)"
   ]
  },
  {
   "cell_type": "code",
   "execution_count": null,
   "metadata": {
    "colab": {
     "base_uri": "https://localhost:8080/"
    },
    "executionInfo": {
     "elapsed": 306,
     "status": "ok",
     "timestamp": 1624356651279,
     "user": {
      "displayName": "Nhi Tran",
      "photoUrl": "https://lh3.googleusercontent.com/a-/AOh14GgeL2xyHR-N6XJQH4olH5Nesy2bRFkOT6nLyPwy=s64",
      "userId": "11498988852829301831"
     },
     "user_tz": -480
    },
    "id": "0tmPOY7cDrE3",
    "outputId": "37c67b1a-0bc4-4eb1-a6ac-5b7164a53502"
   },
   "outputs": [
    {
     "name": "stdout",
     "output_type": "stream",
     "text": [
      "You passed 3 of the 3 tests. \n",
      "The solution is correct\n"
     ]
    }
   ],
   "source": [
    "def flatten2(List):           # Recursion for each element of list\n",
    "    Result = []\n",
    "    for i in range(len(List)):      # If item at index(i) is a list, perform function on item \n",
    "        if type(List[i]) == list:\n",
    "            Result += flatten(List[i])\n",
    "        else:\n",
    "            Result.append(List[i])\n",
    "    return Result\n",
    "\n",
    "eb[34].check(flatten2)"
   ]
  },
  {
   "cell_type": "code",
   "execution_count": null,
   "metadata": {
    "colab": {
     "base_uri": "https://localhost:8080/",
     "height": 199
    },
    "executionInfo": {
     "elapsed": 295,
     "status": "ok",
     "timestamp": 1624341526298,
     "user": {
      "displayName": "Nhi Tran",
      "photoUrl": "https://lh3.googleusercontent.com/a-/AOh14GgeL2xyHR-N6XJQH4olH5Nesy2bRFkOT6nLyPwy=s64",
      "userId": "11498988852829301831"
     },
     "user_tz": -480
    },
    "id": "ifD4ekO8j6fu",
    "outputId": "c5d70e79-df72-4af4-a241-0bca941692e4"
   },
   "outputs": [
    {
     "name": "stdout",
     "output_type": "stream",
     "text": [
      "Given a list of daily temperatures T, return a list such that, for each day \n",
      "in the input, tells you how many days you would have to wait until a warmer \n",
      "temperature. If there is no future day for which this is possible, put 0 \n",
      "instead. For example, given the list of temperatures T = [73, 74, 75, 71, \n",
      "69, 72, 76, 73], your output should be [1, 1, 4, 2, 1, 1, 0, 0].\n"
     ]
    },
    {
     "data": {
      "text/html": [
       "<div>\n",
       "<style scoped>\n",
       "    .dataframe tbody tr th:only-of-type {\n",
       "        vertical-align: middle;\n",
       "    }\n",
       "\n",
       "    .dataframe tbody tr th {\n",
       "        vertical-align: top;\n",
       "    }\n",
       "\n",
       "    .dataframe thead th {\n",
       "        text-align: right;\n",
       "    }\n",
       "</style>\n",
       "<table border=\"1\" class=\"dataframe\">\n",
       "  <thead>\n",
       "    <tr style=\"text-align: right;\">\n",
       "      <th></th>\n",
       "      <th>Input1: list</th>\n",
       "      <th>Output: list</th>\n",
       "    </tr>\n",
       "  </thead>\n",
       "  <tbody>\n",
       "    <tr>\n",
       "      <th>Test 1:</th>\n",
       "      <td>[73, 74, 75, 71, 69, 72, 76, 73]</td>\n",
       "      <td>[1, 1, 4, 2, 1, 1, 0, 0]</td>\n",
       "    </tr>\n",
       "  </tbody>\n",
       "</table>\n",
       "</div>"
      ],
      "text/plain": [
       "                             Input1: list              Output: list\n",
       "Test 1:  [73, 74, 75, 71, 69, 72, 76, 73]  [1, 1, 4, 2, 1, 1, 0, 0]"
      ]
     },
     "metadata": {
      "tags": []
     },
     "output_type": "display_data"
    },
    {
     "data": {
      "text/plain": [
       "\n",
       "\u001b[1mWarmer Temperature: Medium\u001b[0;0m "
      ]
     },
     "execution_count": 88,
     "metadata": {
      "tags": []
     },
     "output_type": "execute_result"
    }
   ],
   "source": [
    "eb[35]"
   ]
  },
  {
   "cell_type": "code",
   "execution_count": null,
   "metadata": {
    "colab": {
     "base_uri": "https://localhost:8080/"
    },
    "executionInfo": {
     "elapsed": 250,
     "status": "ok",
     "timestamp": 1624341526298,
     "user": {
      "displayName": "Nhi Tran",
      "photoUrl": "https://lh3.googleusercontent.com/a-/AOh14GgeL2xyHR-N6XJQH4olH5Nesy2bRFkOT6nLyPwy=s64",
      "userId": "11498988852829301831"
     },
     "user_tz": -480
    },
    "id": "LFb9RsvMj_eY",
    "outputId": "ece3dc36-5513-4944-db6c-2cb1d83d43eb"
   },
   "outputs": [
    {
     "name": "stdout",
     "output_type": "stream",
     "text": [
      "You passed 4 of the 4 tests. \n",
      "The solution is correct\n"
     ]
    }
   ],
   "source": [
    "def warmer_temperature(List):\n",
    "    \"\"\"This function returns a list of intervals between a given day and the next day with higher temperature\"\"\"\n",
    "    \n",
    "    warmer =[]\n",
    "    for i in range(len(List)):\n",
    "        D = []          # D = accumulate intervals to days with higher temperature with respect to a particular day\n",
    "        if len(List) == 1:\n",
    "            D.append(0)\n",
    "        else:\n",
    "            today = List.pop(0)           # today (reference point) is always the first item in the list, \n",
    "            for j in range(len(List)):    # once popped, the list contains only values from subsequent days\n",
    "                if max(List) > today:\n",
    "                    if List[j] > today:\n",
    "                        d = j + 1         # Identify the intervals between the reference point and the days with higher temperature\n",
    "                        D.append(d)\n",
    "                else:\n",
    "                    D.append(0)        \n",
    "        warmer.append(min(D))             # Choose the shortest interval as the correct answer\n",
    "    return warmer\n",
    "\n",
    "eb[35].check(warmer_temperature)"
   ]
  },
  {
   "cell_type": "code",
   "execution_count": null,
   "metadata": {
    "colab": {
     "base_uri": "https://localhost:8080/"
    },
    "executionInfo": {
     "elapsed": 206,
     "status": "ok",
     "timestamp": 1624341526299,
     "user": {
      "displayName": "Nhi Tran",
      "photoUrl": "https://lh3.googleusercontent.com/a-/AOh14GgeL2xyHR-N6XJQH4olH5Nesy2bRFkOT6nLyPwy=s64",
      "userId": "11498988852829301831"
     },
     "user_tz": -480
    },
    "id": "-Q0w-LUwAx-N",
    "outputId": "dda60e94-655f-4dc1-f429-3975b2676cc5"
   },
   "outputs": [
    {
     "name": "stdout",
     "output_type": "stream",
     "text": [
      "You passed 4 of the 4 tests. \n",
      "The solution is correct\n"
     ]
    }
   ],
   "source": [
    "def warmer_temperature2(List):      # Standalone\n",
    "    \"\"\"This function returns a list of intervals between a given day and the next day with higher temperature\"\"\"\n",
    "    \n",
    "    warmer = []\n",
    "    n = len(List)\n",
    "    for i in range(n):\n",
    "        today = List.pop(0)               # today (reference point) is popped from the list, leaving list of remaining days\n",
    "        if len(List) == 0:                # if remaining days = 0, append 0 since there's no comparision to be made\n",
    "            warmer.append(0)\n",
    "        else:\n",
    "            isHotter = True               \n",
    "            k = 0\n",
    "            while isHotter:               # While loop with k keeps increasing until a higher temperature is met\n",
    "                if max(List) < today:     # Pre-check, if there's no higher temperature in the remaining list, append 0\n",
    "                    warmer.append(0)\n",
    "                    isHotter = False\n",
    "                elif List[k] > today:     # Once the condition is met, force quit the loop\n",
    "                    warmer.append(k+1)\n",
    "                    isHotter = False\n",
    "                else:\n",
    "                    k+=1\n",
    "    return warmer\n",
    "\n",
    "eb[35].check(warmer_temperature2)"
   ]
  },
  {
   "cell_type": "code",
   "execution_count": null,
   "metadata": {
    "colab": {
     "base_uri": "https://localhost:8080/"
    },
    "executionInfo": {
     "elapsed": 161,
     "status": "ok",
     "timestamp": 1624341526299,
     "user": {
      "displayName": "Nhi Tran",
      "photoUrl": "https://lh3.googleusercontent.com/a-/AOh14GgeL2xyHR-N6XJQH4olH5Nesy2bRFkOT6nLyPwy=s64",
      "userId": "11498988852829301831"
     },
     "user_tz": -480
    },
    "id": "Dk5tHv1FMX-p",
    "outputId": "25d82597-8332-428b-a97f-474ac9540237"
   },
   "outputs": [
    {
     "name": "stdout",
     "output_type": "stream",
     "text": [
      "You passed 4 of the 4 tests. \n",
      "The solution is correct\n"
     ]
    }
   ],
   "source": [
    "def next_higher(List):        # Function within function, dealing with sub-problem first\n",
    "    \"\"\" This function identifies interval between the first day and the next day with higher temperature\"\"\"\n",
    "    \n",
    "    later = 0\n",
    "    n = len(List)\n",
    "    for i in range(n):\n",
    "        if List[i] > List[0]:\n",
    "            later = i\n",
    "            return later\n",
    "    return later\n",
    "\n",
    "def warmer_temperature3(List):\n",
    "    \"\"\"This function returns a list of intervals between a given day and the next day with higher temperature\"\"\"\n",
    "    \n",
    "    Full = []\n",
    "    n = len(List)\n",
    "    for i in range(len(List)):\n",
    "        subList = List[i:]\n",
    "        Full.append(next_higher(subList))     # Using next_higher to work on each subList\n",
    "    return Full\n",
    "\n",
    "eb[35].check(warmer_temperature3)"
   ]
  },
  {
   "cell_type": "code",
   "execution_count": null,
   "metadata": {
    "colab": {
     "base_uri": "https://localhost:8080/"
    },
    "executionInfo": {
     "elapsed": 118,
     "status": "ok",
     "timestamp": 1624341526301,
     "user": {
      "displayName": "Nhi Tran",
      "photoUrl": "https://lh3.googleusercontent.com/a-/AOh14GgeL2xyHR-N6XJQH4olH5Nesy2bRFkOT6nLyPwy=s64",
      "userId": "11498988852829301831"
     },
     "user_tz": -480
    },
    "id": "dtPQhpwTkHLP",
    "outputId": "b48bd802-9c63-461c-a120-52b32ccf342c"
   },
   "outputs": [
    {
     "name": "stdout",
     "output_type": "stream",
     "text": [
      "You passed 4 of the 4 tests. \n",
      "The solution is correct\n"
     ]
    }
   ],
   "source": [
    "def warmer_temperature4(List):\n",
    "    DTH=[]\n",
    "    for i in range(len(List)):\n",
    "        earliest=0\n",
    "        remaining=len(List)-i\n",
    "        while earliest<remaining:\n",
    "            if List[i]<List[earliest+i]:\n",
    "                earliest=remaining+earliest\n",
    "            else:\n",
    "                earliest=earliest+1\n",
    "        DTH.append(earliest%remaining)\n",
    "    return DTH\n",
    "\n",
    "eb[35].check(warmer_temperature4)"
   ]
  }
 ],
 "metadata": {
  "colab": {
   "collapsed_sections": [],
   "name": "Exbook_TranAnhNhi.ipynb",
   "provenance": []
  },
  "kernelspec": {
   "display_name": "Python 3",
   "language": "python",
   "name": "python3"
  },
  "language_info": {
   "codemirror_mode": {
    "name": "ipython",
    "version": 3
   },
   "file_extension": ".py",
   "mimetype": "text/x-python",
   "name": "python",
   "nbconvert_exporter": "python",
   "pygments_lexer": "ipython3",
   "version": "3.8.8"
  }
 },
 "nbformat": 4,
 "nbformat_minor": 1
}
