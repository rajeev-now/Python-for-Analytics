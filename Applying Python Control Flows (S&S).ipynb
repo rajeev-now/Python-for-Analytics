{
 "cells": [
  {
   "cell_type": "markdown",
   "metadata": {},
   "source": [
    "# Week 2 - Required Assignment\n",
    "<n>\n",
    "\n",
    "Learning objectives:\n",
    "1. Loops and iterations\n",
    "2. Conditional statements\n",
    "3. Control of Python strings"
   ]
  },
  {
   "cell_type": "markdown",
   "metadata": {},
   "source": [
    "# Question 1: Cheer Leader Chant (Extended)\n",
    "<n>\n",
    "    \n",
    "You may find that the \"Cheerleader\" program that we discussed is not yet perfect. One of the most significant flaws is that it gives wrong articles (a, an or the) for some of the letters. For example, the correct sentence should be \"Give me an I\", but the program would print \"Give me a I\". We, therefore, want to correct this mistake in the updated version of the \"Cheerleader\" program. Another change is to use uppercase when each letter is shouted out. \n",
    "    \n",
    "Write a program to incorporate these two changes in the \"Cheerleader\" program. A sample output is given below.\n",
    "    \n",
    "***Note: The usage of the articles 'a' or 'an' depends on how we pronounce a letter and not whether a letter is a vowel. In addition to the vowels A, E, I and O, other letters that have vowel sounds in pronunciation (such as F, H, L, M, N, R, S and X) also take the article 'an'. The letter U, although a vowel, is pronounced as 'yew' and hence takes the article 'a'.***"
   ]
  },
  {
   "cell_type": "raw",
   "metadata": {},
   "source": [
    "What is your name? Stephen Curry\n",
    "Give me an S: \n",
    "S!!!\n",
    "Give me a T: \n",
    "T!!!\n",
    "Give me an E: \n",
    "E!!!\n",
    "Give me a P: \n",
    "P!!!\n",
    "Give me an H: \n",
    "H!!!\n",
    "Give me an E: \n",
    "E!!!\n",
    "Give me an N: \n",
    "N!!!\n",
    "Give me a C: \n",
    "C!!!\n",
    "Give me a U: \n",
    "U!!!\n",
    "Give me an R: \n",
    "R!!!\n",
    "Give me an R: \n",
    "R!!!\n",
    "Give me a Y: \n",
    "Y!!!\n",
    "What's that spell?\n",
    "Stephen Curry!!\n",
    "Go! Go! Stephen Curry!!"
   ]
  },
  {
   "cell_type": "markdown",
   "metadata": {},
   "source": [
    "**Solution:**\n"
   ]
  },
  {
   "cell_type": "code",
   "execution_count": 7,
   "metadata": {},
   "outputs": [
    {
     "name": "stdout",
     "output_type": "stream",
     "text": [
      "What is your name? Sherlock Holmes\n",
      "Give me an S:\n",
      "S!!!\n",
      "Give me an h:\n",
      "h!!!\n",
      "Give me an e:\n",
      "e!!!\n",
      "Give me an r:\n",
      "r!!!\n",
      "Give me an l:\n",
      "l!!!\n",
      "Give me an o:\n",
      "o!!!\n",
      "Give me an c:\n",
      "c!!!\n",
      "Give me an k:\n",
      "k!!!\n",
      "Give me an H:\n",
      "H!!!\n",
      "Give me an o:\n",
      "o!!!\n",
      "Give me an l:\n",
      "l!!!\n",
      "Give me an m:\n",
      "m!!!\n",
      "Give me an e:\n",
      "e!!!\n",
      "Give me an s:\n",
      "s!!!\n",
      "What's that spell?\n",
      "Sherlock Holmes!!\n",
      "Go! Go!Sherlock Holmes!!\n"
     ]
    }
   ],
   "source": [
    "name = input(\"What is your name? \")\n",
    "\n",
    "for letter in name:\n",
    "    if letter == \" \":\n",
    "        continue\n",
    "    if(letter == 'a' or 'e' or 'i'or 'o' or 'A' or 'E' or 'I' or 'O' or 'f'or'h'or'l'or'm'or'n'or'r'or's'or'x'\n",
    "      or 'F'or 'H'or 'L'or 'M'or 'N' or 'R'or 'S'or 'K'):\n",
    "        print('Give me an '  + letter + \":\")\n",
    "        print(letter + '!!!')\n",
    "    else:\n",
    "        print('Give me a '  + letter + \":\")\n",
    "        print(letter + '!!!')\n",
    "        \n",
    "            \n",
    "            \n",
    "print(\"What's that spell?\")\n",
    "print(name + \"!!\")\n",
    "\n",
    "print(\"Go! Go!\" + name + \"!!\")\n"
   ]
  },
  {
   "cell_type": "markdown",
   "metadata": {},
   "source": [
    "#### Solution:\n",
    "\n",
    "We need to use a conditional statement to differentiate letters requiring the article \"a\" and those with the article \"an\". Notice that for both cases, there will be many letters, so it may not be a good idea to use the == operator to check if they are equal. It would be more concise and readable to use the membership operator in to check if the given letter requires \"an\"."
   ]
  },
  {
   "cell_type": "code",
   "execution_count": 11,
   "metadata": {},
   "outputs": [
    {
     "name": "stdout",
     "output_type": "stream",
     "text": [
      "What is your name? Rajeev Nitnawre\n",
      "Give me an R: \n",
      "R!!!\n",
      "Give me an A: \n",
      "A!!!\n",
      "Give me a J: \n",
      "J!!!\n",
      "Give me an E: \n",
      "E!!!\n",
      "Give me an E: \n",
      "E!!!\n",
      "Give me a V: \n",
      "V!!!\n",
      "Give me an N: \n",
      "N!!!\n",
      "Give me an I: \n",
      "I!!!\n",
      "Give me a T: \n",
      "T!!!\n",
      "Give me an N: \n",
      "N!!!\n",
      "Give me an A: \n",
      "A!!!\n",
      "Give me a W: \n",
      "W!!!\n",
      "Give me an R: \n",
      "R!!!\n",
      "Give me an E: \n",
      "E!!!\n",
      "What's that spell?\n",
      "Rajeev Nitnawre!!\n",
      "Go! Go! Rajeev Nitnawre!!\n"
     ]
    }
   ],
   "source": [
    "name = input(\"What is your name? \")\n",
    "\n",
    "letters_an = 'AEFHILMNORSX'\n",
    "for letter in name:     # Iterate each letter in name\n",
    "    if letter == ' ':\n",
    "        continue\n",
    "    \n",
    "    article = 'an' if letter.upper() in letters_an else 'a'\n",
    "        \n",
    "    print(\"Give me \" + article + ' ' + letter.upper() + \": \")\n",
    "    print(letter.upper() + \"!!!\")\n",
    "    \n",
    "    \n",
    "print(\"What's that spell?\")\n",
    "print(name + \"!!\")\n",
    "\n",
    "print(\"Go! Go! \" + name + \"!!\")"
   ]
  },
  {
   "cell_type": "markdown",
   "metadata": {},
   "source": [
    "## Question 2\n",
    "\n",
    "Write a program that asks the user to enter an integer. The program then tells whether the given integer is a palindrome. \n",
    "\n",
    "***Note: An integer is a palindrome when it reads the same backward as forward. Several examples are given as follows.***"
   ]
  },
  {
   "cell_type": "markdown",
   "metadata": {},
   "source": [
    "Enter an integer: 1211\n",
    "1211 is not a palindrome.\n",
    "\n",
    "Enter an integer: -121\n",
    "-121 is a palindrome. (Hint: Provided this is read as numeric value and not as string value)\n",
    "\n",
    "Enter an integer: 5\n",
    "5 is a palindrome."
   ]
  },
  {
   "cell_type": "markdown",
   "metadata": {},
   "source": [
    "**Solution:**"
   ]
  },
  {
   "cell_type": "code",
   "execution_count": 8,
   "metadata": {},
   "outputs": [
    {
     "name": "stdout",
     "output_type": "stream",
     "text": [
      "Enter a value: 545\n",
      "545 is a palindrome\n"
     ]
    }
   ],
   "source": [
    "number = input(\"Enter a value: \" )\n",
    "\n",
    "reverse = number[::-1] #using the slice function\n",
    "\n",
    "if (number == reverse):\n",
    "    print(str(number) + \" is a palindrome\")\n",
    "else:\n",
    "    print(str(number) + \" is not a palindrome\")\n",
    "\n"
   ]
  },
  {
   "cell_type": "code",
   "execution_count": null,
   "metadata": {},
   "outputs": [],
   "source": [
    "#SOLUTION:\n",
    "\n",
    "\n",
    "number = input('Enter an integer: ')\n",
    "\n",
    "str_abs = str(abs(int(number)))       # Take the absolute value of the number\n",
    "\n",
    "if str_abs == str_abs[::-1]:\n",
    "    print(number, 'is a palindrome')\n",
    "else:\n",
    "    print(number, 'is not a palindrome')"
   ]
  },
  {
   "cell_type": "markdown",
   "metadata": {},
   "source": [
    "## Question 3\n",
    "Write a program asking a sentence as an input from the user, and then identify the number of S's (both uppercase and lowercase) in that sentence and print the count of same. \n",
    "An example is given below:"
   ]
  },
  {
   "cell_type": "markdown",
   "metadata": {},
   "source": [
    "#### Sample Output\n",
    "Enter a sentence: Why so serious, son?\n",
    "\n",
    "The number of S's is 4"
   ]
  },
  {
   "cell_type": "markdown",
   "metadata": {},
   "source": [
    "**Solution:**"
   ]
  },
  {
   "cell_type": "code",
   "execution_count": 9,
   "metadata": {},
   "outputs": [
    {
     "name": "stdout",
     "output_type": "stream",
     "text": [
      "Enter the text: Susan, pass me the sugar sachet\n",
      "The number of S's is 6\n"
     ]
    }
   ],
   "source": [
    "s = input('Enter the text: ')\n",
    "\n",
    "def eCount(s):\n",
    "    return s.lower().count('s')\n",
    "\n",
    "print(\"The number of S's is \" + str(eCount(s)))\n",
    "\n"
   ]
  },
  {
   "cell_type": "code",
   "execution_count": null,
   "metadata": {},
   "outputs": [],
   "source": [
    "# Method 1\n",
    "\n",
    "sentence = input('Enter a sentence: ')\n",
    "\n",
    "count = 0\n",
    "while 'S' in sentence.upper():\n",
    "    count = count + 1\n",
    "    index = sentence.upper().find('S')\n",
    "    sentence = sentence[index+1:]\n",
    "\n",
    "print('The number of \"S\"s is', str(count))"
   ]
  },
  {
   "cell_type": "code",
   "execution_count": null,
   "metadata": {},
   "outputs": [],
   "source": [
    "# Method 2\n",
    "\n",
    "sentence = input('Enter a sentence: ')\n",
    "\n",
    "count = 0\n",
    "for letter in sentence.upper():\n",
    "    if letter == 'S':\n",
    "        count = count + 1\n",
    "\n",
    "print('The number of \"S\"s is', str(count))"
   ]
  },
  {
   "cell_type": "markdown",
   "metadata": {},
   "source": [
    "## Question 4\n",
    "\n",
    "Write a number guessing game. In this game, a target integer between 1 and 99 can already be set in program. The user has to enter an integer as a guess. If the entered guess is the same as the set target number, then print \"Bingo!\" and stop the program; otherwise, print \"Your guess is too small\" or \"Your guess is too large\" (comparing the guess and target numbers) as the hint for the next guess and continue the guessing game. \n",
    "\n",
    "An example with the target number set as 65 in program, is given below:"
   ]
  },
  {
   "cell_type": "markdown",
   "metadata": {},
   "source": [
    "What is your guess? \n",
    "50\n",
    "Your guess is too small.\n",
    "\n",
    "What is your guess? \n",
    "75\n",
    "Your guess is too large.\n",
    "\n",
    "What is your guess? \n",
    "62\n",
    "Your guess is too small.\n",
    "\n",
    "What is your guess? \n",
    "68\n",
    "Your guess is too large.\n",
    "\n",
    "What is your guess? \n",
    "65\n",
    "Bingo!"
   ]
  },
  {
   "cell_type": "markdown",
   "metadata": {},
   "source": [
    "**Solution:**"
   ]
  },
  {
   "cell_type": "code",
   "execution_count": 10,
   "metadata": {},
   "outputs": [
    {
     "name": "stdout",
     "output_type": "stream",
     "text": [
      "What is your guess? 78\n",
      "Your guess is too large.\n",
      "What is your guess? 65\n",
      "Your guess is too small.\n",
      "What is your guess? 70\n",
      "Your guess is too large.\n",
      "What is your guess? 69\n",
      "Bingo!\n"
     ]
    }
   ],
   "source": [
    "import random\n",
    "\n",
    "def guess(x):\n",
    "    random_number =  random.randint(1,x)\n",
    "    guess = 0\n",
    "    while guess != random_number:\n",
    "        guess = int(input(f\"What is your guess? \"))\n",
    "        if guess < random_number:\n",
    "            print(\"Your guess is too small.\")\n",
    "        elif guess > random_number:\n",
    "            print (\"Your guess is too large.\")\n",
    "    \n",
    "    print(\"Bingo!\")\n",
    "        \n",
    "        \n",
    "        \n",
    "guess(99)\n",
    "\n"
   ]
  },
  {
   "cell_type": "code",
   "execution_count": 12,
   "metadata": {},
   "outputs": [
    {
     "name": "stdout",
     "output_type": "stream",
     "text": [
      "What is your guess? 45\n",
      "Your guess is too small.\n",
      "What is your guess? 67\n",
      "Your guess is too big.\n",
      "What is your guess? 63\n",
      "Your guess is too small.\n",
      "What is your guess? 64\n",
      "Your guess is too small.\n",
      "What is your guess? 65\n",
      "Bingo!\n"
     ]
    }
   ],
   "source": [
    "target = 65\n",
    "\n",
    "while True:\n",
    "    guess = input('What is your guess? ')\n",
    "    if float(guess) < target:\n",
    "        print('Your guess is too small.')\n",
    "    elif float(guess) > target:\n",
    "        print('Your guess is too big.')\n",
    "    else:\n",
    "        print('Bingo!')\n",
    "        break"
   ]
  },
  {
   "cell_type": "code",
   "execution_count": null,
   "metadata": {},
   "outputs": [],
   "source": []
  }
 ],
 "metadata": {
  "kernelspec": {
   "display_name": "Python 3",
   "language": "python",
   "name": "python3"
  },
  "language_info": {
   "codemirror_mode": {
    "name": "ipython",
    "version": 3
   },
   "file_extension": ".py",
   "mimetype": "text/x-python",
   "name": "python",
   "nbconvert_exporter": "python",
   "pygments_lexer": "ipython3",
   "version": "3.8.8"
  }
 },
 "nbformat": 4,
 "nbformat_minor": 2
}
